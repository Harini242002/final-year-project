{
  "nbformat": 4,
  "nbformat_minor": 0,
  "metadata": {
    "colab": {
      "provenance": []
    },
    "kernelspec": {
      "name": "python3",
      "display_name": "Python 3"
    },
    "language_info": {
      "name": "python"
    }
  },
  "cells": [
    {
      "cell_type": "code",
      "execution_count": 1,
      "metadata": {
        "colab": {
          "base_uri": "https://localhost:8080/"
        },
        "id": "cKoyiuYU5pw0",
        "outputId": "da891e03-e84a-4fbc-909e-90fa7b0c129c"
      },
      "outputs": [
        {
          "output_type": "stream",
          "name": "stdout",
          "text": [
            "['.config', 'hearts.csv', 'sample_data']\n"
          ]
        }
      ],
      "source": [
        "import numpy as np\n",
        "import pandas as pd\n",
        "import matplotlib.pyplot as plt\n",
        "import seaborn as sns\n",
        "\n",
        "%matplotlib inline\n",
        "\n",
        "import os\n",
        "print(os.listdir())\n",
        "\n",
        "import warnings\n",
        "warnings.filterwarnings('ignore')"
      ]
    },
    {
      "cell_type": "code",
      "source": [
        "dataset = pd.read_csv(\"hearts.csv\")"
      ],
      "metadata": {
        "id": "90C24f5h7Flt"
      },
      "execution_count": 2,
      "outputs": []
    },
    {
      "cell_type": "code",
      "source": [
        "type(dataset)"
      ],
      "metadata": {
        "colab": {
          "base_uri": "https://localhost:8080/"
        },
        "id": "mHQHcsoQ7IZ2",
        "outputId": "f7810362-502f-4828-e89a-33b90c7e16eb"
      },
      "execution_count": 3,
      "outputs": [
        {
          "output_type": "execute_result",
          "data": {
            "text/plain": [
              "pandas.core.frame.DataFrame"
            ]
          },
          "metadata": {},
          "execution_count": 3
        }
      ]
    },
    {
      "cell_type": "code",
      "source": [
        "dataset.shape"
      ],
      "metadata": {
        "colab": {
          "base_uri": "https://localhost:8080/"
        },
        "id": "1YndYMFL7Io1",
        "outputId": "a9d8c6cf-bf4e-4b55-9bdb-25551c6a5243"
      },
      "execution_count": 4,
      "outputs": [
        {
          "output_type": "execute_result",
          "data": {
            "text/plain": [
              "(299, 14)"
            ]
          },
          "metadata": {},
          "execution_count": 4
        }
      ]
    },
    {
      "cell_type": "code",
      "source": [
        "dataset.head(5)"
      ],
      "metadata": {
        "colab": {
          "base_uri": "https://localhost:8080/",
          "height": 206
        },
        "id": "_V177MYd7I2v",
        "outputId": "2de52086-7eb8-4795-9714-d2f56cb21f40"
      },
      "execution_count": 5,
      "outputs": [
        {
          "output_type": "execute_result",
          "data": {
            "text/plain": [
              "   age  sex  cp  trestbps  chol  fbs  restecg  thalach  exang  oldpeak  slope  \\\n",
              "0   52    1   0       125   212    0        1      168      0      1.0      2   \n",
              "1   53    1   0       140   203    1        0      155      1      3.1      0   \n",
              "2   70    1   0       145   174    0        1      125      1      2.6      0   \n",
              "3   61    1   0       148   203    0        1      161      0      0.0      2   \n",
              "4   62    0   0       138   294    1        1      106      0      1.9      1   \n",
              "\n",
              "   ca  thal  target  \n",
              "0   2     3       0  \n",
              "1   0     3       0  \n",
              "2   0     3       0  \n",
              "3   1     3       0  \n",
              "4   3     2       0  "
            ],
            "text/html": [
              "\n",
              "  <div id=\"df-433d1872-d2e2-45f8-8aeb-d9d9f1767890\">\n",
              "    <div class=\"colab-df-container\">\n",
              "      <div>\n",
              "<style scoped>\n",
              "    .dataframe tbody tr th:only-of-type {\n",
              "        vertical-align: middle;\n",
              "    }\n",
              "\n",
              "    .dataframe tbody tr th {\n",
              "        vertical-align: top;\n",
              "    }\n",
              "\n",
              "    .dataframe thead th {\n",
              "        text-align: right;\n",
              "    }\n",
              "</style>\n",
              "<table border=\"1\" class=\"dataframe\">\n",
              "  <thead>\n",
              "    <tr style=\"text-align: right;\">\n",
              "      <th></th>\n",
              "      <th>age</th>\n",
              "      <th>sex</th>\n",
              "      <th>cp</th>\n",
              "      <th>trestbps</th>\n",
              "      <th>chol</th>\n",
              "      <th>fbs</th>\n",
              "      <th>restecg</th>\n",
              "      <th>thalach</th>\n",
              "      <th>exang</th>\n",
              "      <th>oldpeak</th>\n",
              "      <th>slope</th>\n",
              "      <th>ca</th>\n",
              "      <th>thal</th>\n",
              "      <th>target</th>\n",
              "    </tr>\n",
              "  </thead>\n",
              "  <tbody>\n",
              "    <tr>\n",
              "      <th>0</th>\n",
              "      <td>52</td>\n",
              "      <td>1</td>\n",
              "      <td>0</td>\n",
              "      <td>125</td>\n",
              "      <td>212</td>\n",
              "      <td>0</td>\n",
              "      <td>1</td>\n",
              "      <td>168</td>\n",
              "      <td>0</td>\n",
              "      <td>1.0</td>\n",
              "      <td>2</td>\n",
              "      <td>2</td>\n",
              "      <td>3</td>\n",
              "      <td>0</td>\n",
              "    </tr>\n",
              "    <tr>\n",
              "      <th>1</th>\n",
              "      <td>53</td>\n",
              "      <td>1</td>\n",
              "      <td>0</td>\n",
              "      <td>140</td>\n",
              "      <td>203</td>\n",
              "      <td>1</td>\n",
              "      <td>0</td>\n",
              "      <td>155</td>\n",
              "      <td>1</td>\n",
              "      <td>3.1</td>\n",
              "      <td>0</td>\n",
              "      <td>0</td>\n",
              "      <td>3</td>\n",
              "      <td>0</td>\n",
              "    </tr>\n",
              "    <tr>\n",
              "      <th>2</th>\n",
              "      <td>70</td>\n",
              "      <td>1</td>\n",
              "      <td>0</td>\n",
              "      <td>145</td>\n",
              "      <td>174</td>\n",
              "      <td>0</td>\n",
              "      <td>1</td>\n",
              "      <td>125</td>\n",
              "      <td>1</td>\n",
              "      <td>2.6</td>\n",
              "      <td>0</td>\n",
              "      <td>0</td>\n",
              "      <td>3</td>\n",
              "      <td>0</td>\n",
              "    </tr>\n",
              "    <tr>\n",
              "      <th>3</th>\n",
              "      <td>61</td>\n",
              "      <td>1</td>\n",
              "      <td>0</td>\n",
              "      <td>148</td>\n",
              "      <td>203</td>\n",
              "      <td>0</td>\n",
              "      <td>1</td>\n",
              "      <td>161</td>\n",
              "      <td>0</td>\n",
              "      <td>0.0</td>\n",
              "      <td>2</td>\n",
              "      <td>1</td>\n",
              "      <td>3</td>\n",
              "      <td>0</td>\n",
              "    </tr>\n",
              "    <tr>\n",
              "      <th>4</th>\n",
              "      <td>62</td>\n",
              "      <td>0</td>\n",
              "      <td>0</td>\n",
              "      <td>138</td>\n",
              "      <td>294</td>\n",
              "      <td>1</td>\n",
              "      <td>1</td>\n",
              "      <td>106</td>\n",
              "      <td>0</td>\n",
              "      <td>1.9</td>\n",
              "      <td>1</td>\n",
              "      <td>3</td>\n",
              "      <td>2</td>\n",
              "      <td>0</td>\n",
              "    </tr>\n",
              "  </tbody>\n",
              "</table>\n",
              "</div>\n",
              "      <button class=\"colab-df-convert\" onclick=\"convertToInteractive('df-433d1872-d2e2-45f8-8aeb-d9d9f1767890')\"\n",
              "              title=\"Convert this dataframe to an interactive table.\"\n",
              "              style=\"display:none;\">\n",
              "        \n",
              "  <svg xmlns=\"http://www.w3.org/2000/svg\" height=\"24px\"viewBox=\"0 0 24 24\"\n",
              "       width=\"24px\">\n",
              "    <path d=\"M0 0h24v24H0V0z\" fill=\"none\"/>\n",
              "    <path d=\"M18.56 5.44l.94 2.06.94-2.06 2.06-.94-2.06-.94-.94-2.06-.94 2.06-2.06.94zm-11 1L8.5 8.5l.94-2.06 2.06-.94-2.06-.94L8.5 2.5l-.94 2.06-2.06.94zm10 10l.94 2.06.94-2.06 2.06-.94-2.06-.94-.94-2.06-.94 2.06-2.06.94z\"/><path d=\"M17.41 7.96l-1.37-1.37c-.4-.4-.92-.59-1.43-.59-.52 0-1.04.2-1.43.59L10.3 9.45l-7.72 7.72c-.78.78-.78 2.05 0 2.83L4 21.41c.39.39.9.59 1.41.59.51 0 1.02-.2 1.41-.59l7.78-7.78 2.81-2.81c.8-.78.8-2.07 0-2.86zM5.41 20L4 18.59l7.72-7.72 1.47 1.35L5.41 20z\"/>\n",
              "  </svg>\n",
              "      </button>\n",
              "      \n",
              "  <style>\n",
              "    .colab-df-container {\n",
              "      display:flex;\n",
              "      flex-wrap:wrap;\n",
              "      gap: 12px;\n",
              "    }\n",
              "\n",
              "    .colab-df-convert {\n",
              "      background-color: #E8F0FE;\n",
              "      border: none;\n",
              "      border-radius: 50%;\n",
              "      cursor: pointer;\n",
              "      display: none;\n",
              "      fill: #1967D2;\n",
              "      height: 32px;\n",
              "      padding: 0 0 0 0;\n",
              "      width: 32px;\n",
              "    }\n",
              "\n",
              "    .colab-df-convert:hover {\n",
              "      background-color: #E2EBFA;\n",
              "      box-shadow: 0px 1px 2px rgba(60, 64, 67, 0.3), 0px 1px 3px 1px rgba(60, 64, 67, 0.15);\n",
              "      fill: #174EA6;\n",
              "    }\n",
              "\n",
              "    [theme=dark] .colab-df-convert {\n",
              "      background-color: #3B4455;\n",
              "      fill: #D2E3FC;\n",
              "    }\n",
              "\n",
              "    [theme=dark] .colab-df-convert:hover {\n",
              "      background-color: #434B5C;\n",
              "      box-shadow: 0px 1px 3px 1px rgba(0, 0, 0, 0.15);\n",
              "      filter: drop-shadow(0px 1px 2px rgba(0, 0, 0, 0.3));\n",
              "      fill: #FFFFFF;\n",
              "    }\n",
              "  </style>\n",
              "\n",
              "      <script>\n",
              "        const buttonEl =\n",
              "          document.querySelector('#df-433d1872-d2e2-45f8-8aeb-d9d9f1767890 button.colab-df-convert');\n",
              "        buttonEl.style.display =\n",
              "          google.colab.kernel.accessAllowed ? 'block' : 'none';\n",
              "\n",
              "        async function convertToInteractive(key) {\n",
              "          const element = document.querySelector('#df-433d1872-d2e2-45f8-8aeb-d9d9f1767890');\n",
              "          const dataTable =\n",
              "            await google.colab.kernel.invokeFunction('convertToInteractive',\n",
              "                                                     [key], {});\n",
              "          if (!dataTable) return;\n",
              "\n",
              "          const docLinkHtml = 'Like what you see? Visit the ' +\n",
              "            '<a target=\"_blank\" href=https://colab.research.google.com/notebooks/data_table.ipynb>data table notebook</a>'\n",
              "            + ' to learn more about interactive tables.';\n",
              "          element.innerHTML = '';\n",
              "          dataTable['output_type'] = 'display_data';\n",
              "          await google.colab.output.renderOutput(dataTable, element);\n",
              "          const docLink = document.createElement('div');\n",
              "          docLink.innerHTML = docLinkHtml;\n",
              "          element.appendChild(docLink);\n",
              "        }\n",
              "      </script>\n",
              "    </div>\n",
              "  </div>\n",
              "  "
            ]
          },
          "metadata": {},
          "execution_count": 5
        }
      ]
    },
    {
      "cell_type": "code",
      "source": [
        "dataset.sample(5)"
      ],
      "metadata": {
        "colab": {
          "base_uri": "https://localhost:8080/",
          "height": 206
        },
        "id": "E7T7PNWd7JC3",
        "outputId": "8b740641-c3ef-47aa-9a29-0ecbe2cabe1a"
      },
      "execution_count": 6,
      "outputs": [
        {
          "output_type": "execute_result",
          "data": {
            "text/plain": [
              "     age  sex  cp  trestbps  chol  fbs  restecg  thalach  exang  oldpeak  \\\n",
              "42    61    0   0       130   330    0        0      169      0      0.0   \n",
              "40    65    0   2       160   360    0        0      151      0      0.8   \n",
              "169   45    0   1       112   160    0        1      138      0      0.0   \n",
              "197   45    1   0       115   260    0        0      185      0      0.0   \n",
              "69    62    0   0       160   164    0        0      145      0      6.2   \n",
              "\n",
              "     slope  ca  thal  target  \n",
              "42       2   0     2       0  \n",
              "40       2   0     2       1  \n",
              "169      1   0     2       1  \n",
              "197      2   0     2       1  \n",
              "69       0   3     3       0  "
            ],
            "text/html": [
              "\n",
              "  <div id=\"df-28e3ffaa-2660-4b65-91a9-c42c138e8e25\">\n",
              "    <div class=\"colab-df-container\">\n",
              "      <div>\n",
              "<style scoped>\n",
              "    .dataframe tbody tr th:only-of-type {\n",
              "        vertical-align: middle;\n",
              "    }\n",
              "\n",
              "    .dataframe tbody tr th {\n",
              "        vertical-align: top;\n",
              "    }\n",
              "\n",
              "    .dataframe thead th {\n",
              "        text-align: right;\n",
              "    }\n",
              "</style>\n",
              "<table border=\"1\" class=\"dataframe\">\n",
              "  <thead>\n",
              "    <tr style=\"text-align: right;\">\n",
              "      <th></th>\n",
              "      <th>age</th>\n",
              "      <th>sex</th>\n",
              "      <th>cp</th>\n",
              "      <th>trestbps</th>\n",
              "      <th>chol</th>\n",
              "      <th>fbs</th>\n",
              "      <th>restecg</th>\n",
              "      <th>thalach</th>\n",
              "      <th>exang</th>\n",
              "      <th>oldpeak</th>\n",
              "      <th>slope</th>\n",
              "      <th>ca</th>\n",
              "      <th>thal</th>\n",
              "      <th>target</th>\n",
              "    </tr>\n",
              "  </thead>\n",
              "  <tbody>\n",
              "    <tr>\n",
              "      <th>42</th>\n",
              "      <td>61</td>\n",
              "      <td>0</td>\n",
              "      <td>0</td>\n",
              "      <td>130</td>\n",
              "      <td>330</td>\n",
              "      <td>0</td>\n",
              "      <td>0</td>\n",
              "      <td>169</td>\n",
              "      <td>0</td>\n",
              "      <td>0.0</td>\n",
              "      <td>2</td>\n",
              "      <td>0</td>\n",
              "      <td>2</td>\n",
              "      <td>0</td>\n",
              "    </tr>\n",
              "    <tr>\n",
              "      <th>40</th>\n",
              "      <td>65</td>\n",
              "      <td>0</td>\n",
              "      <td>2</td>\n",
              "      <td>160</td>\n",
              "      <td>360</td>\n",
              "      <td>0</td>\n",
              "      <td>0</td>\n",
              "      <td>151</td>\n",
              "      <td>0</td>\n",
              "      <td>0.8</td>\n",
              "      <td>2</td>\n",
              "      <td>0</td>\n",
              "      <td>2</td>\n",
              "      <td>1</td>\n",
              "    </tr>\n",
              "    <tr>\n",
              "      <th>169</th>\n",
              "      <td>45</td>\n",
              "      <td>0</td>\n",
              "      <td>1</td>\n",
              "      <td>112</td>\n",
              "      <td>160</td>\n",
              "      <td>0</td>\n",
              "      <td>1</td>\n",
              "      <td>138</td>\n",
              "      <td>0</td>\n",
              "      <td>0.0</td>\n",
              "      <td>1</td>\n",
              "      <td>0</td>\n",
              "      <td>2</td>\n",
              "      <td>1</td>\n",
              "    </tr>\n",
              "    <tr>\n",
              "      <th>197</th>\n",
              "      <td>45</td>\n",
              "      <td>1</td>\n",
              "      <td>0</td>\n",
              "      <td>115</td>\n",
              "      <td>260</td>\n",
              "      <td>0</td>\n",
              "      <td>0</td>\n",
              "      <td>185</td>\n",
              "      <td>0</td>\n",
              "      <td>0.0</td>\n",
              "      <td>2</td>\n",
              "      <td>0</td>\n",
              "      <td>2</td>\n",
              "      <td>1</td>\n",
              "    </tr>\n",
              "    <tr>\n",
              "      <th>69</th>\n",
              "      <td>62</td>\n",
              "      <td>0</td>\n",
              "      <td>0</td>\n",
              "      <td>160</td>\n",
              "      <td>164</td>\n",
              "      <td>0</td>\n",
              "      <td>0</td>\n",
              "      <td>145</td>\n",
              "      <td>0</td>\n",
              "      <td>6.2</td>\n",
              "      <td>0</td>\n",
              "      <td>3</td>\n",
              "      <td>3</td>\n",
              "      <td>0</td>\n",
              "    </tr>\n",
              "  </tbody>\n",
              "</table>\n",
              "</div>\n",
              "      <button class=\"colab-df-convert\" onclick=\"convertToInteractive('df-28e3ffaa-2660-4b65-91a9-c42c138e8e25')\"\n",
              "              title=\"Convert this dataframe to an interactive table.\"\n",
              "              style=\"display:none;\">\n",
              "        \n",
              "  <svg xmlns=\"http://www.w3.org/2000/svg\" height=\"24px\"viewBox=\"0 0 24 24\"\n",
              "       width=\"24px\">\n",
              "    <path d=\"M0 0h24v24H0V0z\" fill=\"none\"/>\n",
              "    <path d=\"M18.56 5.44l.94 2.06.94-2.06 2.06-.94-2.06-.94-.94-2.06-.94 2.06-2.06.94zm-11 1L8.5 8.5l.94-2.06 2.06-.94-2.06-.94L8.5 2.5l-.94 2.06-2.06.94zm10 10l.94 2.06.94-2.06 2.06-.94-2.06-.94-.94-2.06-.94 2.06-2.06.94z\"/><path d=\"M17.41 7.96l-1.37-1.37c-.4-.4-.92-.59-1.43-.59-.52 0-1.04.2-1.43.59L10.3 9.45l-7.72 7.72c-.78.78-.78 2.05 0 2.83L4 21.41c.39.39.9.59 1.41.59.51 0 1.02-.2 1.41-.59l7.78-7.78 2.81-2.81c.8-.78.8-2.07 0-2.86zM5.41 20L4 18.59l7.72-7.72 1.47 1.35L5.41 20z\"/>\n",
              "  </svg>\n",
              "      </button>\n",
              "      \n",
              "  <style>\n",
              "    .colab-df-container {\n",
              "      display:flex;\n",
              "      flex-wrap:wrap;\n",
              "      gap: 12px;\n",
              "    }\n",
              "\n",
              "    .colab-df-convert {\n",
              "      background-color: #E8F0FE;\n",
              "      border: none;\n",
              "      border-radius: 50%;\n",
              "      cursor: pointer;\n",
              "      display: none;\n",
              "      fill: #1967D2;\n",
              "      height: 32px;\n",
              "      padding: 0 0 0 0;\n",
              "      width: 32px;\n",
              "    }\n",
              "\n",
              "    .colab-df-convert:hover {\n",
              "      background-color: #E2EBFA;\n",
              "      box-shadow: 0px 1px 2px rgba(60, 64, 67, 0.3), 0px 1px 3px 1px rgba(60, 64, 67, 0.15);\n",
              "      fill: #174EA6;\n",
              "    }\n",
              "\n",
              "    [theme=dark] .colab-df-convert {\n",
              "      background-color: #3B4455;\n",
              "      fill: #D2E3FC;\n",
              "    }\n",
              "\n",
              "    [theme=dark] .colab-df-convert:hover {\n",
              "      background-color: #434B5C;\n",
              "      box-shadow: 0px 1px 3px 1px rgba(0, 0, 0, 0.15);\n",
              "      filter: drop-shadow(0px 1px 2px rgba(0, 0, 0, 0.3));\n",
              "      fill: #FFFFFF;\n",
              "    }\n",
              "  </style>\n",
              "\n",
              "      <script>\n",
              "        const buttonEl =\n",
              "          document.querySelector('#df-28e3ffaa-2660-4b65-91a9-c42c138e8e25 button.colab-df-convert');\n",
              "        buttonEl.style.display =\n",
              "          google.colab.kernel.accessAllowed ? 'block' : 'none';\n",
              "\n",
              "        async function convertToInteractive(key) {\n",
              "          const element = document.querySelector('#df-28e3ffaa-2660-4b65-91a9-c42c138e8e25');\n",
              "          const dataTable =\n",
              "            await google.colab.kernel.invokeFunction('convertToInteractive',\n",
              "                                                     [key], {});\n",
              "          if (!dataTable) return;\n",
              "\n",
              "          const docLinkHtml = 'Like what you see? Visit the ' +\n",
              "            '<a target=\"_blank\" href=https://colab.research.google.com/notebooks/data_table.ipynb>data table notebook</a>'\n",
              "            + ' to learn more about interactive tables.';\n",
              "          element.innerHTML = '';\n",
              "          dataTable['output_type'] = 'display_data';\n",
              "          await google.colab.output.renderOutput(dataTable, element);\n",
              "          const docLink = document.createElement('div');\n",
              "          docLink.innerHTML = docLinkHtml;\n",
              "          element.appendChild(docLink);\n",
              "        }\n",
              "      </script>\n",
              "    </div>\n",
              "  </div>\n",
              "  "
            ]
          },
          "metadata": {},
          "execution_count": 6
        }
      ]
    },
    {
      "cell_type": "code",
      "source": [
        "dataset.describe()"
      ],
      "metadata": {
        "colab": {
          "base_uri": "https://localhost:8080/",
          "height": 364
        },
        "id": "lSucTllT7JTR",
        "outputId": "27b84267-8890-4525-b145-10986be47434"
      },
      "execution_count": 7,
      "outputs": [
        {
          "output_type": "execute_result",
          "data": {
            "text/plain": [
              "              age         sex          cp    trestbps        chol         fbs  \\\n",
              "count  299.000000  299.000000  299.000000  299.000000  299.000000  299.000000   \n",
              "mean    53.431438    0.735786    0.949833  131.933110  247.080268    0.167224   \n",
              "std      9.510387    0.441653    1.017048   18.378082   56.828604    0.373801   \n",
              "min     29.000000    0.000000    0.000000   94.000000  126.000000    0.000000   \n",
              "25%     45.500000    0.000000    0.000000  120.000000  208.000000    0.000000   \n",
              "50%     54.000000    1.000000    1.000000  130.000000  240.000000    0.000000   \n",
              "75%     60.000000    1.000000    2.000000  140.000000  283.000000    0.000000   \n",
              "max     77.000000    1.000000    3.000000  200.000000  564.000000    1.000000   \n",
              "\n",
              "          restecg     thalach       exang    oldpeak       slope          ca  \\\n",
              "count  299.000000  299.000000  299.000000  299.00000  299.000000  299.000000   \n",
              "mean     0.491639  150.832776    0.344482    1.07592    1.421405    0.702341   \n",
              "std      0.526891   23.437740    0.475996    1.23311    0.631667    1.010861   \n",
              "min      0.000000   71.000000    0.000000    0.00000    0.000000    0.000000   \n",
              "25%      0.000000  138.000000    0.000000    0.00000    1.000000    0.000000   \n",
              "50%      0.000000  153.000000    0.000000    0.80000    1.000000    0.000000   \n",
              "75%      1.000000  168.000000    1.000000    1.60000    2.000000    1.000000   \n",
              "max      2.000000  202.000000    1.000000    6.20000    2.000000    4.000000   \n",
              "\n",
              "             thal      target  \n",
              "count  299.000000  299.000000  \n",
              "mean     2.317726    0.528428  \n",
              "std      0.598701    0.500028  \n",
              "min      0.000000    0.000000  \n",
              "25%      2.000000    0.000000  \n",
              "50%      2.000000    1.000000  \n",
              "75%      3.000000    1.000000  \n",
              "max      3.000000    1.000000  "
            ],
            "text/html": [
              "\n",
              "  <div id=\"df-69983be3-39bc-44a2-8bc2-b3abbcbf688e\">\n",
              "    <div class=\"colab-df-container\">\n",
              "      <div>\n",
              "<style scoped>\n",
              "    .dataframe tbody tr th:only-of-type {\n",
              "        vertical-align: middle;\n",
              "    }\n",
              "\n",
              "    .dataframe tbody tr th {\n",
              "        vertical-align: top;\n",
              "    }\n",
              "\n",
              "    .dataframe thead th {\n",
              "        text-align: right;\n",
              "    }\n",
              "</style>\n",
              "<table border=\"1\" class=\"dataframe\">\n",
              "  <thead>\n",
              "    <tr style=\"text-align: right;\">\n",
              "      <th></th>\n",
              "      <th>age</th>\n",
              "      <th>sex</th>\n",
              "      <th>cp</th>\n",
              "      <th>trestbps</th>\n",
              "      <th>chol</th>\n",
              "      <th>fbs</th>\n",
              "      <th>restecg</th>\n",
              "      <th>thalach</th>\n",
              "      <th>exang</th>\n",
              "      <th>oldpeak</th>\n",
              "      <th>slope</th>\n",
              "      <th>ca</th>\n",
              "      <th>thal</th>\n",
              "      <th>target</th>\n",
              "    </tr>\n",
              "  </thead>\n",
              "  <tbody>\n",
              "    <tr>\n",
              "      <th>count</th>\n",
              "      <td>299.000000</td>\n",
              "      <td>299.000000</td>\n",
              "      <td>299.000000</td>\n",
              "      <td>299.000000</td>\n",
              "      <td>299.000000</td>\n",
              "      <td>299.000000</td>\n",
              "      <td>299.000000</td>\n",
              "      <td>299.000000</td>\n",
              "      <td>299.000000</td>\n",
              "      <td>299.00000</td>\n",
              "      <td>299.000000</td>\n",
              "      <td>299.000000</td>\n",
              "      <td>299.000000</td>\n",
              "      <td>299.000000</td>\n",
              "    </tr>\n",
              "    <tr>\n",
              "      <th>mean</th>\n",
              "      <td>53.431438</td>\n",
              "      <td>0.735786</td>\n",
              "      <td>0.949833</td>\n",
              "      <td>131.933110</td>\n",
              "      <td>247.080268</td>\n",
              "      <td>0.167224</td>\n",
              "      <td>0.491639</td>\n",
              "      <td>150.832776</td>\n",
              "      <td>0.344482</td>\n",
              "      <td>1.07592</td>\n",
              "      <td>1.421405</td>\n",
              "      <td>0.702341</td>\n",
              "      <td>2.317726</td>\n",
              "      <td>0.528428</td>\n",
              "    </tr>\n",
              "    <tr>\n",
              "      <th>std</th>\n",
              "      <td>9.510387</td>\n",
              "      <td>0.441653</td>\n",
              "      <td>1.017048</td>\n",
              "      <td>18.378082</td>\n",
              "      <td>56.828604</td>\n",
              "      <td>0.373801</td>\n",
              "      <td>0.526891</td>\n",
              "      <td>23.437740</td>\n",
              "      <td>0.475996</td>\n",
              "      <td>1.23311</td>\n",
              "      <td>0.631667</td>\n",
              "      <td>1.010861</td>\n",
              "      <td>0.598701</td>\n",
              "      <td>0.500028</td>\n",
              "    </tr>\n",
              "    <tr>\n",
              "      <th>min</th>\n",
              "      <td>29.000000</td>\n",
              "      <td>0.000000</td>\n",
              "      <td>0.000000</td>\n",
              "      <td>94.000000</td>\n",
              "      <td>126.000000</td>\n",
              "      <td>0.000000</td>\n",
              "      <td>0.000000</td>\n",
              "      <td>71.000000</td>\n",
              "      <td>0.000000</td>\n",
              "      <td>0.00000</td>\n",
              "      <td>0.000000</td>\n",
              "      <td>0.000000</td>\n",
              "      <td>0.000000</td>\n",
              "      <td>0.000000</td>\n",
              "    </tr>\n",
              "    <tr>\n",
              "      <th>25%</th>\n",
              "      <td>45.500000</td>\n",
              "      <td>0.000000</td>\n",
              "      <td>0.000000</td>\n",
              "      <td>120.000000</td>\n",
              "      <td>208.000000</td>\n",
              "      <td>0.000000</td>\n",
              "      <td>0.000000</td>\n",
              "      <td>138.000000</td>\n",
              "      <td>0.000000</td>\n",
              "      <td>0.00000</td>\n",
              "      <td>1.000000</td>\n",
              "      <td>0.000000</td>\n",
              "      <td>2.000000</td>\n",
              "      <td>0.000000</td>\n",
              "    </tr>\n",
              "    <tr>\n",
              "      <th>50%</th>\n",
              "      <td>54.000000</td>\n",
              "      <td>1.000000</td>\n",
              "      <td>1.000000</td>\n",
              "      <td>130.000000</td>\n",
              "      <td>240.000000</td>\n",
              "      <td>0.000000</td>\n",
              "      <td>0.000000</td>\n",
              "      <td>153.000000</td>\n",
              "      <td>0.000000</td>\n",
              "      <td>0.80000</td>\n",
              "      <td>1.000000</td>\n",
              "      <td>0.000000</td>\n",
              "      <td>2.000000</td>\n",
              "      <td>1.000000</td>\n",
              "    </tr>\n",
              "    <tr>\n",
              "      <th>75%</th>\n",
              "      <td>60.000000</td>\n",
              "      <td>1.000000</td>\n",
              "      <td>2.000000</td>\n",
              "      <td>140.000000</td>\n",
              "      <td>283.000000</td>\n",
              "      <td>0.000000</td>\n",
              "      <td>1.000000</td>\n",
              "      <td>168.000000</td>\n",
              "      <td>1.000000</td>\n",
              "      <td>1.60000</td>\n",
              "      <td>2.000000</td>\n",
              "      <td>1.000000</td>\n",
              "      <td>3.000000</td>\n",
              "      <td>1.000000</td>\n",
              "    </tr>\n",
              "    <tr>\n",
              "      <th>max</th>\n",
              "      <td>77.000000</td>\n",
              "      <td>1.000000</td>\n",
              "      <td>3.000000</td>\n",
              "      <td>200.000000</td>\n",
              "      <td>564.000000</td>\n",
              "      <td>1.000000</td>\n",
              "      <td>2.000000</td>\n",
              "      <td>202.000000</td>\n",
              "      <td>1.000000</td>\n",
              "      <td>6.20000</td>\n",
              "      <td>2.000000</td>\n",
              "      <td>4.000000</td>\n",
              "      <td>3.000000</td>\n",
              "      <td>1.000000</td>\n",
              "    </tr>\n",
              "  </tbody>\n",
              "</table>\n",
              "</div>\n",
              "      <button class=\"colab-df-convert\" onclick=\"convertToInteractive('df-69983be3-39bc-44a2-8bc2-b3abbcbf688e')\"\n",
              "              title=\"Convert this dataframe to an interactive table.\"\n",
              "              style=\"display:none;\">\n",
              "        \n",
              "  <svg xmlns=\"http://www.w3.org/2000/svg\" height=\"24px\"viewBox=\"0 0 24 24\"\n",
              "       width=\"24px\">\n",
              "    <path d=\"M0 0h24v24H0V0z\" fill=\"none\"/>\n",
              "    <path d=\"M18.56 5.44l.94 2.06.94-2.06 2.06-.94-2.06-.94-.94-2.06-.94 2.06-2.06.94zm-11 1L8.5 8.5l.94-2.06 2.06-.94-2.06-.94L8.5 2.5l-.94 2.06-2.06.94zm10 10l.94 2.06.94-2.06 2.06-.94-2.06-.94-.94-2.06-.94 2.06-2.06.94z\"/><path d=\"M17.41 7.96l-1.37-1.37c-.4-.4-.92-.59-1.43-.59-.52 0-1.04.2-1.43.59L10.3 9.45l-7.72 7.72c-.78.78-.78 2.05 0 2.83L4 21.41c.39.39.9.59 1.41.59.51 0 1.02-.2 1.41-.59l7.78-7.78 2.81-2.81c.8-.78.8-2.07 0-2.86zM5.41 20L4 18.59l7.72-7.72 1.47 1.35L5.41 20z\"/>\n",
              "  </svg>\n",
              "      </button>\n",
              "      \n",
              "  <style>\n",
              "    .colab-df-container {\n",
              "      display:flex;\n",
              "      flex-wrap:wrap;\n",
              "      gap: 12px;\n",
              "    }\n",
              "\n",
              "    .colab-df-convert {\n",
              "      background-color: #E8F0FE;\n",
              "      border: none;\n",
              "      border-radius: 50%;\n",
              "      cursor: pointer;\n",
              "      display: none;\n",
              "      fill: #1967D2;\n",
              "      height: 32px;\n",
              "      padding: 0 0 0 0;\n",
              "      width: 32px;\n",
              "    }\n",
              "\n",
              "    .colab-df-convert:hover {\n",
              "      background-color: #E2EBFA;\n",
              "      box-shadow: 0px 1px 2px rgba(60, 64, 67, 0.3), 0px 1px 3px 1px rgba(60, 64, 67, 0.15);\n",
              "      fill: #174EA6;\n",
              "    }\n",
              "\n",
              "    [theme=dark] .colab-df-convert {\n",
              "      background-color: #3B4455;\n",
              "      fill: #D2E3FC;\n",
              "    }\n",
              "\n",
              "    [theme=dark] .colab-df-convert:hover {\n",
              "      background-color: #434B5C;\n",
              "      box-shadow: 0px 1px 3px 1px rgba(0, 0, 0, 0.15);\n",
              "      filter: drop-shadow(0px 1px 2px rgba(0, 0, 0, 0.3));\n",
              "      fill: #FFFFFF;\n",
              "    }\n",
              "  </style>\n",
              "\n",
              "      <script>\n",
              "        const buttonEl =\n",
              "          document.querySelector('#df-69983be3-39bc-44a2-8bc2-b3abbcbf688e button.colab-df-convert');\n",
              "        buttonEl.style.display =\n",
              "          google.colab.kernel.accessAllowed ? 'block' : 'none';\n",
              "\n",
              "        async function convertToInteractive(key) {\n",
              "          const element = document.querySelector('#df-69983be3-39bc-44a2-8bc2-b3abbcbf688e');\n",
              "          const dataTable =\n",
              "            await google.colab.kernel.invokeFunction('convertToInteractive',\n",
              "                                                     [key], {});\n",
              "          if (!dataTable) return;\n",
              "\n",
              "          const docLinkHtml = 'Like what you see? Visit the ' +\n",
              "            '<a target=\"_blank\" href=https://colab.research.google.com/notebooks/data_table.ipynb>data table notebook</a>'\n",
              "            + ' to learn more about interactive tables.';\n",
              "          element.innerHTML = '';\n",
              "          dataTable['output_type'] = 'display_data';\n",
              "          await google.colab.output.renderOutput(dataTable, element);\n",
              "          const docLink = document.createElement('div');\n",
              "          docLink.innerHTML = docLinkHtml;\n",
              "          element.appendChild(docLink);\n",
              "        }\n",
              "      </script>\n",
              "    </div>\n",
              "  </div>\n",
              "  "
            ]
          },
          "metadata": {},
          "execution_count": 7
        }
      ]
    },
    {
      "cell_type": "code",
      "source": [
        "dataset.info()\n"
      ],
      "metadata": {
        "colab": {
          "base_uri": "https://localhost:8080/"
        },
        "id": "j_hu3H2Q71px",
        "outputId": "750ebd2f-844b-4ad0-cf97-29280e51dce5"
      },
      "execution_count": 8,
      "outputs": [
        {
          "output_type": "stream",
          "name": "stdout",
          "text": [
            "<class 'pandas.core.frame.DataFrame'>\n",
            "RangeIndex: 299 entries, 0 to 298\n",
            "Data columns (total 14 columns):\n",
            " #   Column    Non-Null Count  Dtype  \n",
            "---  ------    --------------  -----  \n",
            " 0   age       299 non-null    int64  \n",
            " 1   sex       299 non-null    int64  \n",
            " 2   cp        299 non-null    int64  \n",
            " 3   trestbps  299 non-null    int64  \n",
            " 4   chol      299 non-null    int64  \n",
            " 5   fbs       299 non-null    int64  \n",
            " 6   restecg   299 non-null    int64  \n",
            " 7   thalach   299 non-null    int64  \n",
            " 8   exang     299 non-null    int64  \n",
            " 9   oldpeak   299 non-null    float64\n",
            " 10  slope     299 non-null    int64  \n",
            " 11  ca        299 non-null    int64  \n",
            " 12  thal      299 non-null    int64  \n",
            " 13  target    299 non-null    int64  \n",
            "dtypes: float64(1), int64(13)\n",
            "memory usage: 32.8 KB\n"
          ]
        }
      ]
    },
    {
      "cell_type": "code",
      "source": [
        "info = [\"age\",\"1: male, 0: female\",\"chest pain type, 1: typical angina, 2: atypical angina, 3: non-anginal pain, 4: asymptomatic\",\"resting blood pressure\",\" serum cholestoral in mg/dl\",\"fasting blood sugar > 120 mg/dl\",\"resting electrocardiographic results (values 0,1,2)\",\" maximum heart rate achieved\",\"exercise induced angina\",\"oldpeak = ST depression induced by exercise relative to rest\",\"the slope of the peak exercise ST segment\",\"number of major vessels (0-3) colored by flourosopy\",\"thal: 3 = normal; 6 = fixed defect; 7 = reversable defect\"]\n",
        "\n",
        "\n",
        "\n",
        "for i in range(len(info)):\n",
        "    print(dataset.columns[i]+\":\\t\\t\\t\"+info[i])\n",
        "    "
      ],
      "metadata": {
        "colab": {
          "base_uri": "https://localhost:8080/"
        },
        "id": "D3xEb5yG7_hU",
        "outputId": "7682de85-f33e-47f9-d21d-8e028e368c1c"
      },
      "execution_count": 9,
      "outputs": [
        {
          "output_type": "stream",
          "name": "stdout",
          "text": [
            "age:\t\t\tage\n",
            "sex:\t\t\t1: male, 0: female\n",
            "cp:\t\t\tchest pain type, 1: typical angina, 2: atypical angina, 3: non-anginal pain, 4: asymptomatic\n",
            "trestbps:\t\t\tresting blood pressure\n",
            "chol:\t\t\t serum cholestoral in mg/dl\n",
            "fbs:\t\t\tfasting blood sugar > 120 mg/dl\n",
            "restecg:\t\t\tresting electrocardiographic results (values 0,1,2)\n",
            "thalach:\t\t\t maximum heart rate achieved\n",
            "exang:\t\t\texercise induced angina\n",
            "oldpeak:\t\t\toldpeak = ST depression induced by exercise relative to rest\n",
            "slope:\t\t\tthe slope of the peak exercise ST segment\n",
            "ca:\t\t\tnumber of major vessels (0-3) colored by flourosopy\n",
            "thal:\t\t\tthal: 3 = normal; 6 = fixed defect; 7 = reversable defect\n"
          ]
        }
      ]
    },
    {
      "cell_type": "code",
      "source": [
        "dataset[\"target\"].describe()"
      ],
      "metadata": {
        "colab": {
          "base_uri": "https://localhost:8080/"
        },
        "id": "Zo9uAfXm7_m8",
        "outputId": "a48393e1-b56b-47de-d302-43a317a03122"
      },
      "execution_count": 10,
      "outputs": [
        {
          "output_type": "execute_result",
          "data": {
            "text/plain": [
              "count    299.000000\n",
              "mean       0.528428\n",
              "std        0.500028\n",
              "min        0.000000\n",
              "25%        0.000000\n",
              "50%        1.000000\n",
              "75%        1.000000\n",
              "max        1.000000\n",
              "Name: target, dtype: float64"
            ]
          },
          "metadata": {},
          "execution_count": 10
        }
      ]
    },
    {
      "cell_type": "code",
      "source": [
        "dataset[\"target\"].unique()"
      ],
      "metadata": {
        "colab": {
          "base_uri": "https://localhost:8080/"
        },
        "id": "PxwQSBm07_5y",
        "outputId": "3d9ee88f-040a-403d-c02b-23faafd12e7c"
      },
      "execution_count": 11,
      "outputs": [
        {
          "output_type": "execute_result",
          "data": {
            "text/plain": [
              "array([0, 1])"
            ]
          },
          "metadata": {},
          "execution_count": 11
        }
      ]
    },
    {
      "cell_type": "code",
      "source": [
        "print(dataset.corr()[\"target\"].abs().sort_values(ascending=False))"
      ],
      "metadata": {
        "colab": {
          "base_uri": "https://localhost:8080/"
        },
        "id": "pirCrKvC8AHl",
        "outputId": "6dd0b7b2-3496-4a63-e2a6-680be9db5f80"
      },
      "execution_count": 12,
      "outputs": [
        {
          "output_type": "stream",
          "name": "stdout",
          "text": [
            "target      1.000000\n",
            "cp          0.520799\n",
            "exang       0.499499\n",
            "oldpeak     0.498495\n",
            "thalach     0.488035\n",
            "slope       0.429414\n",
            "ca          0.391497\n",
            "thal        0.327320\n",
            "age         0.268972\n",
            "sex         0.246987\n",
            "restecg     0.169671\n",
            "trestbps    0.161560\n",
            "fbs         0.079380\n",
            "chol        0.037752\n",
            "Name: target, dtype: float64\n"
          ]
        }
      ]
    },
    {
      "cell_type": "code",
      "source": [
        "y = dataset[\"target\"]\n",
        "\n",
        "sns.countplot(y)\n",
        "\n",
        "\n",
        "target_temp = dataset.target.value_counts()\n",
        "\n",
        "print(target_temp)"
      ],
      "metadata": {
        "colab": {
          "base_uri": "https://localhost:8080/",
          "height": 331
        },
        "id": "--GqzvBv8W_8",
        "outputId": "08f6521f-7dbf-48c7-ee9f-e1358bf9d45f"
      },
      "execution_count": 13,
      "outputs": [
        {
          "output_type": "stream",
          "name": "stdout",
          "text": [
            "1    158\n",
            "0    141\n",
            "Name: target, dtype: int64\n"
          ]
        },
        {
          "output_type": "display_data",
          "data": {
            "text/plain": [
              "<Figure size 432x288 with 1 Axes>"
            ],
            "image/png": "[encoded data removed]"
          },
          "metadata": {
            "needs_background": "light"
          }
        }
      ]
    },
    {
      "cell_type": "code",
      "source": [
        "print(\"Percentage of patience without heart problems: \"+str(round(target_temp[0]*100/300,2)))\n",
        "print(\"Percentage of patience with heart problems: \"+str(round(target_temp[1]*100/300,2)))\n"
      ],
      "metadata": {
        "colab": {
          "base_uri": "https://localhost:8080/"
        },
        "id": "NZaHRz5B8XKH",
        "outputId": "7d062e94-1a62-44da-c4bf-4022afeff938"
      },
      "execution_count": 14,
      "outputs": [
        {
          "output_type": "stream",
          "name": "stdout",
          "text": [
            "Percentage of patience without heart problems: 47.0\n",
            "Percentage of patience with heart problems: 52.67\n"
          ]
        }
      ]
    },
    {
      "cell_type": "code",
      "source": [
        "dataset[\"sex\"].unique()"
      ],
      "metadata": {
        "colab": {
          "base_uri": "https://localhost:8080/"
        },
        "id": "1_qQNdZc8XNj",
        "outputId": "b5c83a2d-fc1b-4444-f392-c0196c0161c4"
      },
      "execution_count": 15,
      "outputs": [
        {
          "output_type": "execute_result",
          "data": {
            "text/plain": [
              "array([1, 0])"
            ]
          },
          "metadata": {},
          "execution_count": 15
        }
      ]
    },
    {
      "cell_type": "code",
      "source": [
        "sns.barplot(dataset[\"sex\"],y)"
      ],
      "metadata": {
        "colab": {
          "base_uri": "https://localhost:8080/",
          "height": 296
        },
        "id": "OuH8REBz8XQS",
        "outputId": "fadd7a64-5609-4a8f-ef2e-5b1d40041b2d"
      },
      "execution_count": 16,
      "outputs": [
        {
          "output_type": "execute_result",
          "data": {
            "text/plain": [
              "<matplotlib.axes._subplots.AxesSubplot at 0x7f528e9a9970>"
            ]
          },
          "metadata": {},
          "execution_count": 16
        },
        {
          "output_type": "display_data",
          "data": {
            "text/plain": [
              "<Figure size 432x288 with 1 Axes>"
            ],
            "image/png": "[encoded data removed]"
          },
          "metadata": {
            "needs_background": "light"
          }
        }
      ]
    },
    {
      "cell_type": "code",
      "source": [
        "dataset[\"cp\"].unique()"
      ],
      "metadata": {
        "colab": {
          "base_uri": "https://localhost:8080/"
        },
        "id": "Hs1M2YEC8XTC",
        "outputId": "075bf6d6-24ff-4c24-f4b0-3ff8877b4ee7"
      },
      "execution_count": 17,
      "outputs": [
        {
          "output_type": "execute_result",
          "data": {
            "text/plain": [
              "array([0, 1, 2, 3])"
            ]
          },
          "metadata": {},
          "execution_count": 17
        }
      ]
    },
    {
      "cell_type": "code",
      "source": [
        "sns.barplot(dataset[\"cp\"],y)"
      ],
      "metadata": {
        "colab": {
          "base_uri": "https://localhost:8080/",
          "height": 296
        },
        "id": "DYaLnGe88XV9",
        "outputId": "785f5d75-16e0-448b-86b0-76d38c377544"
      },
      "execution_count": 18,
      "outputs": [
        {
          "output_type": "execute_result",
          "data": {
            "text/plain": [
              "<matplotlib.axes._subplots.AxesSubplot at 0x7f528e4da700>"
            ]
          },
          "metadata": {},
          "execution_count": 18
        },
        {
          "output_type": "display_data",
          "data": {
            "text/plain": [
              "<Figure size 432x288 with 1 Axes>"
            ],
            "image/png": "[encoded data removed]"
          },
          "metadata": {
            "needs_background": "light"
          }
        }
      ]
    },
    {
      "cell_type": "code",
      "source": [
        "dataset[\"fbs\"].describe()"
      ],
      "metadata": {
        "colab": {
          "base_uri": "https://localhost:8080/"
        },
        "id": "-V0fBU7y8XYt",
        "outputId": "724c289b-ff1f-4e13-f133-edce798bc253"
      },
      "execution_count": 19,
      "outputs": [
        {
          "output_type": "execute_result",
          "data": {
            "text/plain": [
              "count    299.000000\n",
              "mean       0.167224\n",
              "std        0.373801\n",
              "min        0.000000\n",
              "25%        0.000000\n",
              "50%        0.000000\n",
              "75%        0.000000\n",
              "max        1.000000\n",
              "Name: fbs, dtype: float64"
            ]
          },
          "metadata": {},
          "execution_count": 19
        }
      ]
    },
    {
      "cell_type": "code",
      "source": [
        "dataset[\"fbs\"].unique()"
      ],
      "metadata": {
        "colab": {
          "base_uri": "https://localhost:8080/"
        },
        "id": "r807x7IU8Xbf",
        "outputId": "f69ff12d-0828-4aae-f207-2ccd0869cfc5"
      },
      "execution_count": 20,
      "outputs": [
        {
          "output_type": "execute_result",
          "data": {
            "text/plain": [
              "array([0, 1])"
            ]
          },
          "metadata": {},
          "execution_count": 20
        }
      ]
    },
    {
      "cell_type": "code",
      "source": [
        "sns.barplot(dataset[\"fbs\"],y)"
      ],
      "metadata": {
        "colab": {
          "base_uri": "https://localhost:8080/",
          "height": 296
        },
        "id": "N6ONNmaU8XeE",
        "outputId": "e4a6cfeb-d2b5-4806-b412-a94a3ff8ec1f"
      },
      "execution_count": 21,
      "outputs": [
        {
          "output_type": "execute_result",
          "data": {
            "text/plain": [
              "<matplotlib.axes._subplots.AxesSubplot at 0x7f528e4b8100>"
            ]
          },
          "metadata": {},
          "execution_count": 21
        },
        {
          "output_type": "display_data",
          "data": {
            "text/plain": [
              "<Figure size 432x288 with 1 Axes>"
            ],
            "image/png": "[encoded data removed]"
          },
          "metadata": {
            "needs_background": "light"
          }
        }
      ]
    },
    {
      "cell_type": "code",
      "source": [
        "dataset[\"restecg\"].unique()"
      ],
      "metadata": {
        "colab": {
          "base_uri": "https://localhost:8080/"
        },
        "id": "weXXZfdn8Xg7",
        "outputId": "26c7471d-daa5-4d52-ad0e-44e2a277d14e"
      },
      "execution_count": 22,
      "outputs": [
        {
          "output_type": "execute_result",
          "data": {
            "text/plain": [
              "array([1, 0, 2])"
            ]
          },
          "metadata": {},
          "execution_count": 22
        }
      ]
    },
    {
      "cell_type": "code",
      "source": [
        "sns.barplot(dataset[\"restecg\"],y)"
      ],
      "metadata": {
        "colab": {
          "base_uri": "https://localhost:8080/",
          "height": 296
        },
        "id": "UpveFqeQ8Xjq",
        "outputId": "155fbe4e-5500-4ede-919d-d4407710c239"
      },
      "execution_count": 23,
      "outputs": [
        {
          "output_type": "execute_result",
          "data": {
            "text/plain": [
              "<matplotlib.axes._subplots.AxesSubplot at 0x7f528e4952e0>"
            ]
          },
          "metadata": {},
          "execution_count": 23
        },
        {
          "output_type": "display_data",
          "data": {
            "text/plain": [
              "<Figure size 432x288 with 1 Axes>"
            ],
            "image/png": "[encoded data removed]"
          },
          "metadata": {
            "needs_background": "light"
          }
        }
      ]
    },
    {
      "cell_type": "code",
      "source": [
        "dataset[\"exang\"].unique()"
      ],
      "metadata": {
        "colab": {
          "base_uri": "https://localhost:8080/"
        },
        "id": "94EyPGSr8Xm-",
        "outputId": "26e76a7b-35ee-4ab6-eda5-3452467e411e"
      },
      "execution_count": 24,
      "outputs": [
        {
          "output_type": "execute_result",
          "data": {
            "text/plain": [
              "array([0, 1])"
            ]
          },
          "metadata": {},
          "execution_count": 24
        }
      ]
    },
    {
      "cell_type": "code",
      "source": [
        "sns.barplot(dataset[\"exang\"],y)"
      ],
      "metadata": {
        "colab": {
          "base_uri": "https://localhost:8080/",
          "height": 298
        },
        "id": "W8IOscsj94w9",
        "outputId": "f420d77e-7906-489f-85ed-c748aab140f4"
      },
      "execution_count": 25,
      "outputs": [
        {
          "output_type": "execute_result",
          "data": {
            "text/plain": [
              "<matplotlib.axes._subplots.AxesSubplot at 0x7f528ea5cb50>"
            ]
          },
          "metadata": {},
          "execution_count": 25
        },
        {
          "output_type": "display_data",
          "data": {
            "text/plain": [
              "<Figure size 432x288 with 1 Axes>"
            ],
            "image/png": "[encoded data removed]"
          },
          "metadata": {
            "needs_background": "light"
          }
        }
      ]
    },
    {
      "cell_type": "code",
      "source": [
        "dataset[\"slope\"].unique()"
      ],
      "metadata": {
        "colab": {
          "base_uri": "https://localhost:8080/"
        },
        "id": "ZewKbOvX944q",
        "outputId": "56dfe3bf-68c9-4ccd-8b08-5097007b4005"
      },
      "execution_count": 26,
      "outputs": [
        {
          "output_type": "execute_result",
          "data": {
            "text/plain": [
              "array([2, 0, 1])"
            ]
          },
          "metadata": {},
          "execution_count": 26
        }
      ]
    },
    {
      "cell_type": "code",
      "source": [
        "sns.barplot(dataset[\"slope\"],y)"
      ],
      "metadata": {
        "colab": {
          "base_uri": "https://localhost:8080/",
          "height": 296
        },
        "id": "oYG9bByn947k",
        "outputId": "bfb3abf7-f1be-4a33-eee9-295040cde245"
      },
      "execution_count": 27,
      "outputs": [
        {
          "output_type": "execute_result",
          "data": {
            "text/plain": [
              "<matplotlib.axes._subplots.AxesSubplot at 0x7f528e3dd6a0>"
            ]
          },
          "metadata": {},
          "execution_count": 27
        },
        {
          "output_type": "display_data",
          "data": {
            "text/plain": [
              "<Figure size 432x288 with 1 Axes>"
            ],
            "image/png": "[encoded data removed]"
          },
          "metadata": {
            "needs_background": "light"
          }
        }
      ]
    },
    {
      "cell_type": "code",
      "source": [
        "dataset[\"ca\"].unique()"
      ],
      "metadata": {
        "colab": {
          "base_uri": "https://localhost:8080/"
        },
        "id": "ZRvJHkRn94-Z",
        "outputId": "7d58db52-3446-4bda-fc2c-4ff16b66cb83"
      },
      "execution_count": 28,
      "outputs": [
        {
          "output_type": "execute_result",
          "data": {
            "text/plain": [
              "array([2, 0, 1, 3, 4])"
            ]
          },
          "metadata": {},
          "execution_count": 28
        }
      ]
    },
    {
      "cell_type": "code",
      "source": [
        "sns.countplot(dataset[\"ca\"])"
      ],
      "metadata": {
        "colab": {
          "base_uri": "https://localhost:8080/",
          "height": 296
        },
        "id": "TYooeFTl95BA",
        "outputId": "deafacfe-d143-4d91-ca6d-826034dbe4ce"
      },
      "execution_count": 29,
      "outputs": [
        {
          "output_type": "execute_result",
          "data": {
            "text/plain": [
              "<matplotlib.axes._subplots.AxesSubplot at 0x7f528e3d5790>"
            ]
          },
          "metadata": {},
          "execution_count": 29
        },
        {
          "output_type": "display_data",
          "data": {
            "text/plain": [
              "<Figure size 432x288 with 1 Axes>"
            ],
            "image/png": "[encoded data removed]"
          },
          "metadata": {
            "needs_background": "light"
          }
        }
      ]
    },
    {
      "cell_type": "code",
      "source": [
        "sns.barplot(dataset[\"ca\"],y)"
      ],
      "metadata": {
        "colab": {
          "base_uri": "https://localhost:8080/",
          "height": 296
        },
        "id": "Ov5C5ylp95Di",
        "outputId": "e488b8d7-d371-4dfa-fada-0f23ea5e285c"
      },
      "execution_count": 30,
      "outputs": [
        {
          "output_type": "execute_result",
          "data": {
            "text/plain": [
              "<matplotlib.axes._subplots.AxesSubplot at 0x7f528e334cd0>"
            ]
          },
          "metadata": {},
          "execution_count": 30
        },
        {
          "output_type": "display_data",
          "data": {
            "text/plain": [
              "<Figure size 432x288 with 1 Axes>"
            ],
            "image/png": "[encoded data removed]"
          },
          "metadata": {
            "needs_background": "light"
          }
        }
      ]
    },
    {
      "cell_type": "code",
      "source": [
        "dataset[\"thal\"].unique()"
      ],
      "metadata": {
        "colab": {
          "base_uri": "https://localhost:8080/"
        },
        "id": "wJwxJ-B095Fi",
        "outputId": "2667f838-bd2c-4ab6-d156-ba3392517aed"
      },
      "execution_count": 31,
      "outputs": [
        {
          "output_type": "execute_result",
          "data": {
            "text/plain": [
              "array([3, 2, 1, 0])"
            ]
          },
          "metadata": {},
          "execution_count": 31
        }
      ]
    },
    {
      "cell_type": "code",
      "source": [
        "sns.barplot(dataset[\"thal\"],y)"
      ],
      "metadata": {
        "colab": {
          "base_uri": "https://localhost:8080/",
          "height": 296
        },
        "id": "FLkRbFQB95JO",
        "outputId": "ed0cfff8-9e36-4312-9e0c-70e6888927be"
      },
      "execution_count": 32,
      "outputs": [
        {
          "output_type": "execute_result",
          "data": {
            "text/plain": [
              "<matplotlib.axes._subplots.AxesSubplot at 0x7f528e299220>"
            ]
          },
          "metadata": {},
          "execution_count": 32
        },
        {
          "output_type": "display_data",
          "data": {
            "text/plain": [
              "<Figure size 432x288 with 1 Axes>"
            ],
            "image/png": "[encoded data removed]"
          },
          "metadata": {
            "needs_background": "light"
          }
        }
      ]
    },
    {
      "cell_type": "code",
      "source": [
        "sns.distplot(dataset[\"thal\"])"
      ],
      "metadata": {
        "colab": {
          "base_uri": "https://localhost:8080/",
          "height": 296
        },
        "id": "9l3O11NX-WY5",
        "outputId": "143242be-076f-4135-f005-15560ed236c3"
      },
      "execution_count": 33,
      "outputs": [
        {
          "output_type": "execute_result",
          "data": {
            "text/plain": [
              "<matplotlib.axes._subplots.AxesSubplot at 0x7f528e322520>"
            ]
          },
          "metadata": {},
          "execution_count": 33
        },
        {
          "output_type": "display_data",
          "data": {
            "text/plain": [
              "<Figure size 432x288 with 1 Axes>"
            ],
            "image/png": "[encoded data removed]"
          },
          "metadata": {
            "needs_background": "light"
          }
        }
      ]
    },
    {
      "cell_type": "code",
      "source": [
        "from sklearn.model_selection import train_test_split\n",
        "\n",
        "predictors = dataset.drop(\"target\",axis=1)\n",
        "target = dataset[\"target\"]\n",
        "\n",
        "X_train,X_test,Y_train,Y_test = train_test_split(predictors,target,test_size=0.20,random_state=0)"
      ],
      "metadata": {
        "id": "15N8TdyA-WiN"
      },
      "execution_count": 34,
      "outputs": []
    },
    {
      "cell_type": "code",
      "source": [
        "X_train.shape"
      ],
      "metadata": {
        "colab": {
          "base_uri": "https://localhost:8080/"
        },
        "id": "jJG10S_8-Wkz",
        "outputId": "fb996cd2-fc0b-4fbe-d740-0b3470975b28"
      },
      "execution_count": 35,
      "outputs": [
        {
          "output_type": "execute_result",
          "data": {
            "text/plain": [
              "(239, 13)"
            ]
          },
          "metadata": {},
          "execution_count": 35
        }
      ]
    },
    {
      "cell_type": "code",
      "source": [
        "X_test.shape"
      ],
      "metadata": {
        "colab": {
          "base_uri": "https://localhost:8080/"
        },
        "id": "V5UqcY8p-Wnj",
        "outputId": "1cde5b5d-7f72-43a4-da79-a9f84534b635"
      },
      "execution_count": 36,
      "outputs": [
        {
          "output_type": "execute_result",
          "data": {
            "text/plain": [
              "(60, 13)"
            ]
          },
          "metadata": {},
          "execution_count": 36
        }
      ]
    },
    {
      "cell_type": "code",
      "source": [
        "Y_train.shape"
      ],
      "metadata": {
        "colab": {
          "base_uri": "https://localhost:8080/"
        },
        "id": "veYiRgvy-Wp_",
        "outputId": "19f54a3e-ab21-41a4-d815-ba28bca619a2"
      },
      "execution_count": 37,
      "outputs": [
        {
          "output_type": "execute_result",
          "data": {
            "text/plain": [
              "(239,)"
            ]
          },
          "metadata": {},
          "execution_count": 37
        }
      ]
    },
    {
      "cell_type": "code",
      "source": [
        "Y_test.shape"
      ],
      "metadata": {
        "colab": {
          "base_uri": "https://localhost:8080/"
        },
        "id": "9YsqrwoT-Wta",
        "outputId": "2d41880c-fdf3-4f58-f44d-a6edd485e5df"
      },
      "execution_count": 38,
      "outputs": [
        {
          "output_type": "execute_result",
          "data": {
            "text/plain": [
              "(60,)"
            ]
          },
          "metadata": {},
          "execution_count": 38
        }
      ]
    },
    {
      "cell_type": "code",
      "source": [
        "from sklearn.metrics import accuracy_score"
      ],
      "metadata": {
        "id": "1eozOm5B95Mh"
      },
      "execution_count": 39,
      "outputs": []
    },
    {
      "cell_type": "code",
      "source": [
        "#logistic regression\n",
        "from sklearn.linear_model import LogisticRegression\n",
        "\n",
        "lr = LogisticRegression()\n",
        "\n",
        "lr.fit(X_train,Y_train)\n",
        "\n",
        "Y_pred_lr = lr.predict(X_test)"
      ],
      "metadata": {
        "id": "XXmpktm8_DqC"
      },
      "execution_count": 40,
      "outputs": []
    },
    {
      "cell_type": "code",
      "source": [
        "Y_pred_lr.shape"
      ],
      "metadata": {
        "colab": {
          "base_uri": "https://localhost:8080/"
        },
        "id": "BKKDX-B3_Dst",
        "outputId": "6daa5aa3-0d4c-44e0-dd05-b08c003e88ad"
      },
      "execution_count": 41,
      "outputs": [
        {
          "output_type": "execute_result",
          "data": {
            "text/plain": [
              "(60,)"
            ]
          },
          "metadata": {},
          "execution_count": 41
        }
      ]
    },
    {
      "cell_type": "code",
      "source": [
        "score_lr = round(accuracy_score(Y_pred_lr,Y_test)*100,2)\n",
        "\n",
        "print(\"The accuracy score achieved using Logistic Regression is: \"+str(score_lr)+\" %\")"
      ],
      "metadata": {
        "colab": {
          "base_uri": "https://localhost:8080/"
        },
        "id": "jTztnrYW_DvM",
        "outputId": "352bce30-065b-45a5-fcc3-cec11c8811a6"
      },
      "execution_count": 42,
      "outputs": [
        {
          "output_type": "stream",
          "name": "stdout",
          "text": [
            "The accuracy score achieved using Logistic Regression is: 83.33 %\n"
          ]
        }
      ]
    },
    {
      "cell_type": "code",
      "source": [
        "#naive bayes\n",
        "from sklearn.naive_bayes import GaussianNB\n",
        "\n",
        "nb = GaussianNB()\n",
        "\n",
        "nb.fit(X_train,Y_train)\n",
        "\n",
        "Y_pred_nb = nb.predict(X_test)"
      ],
      "metadata": {
        "id": "mvPiOPK8_Dxz"
      },
      "execution_count": 43,
      "outputs": []
    },
    {
      "cell_type": "code",
      "source": [
        "Y_pred_nb.shape\n"
      ],
      "metadata": {
        "colab": {
          "base_uri": "https://localhost:8080/"
        },
        "id": "-1dDVM5b_D0I",
        "outputId": "e9fe5222-b7b2-4145-b57a-9e333bc07f40"
      },
      "execution_count": 44,
      "outputs": [
        {
          "output_type": "execute_result",
          "data": {
            "text/plain": [
              "(60,)"
            ]
          },
          "metadata": {},
          "execution_count": 44
        }
      ]
    },
    {
      "cell_type": "code",
      "source": [
        "score_nb = round(accuracy_score(Y_pred_nb,Y_test)*100,2)\n",
        "\n",
        "print(\"The accuracy score achieved using Naive Bayes is: \"+str(score_nb)+\" %\")"
      ],
      "metadata": {
        "colab": {
          "base_uri": "https://localhost:8080/"
        },
        "id": "aC9v-7oM_D2s",
        "outputId": "565dc40e-bea7-4ffd-df6c-1b1c6ffb3c98"
      },
      "execution_count": 45,
      "outputs": [
        {
          "output_type": "stream",
          "name": "stdout",
          "text": [
            "The accuracy score achieved using Naive Bayes is: 80.0 %\n"
          ]
        }
      ]
    },
    {
      "cell_type": "code",
      "source": [
        "#svm\n",
        "from sklearn import svm\n",
        "\n",
        "sv = svm.SVC(kernel='linear')\n",
        "\n",
        "sv.fit(X_train, Y_train)\n",
        "\n",
        "Y_pred_svm = sv.predict(X_test)"
      ],
      "metadata": {
        "id": "GaovW8g2_D4_"
      },
      "execution_count": 46,
      "outputs": []
    },
    {
      "cell_type": "code",
      "source": [
        "Y_pred_svm.shape"
      ],
      "metadata": {
        "colab": {
          "base_uri": "https://localhost:8080/"
        },
        "id": "oh13ehsu_D7j",
        "outputId": "729d2389-f9e7-408b-a616-9acc8850fb9c"
      },
      "execution_count": 47,
      "outputs": [
        {
          "output_type": "execute_result",
          "data": {
            "text/plain": [
              "(60,)"
            ]
          },
          "metadata": {},
          "execution_count": 47
        }
      ]
    },
    {
      "cell_type": "code",
      "source": [
        "score_svm = round(accuracy_score(Y_pred_svm,Y_test)*100,2)\n",
        "\n",
        "print(\"The accuracy score achieved using Linear SVM is: \"+str(score_svm)+\" %\")\n"
      ],
      "metadata": {
        "colab": {
          "base_uri": "https://localhost:8080/"
        },
        "id": "H0F8at8I_D-y",
        "outputId": "93938990-4e4a-4d6a-c824-1d356e00f45e"
      },
      "execution_count": 48,
      "outputs": [
        {
          "output_type": "stream",
          "name": "stdout",
          "text": [
            "The accuracy score achieved using Linear SVM is: 83.33 %\n"
          ]
        }
      ]
    },
    {
      "cell_type": "code",
      "source": [
        "#k nearest neighbors\n",
        "from sklearn.neighbors import KNeighborsClassifier\n",
        "\n",
        "knn = KNeighborsClassifier(n_neighbors=7)\n",
        "knn.fit(X_train,Y_train)\n",
        "Y_pred_knn=knn.predict(X_test)"
      ],
      "metadata": {
        "id": "7wGGtQq9ACyd"
      },
      "execution_count": 49,
      "outputs": []
    },
    {
      "cell_type": "code",
      "source": [
        "Y_pred_knn.shape"
      ],
      "metadata": {
        "colab": {
          "base_uri": "https://localhost:8080/"
        },
        "id": "Zq7a5tY-AC0-",
        "outputId": "0fd302ba-9b8a-43eb-c1cd-9b0eff9a1b64"
      },
      "execution_count": 50,
      "outputs": [
        {
          "output_type": "execute_result",
          "data": {
            "text/plain": [
              "(60,)"
            ]
          },
          "metadata": {},
          "execution_count": 50
        }
      ]
    },
    {
      "cell_type": "code",
      "source": [
        "score_knn = round(accuracy_score(Y_pred_knn,Y_test)*100,2)\n",
        "\n",
        "print(\"The accuracy score achieved using KNN is: \"+str(score_knn)+\" %\")\n"
      ],
      "metadata": {
        "colab": {
          "base_uri": "https://localhost:8080/"
        },
        "id": "2zBC3RY5AC3z",
        "outputId": "b32e405d-3593-4170-dcdc-93554ddb9bed"
      },
      "execution_count": 51,
      "outputs": [
        {
          "output_type": "stream",
          "name": "stdout",
          "text": [
            "The accuracy score achieved using KNN is: 70.0 %\n"
          ]
        }
      ]
    },
    {
      "cell_type": "code",
      "source": [
        "#decision tree\n",
        "from sklearn.tree import DecisionTreeClassifier\n",
        "\n",
        "max_accuracy = 0\n",
        "\n",
        "\n",
        "for x in range(200):\n",
        "    dt = DecisionTreeClassifier(random_state=x)\n",
        "    dt.fit(X_train,Y_train)\n",
        "    Y_pred_dt = dt.predict(X_test)\n",
        "    current_accuracy = round(accuracy_score(Y_pred_dt,Y_test)*100,2)\n",
        "    if(current_accuracy>max_accuracy):\n",
        "        max_accuracy = current_accuracy\n",
        "        best_x = x\n",
        "        \n",
        "#print(max_accuracy)\n",
        "#print(best_x)\n",
        "\n",
        "\n",
        "dt = DecisionTreeClassifier(random_state=best_x)\n",
        "dt.fit(X_train,Y_train)\n",
        "Y_pred_dt = dt.predict(X_test)"
      ],
      "metadata": {
        "id": "GqXiQYb7AC6Q"
      },
      "execution_count": 52,
      "outputs": []
    },
    {
      "cell_type": "code",
      "source": [
        "print(Y_pred_dt.shape)"
      ],
      "metadata": {
        "colab": {
          "base_uri": "https://localhost:8080/"
        },
        "id": "M-2OUOSNAC81",
        "outputId": "3e0639fd-de46-43de-bcaa-d829270b313f"
      },
      "execution_count": 53,
      "outputs": [
        {
          "output_type": "stream",
          "name": "stdout",
          "text": [
            "(60,)\n"
          ]
        }
      ]
    },
    {
      "cell_type": "code",
      "source": [
        "score_dt = round(accuracy_score(Y_pred_dt,Y_test)*100,2)\n",
        "\n",
        "print(\"The accuracy score achieved using Decision Tree is: \"+str(score_dt)+\" %\")"
      ],
      "metadata": {
        "colab": {
          "base_uri": "https://localhost:8080/"
        },
        "id": "MTCkkllXAC_Z",
        "outputId": "d9f1b7a8-2114-41be-ea12-8b1f8930917b"
      },
      "execution_count": 54,
      "outputs": [
        {
          "output_type": "stream",
          "name": "stdout",
          "text": [
            "The accuracy score achieved using Decision Tree is: 86.67 %\n"
          ]
        }
      ]
    },
    {
      "cell_type": "code",
      "source": [
        "#random forest\n",
        "from sklearn.ensemble import RandomForestClassifier\n",
        "\n",
        "max_accuracy = 0\n",
        "\n",
        "\n",
        "for x in range(500):\n",
        "    rf = RandomForestClassifier(random_state=x)\n",
        "    rf.fit(X_train,Y_train)\n",
        "    Y_pred_rf = rf.predict(X_test)\n",
        "    current_accuracy = round(accuracy_score(Y_pred_rf,Y_test)*100,2)\n",
        "    if(current_accuracy>max_accuracy):\n",
        "        max_accuracy = current_accuracy\n",
        "        best_x = x\n",
        "        \n",
        "#print(max_accuracy)\n",
        "#print(best_x)\n",
        "\n",
        "rf = RandomForestClassifier(random_state=best_x)\n",
        "rf.fit(X_train,Y_train)\n",
        "Y_pred_rf = rf.predict(X_test)"
      ],
      "metadata": {
        "id": "jPwlZQ9kAkfs"
      },
      "execution_count": 57,
      "outputs": []
    },
    {
      "cell_type": "code",
      "source": [
        "Y_pred_rf.shape"
      ],
      "metadata": {
        "colab": {
          "base_uri": "https://localhost:8080/"
        },
        "id": "Kr9SzuFfAkiS",
        "outputId": "743c138c-5975-4310-f4cf-f2676edfd863"
      },
      "execution_count": 58,
      "outputs": [
        {
          "output_type": "execute_result",
          "data": {
            "text/plain": [
              "(60,)"
            ]
          },
          "metadata": {},
          "execution_count": 58
        }
      ]
    },
    {
      "cell_type": "code",
      "source": [
        "score_rf = round(accuracy_score(Y_pred_rf,Y_test)*100,2)\n",
        "\n",
        "print(\"The accuracy score achieved using Decision Tree is: \"+str(score_rf)+\" %\")\n"
      ],
      "metadata": {
        "colab": {
          "base_uri": "https://localhost:8080/"
        },
        "id": "tCJfxzphAkk4",
        "outputId": "def99b03-d462-479f-ae70-9e5b550b8055"
      },
      "execution_count": 59,
      "outputs": [
        {
          "output_type": "stream",
          "name": "stdout",
          "text": [
            "The accuracy score achieved using Decision Tree is: 93.33 %\n"
          ]
        }
      ]
    },
    {
      "cell_type": "code",
      "source": [
        "#xg boost\n",
        "import xgboost as xgb\n",
        "\n",
        "xgb_model = xgb.XGBClassifier(objective=\"binary:logistic\", random_state=42)\n",
        "xgb_model.fit(X_train, Y_train)\n",
        "\n",
        "Y_pred_xgb = xgb_model.predict(X_test)\n"
      ],
      "metadata": {
        "id": "RlQ15fNoAkoS"
      },
      "execution_count": 60,
      "outputs": []
    },
    {
      "cell_type": "code",
      "source": [
        "Y_pred_xgb.shape"
      ],
      "metadata": {
        "colab": {
          "base_uri": "https://localhost:8080/"
        },
        "id": "MVbKOsYUADB9",
        "outputId": "7750ccbe-7e49-45be-df42-86590ccce5e3"
      },
      "execution_count": 61,
      "outputs": [
        {
          "output_type": "execute_result",
          "data": {
            "text/plain": [
              "(60,)"
            ]
          },
          "metadata": {},
          "execution_count": 61
        }
      ]
    },
    {
      "cell_type": "code",
      "source": [
        "score_xgb = round(accuracy_score(Y_pred_xgb,Y_test)*100,2)\n",
        "\n",
        "print(\"The accuracy score achieved using XGBoost is: \"+str(score_xgb)+\" %\")\n"
      ],
      "metadata": {
        "colab": {
          "base_uri": "https://localhost:8080/"
        },
        "id": "d_VZv4paCAGn",
        "outputId": "f74e1494-fcc0-4cbf-c72c-2047c4058cfa"
      },
      "execution_count": 62,
      "outputs": [
        {
          "output_type": "stream",
          "name": "stdout",
          "text": [
            "The accuracy score achieved using XGBoost is: 91.67 %\n"
          ]
        }
      ]
    },
    {
      "cell_type": "code",
      "source": [
        "#neural network\n",
        "from keras.models import Sequential\n",
        "from keras.layers import Dense"
      ],
      "metadata": {
        "id": "HGMZPeUKCAUn"
      },
      "execution_count": 63,
      "outputs": []
    },
    {
      "cell_type": "code",
      "source": [
        "model = Sequential()\n",
        "model.add(Dense(11,activation='relu',input_dim=13))\n",
        "model.add(Dense(1,activation='sigmoid'))\n",
        "\n",
        "model.compile(loss='binary_crossentropy',optimizer='adam',metrics=['accuracy'])\n"
      ],
      "metadata": {
        "id": "vR5FBS_KCAdc"
      },
      "execution_count": 64,
      "outputs": []
    },
    {
      "cell_type": "code",
      "source": [
        "model.fit(X_train,Y_train,epochs=1000)"
      ],
      "metadata": {
        "colab": {
          "base_uri": "https://localhost:8080/"
        },
        "id": "zeErCTINCAg1",
        "outputId": "fa04d9c8-4316-4b3e-c246-7d52a49f7408"
      },
      "execution_count": 65,
      "outputs": [
        {
          "output_type": "stream",
          "name": "stdout",
          "text": [
            "Epoch 1/1000\n",
            "8/8 [==============================] - 1s 3ms/step - loss: 62.1245 - accuracy: 0.5230\n",
            "Epoch 2/1000\n",
            "8/8 [==============================] - 0s 3ms/step - loss: 55.7580 - accuracy: 0.5230\n",
            "Epoch 3/1000\n",
            "8/8 [==============================] - 0s 2ms/step - loss: 49.4809 - accuracy: 0.5230\n",
            "Epoch 4/1000\n",
            "8/8 [==============================] - 0s 2ms/step - loss: 43.5209 - accuracy: 0.5230\n",
            "Epoch 5/1000\n",
            "8/8 [==============================] - 0s 2ms/step - loss: 37.6329 - accuracy: 0.5230\n",
            "Epoch 6/1000\n",
            "8/8 [==============================] - 0s 2ms/step - loss: 31.8483 - accuracy: 0.5230\n",
            "Epoch 7/1000\n",
            "8/8 [==============================] - 0s 2ms/step - loss: 26.2284 - accuracy: 0.5230\n",
            "Epoch 8/1000\n",
            "8/8 [==============================] - 0s 3ms/step - loss: 20.2473 - accuracy: 0.5230\n",
            "Epoch 9/1000\n",
            "8/8 [==============================] - 0s 2ms/step - loss: 14.3546 - accuracy: 0.5230\n",
            "Epoch 10/1000\n",
            "8/8 [==============================] - 0s 3ms/step - loss: 8.5990 - accuracy: 0.5481\n",
            "Epoch 11/1000\n",
            "8/8 [==============================] - 0s 2ms/step - loss: 4.1626 - accuracy: 0.5690\n",
            "Epoch 12/1000\n",
            "8/8 [==============================] - 0s 2ms/step - loss: 3.1524 - accuracy: 0.5690\n",
            "Epoch 13/1000\n",
            "8/8 [==============================] - 0s 2ms/step - loss: 3.2769 - accuracy: 0.6025\n",
            "Epoch 14/1000\n",
            "8/8 [==============================] - 0s 3ms/step - loss: 2.9932 - accuracy: 0.5983\n",
            "Epoch 15/1000\n",
            "8/8 [==============================] - 0s 2ms/step - loss: 2.8596 - accuracy: 0.6025\n",
            "Epoch 16/1000\n",
            "8/8 [==============================] - 0s 3ms/step - loss: 2.8991 - accuracy: 0.5858\n",
            "Epoch 17/1000\n",
            "8/8 [==============================] - 0s 2ms/step - loss: 2.8177 - accuracy: 0.5900\n",
            "Epoch 18/1000\n",
            "8/8 [==============================] - 0s 2ms/step - loss: 2.7409 - accuracy: 0.6192\n",
            "Epoch 19/1000\n",
            "8/8 [==============================] - 0s 3ms/step - loss: 2.6867 - accuracy: 0.6276\n",
            "Epoch 20/1000\n",
            "8/8 [==============================] - 0s 3ms/step - loss: 2.6484 - accuracy: 0.6151\n",
            "Epoch 21/1000\n",
            "8/8 [==============================] - 0s 2ms/step - loss: 2.6062 - accuracy: 0.6151\n",
            "Epoch 22/1000\n",
            "8/8 [==============================] - 0s 2ms/step - loss: 2.5626 - accuracy: 0.6151\n",
            "Epoch 23/1000\n",
            "8/8 [==============================] - 0s 2ms/step - loss: 2.5153 - accuracy: 0.6276\n",
            "Epoch 24/1000\n",
            "8/8 [==============================] - 0s 2ms/step - loss: 2.4719 - accuracy: 0.6276\n",
            "Epoch 25/1000\n",
            "8/8 [==============================] - 0s 2ms/step - loss: 2.4326 - accuracy: 0.6234\n",
            "Epoch 26/1000\n",
            "8/8 [==============================] - 0s 2ms/step - loss: 2.3955 - accuracy: 0.6234\n",
            "Epoch 27/1000\n",
            "8/8 [==============================] - 0s 2ms/step - loss: 2.3594 - accuracy: 0.6192\n",
            "Epoch 28/1000\n",
            "8/8 [==============================] - 0s 3ms/step - loss: 2.3155 - accuracy: 0.6192\n",
            "Epoch 29/1000\n",
            "8/8 [==============================] - 0s 2ms/step - loss: 2.2700 - accuracy: 0.6192\n",
            "Epoch 30/1000\n",
            "8/8 [==============================] - 0s 2ms/step - loss: 2.2271 - accuracy: 0.6234\n",
            "Epoch 31/1000\n",
            "8/8 [==============================] - 0s 2ms/step - loss: 2.1882 - accuracy: 0.6318\n",
            "Epoch 32/1000\n",
            "8/8 [==============================] - 0s 2ms/step - loss: 2.1557 - accuracy: 0.6360\n",
            "Epoch 33/1000\n",
            "8/8 [==============================] - 0s 2ms/step - loss: 2.1522 - accuracy: 0.6234\n",
            "Epoch 34/1000\n",
            "8/8 [==============================] - 0s 2ms/step - loss: 2.0739 - accuracy: 0.6192\n",
            "Epoch 35/1000\n",
            "8/8 [==============================] - 0s 2ms/step - loss: 2.0301 - accuracy: 0.6360\n",
            "Epoch 36/1000\n",
            "8/8 [==============================] - 0s 2ms/step - loss: 1.9995 - accuracy: 0.6276\n",
            "Epoch 37/1000\n",
            "8/8 [==============================] - 0s 2ms/step - loss: 1.9517 - accuracy: 0.6402\n",
            "Epoch 38/1000\n",
            "8/8 [==============================] - 0s 2ms/step - loss: 1.9194 - accuracy: 0.6527\n",
            "Epoch 39/1000\n",
            "8/8 [==============================] - 0s 3ms/step - loss: 1.8788 - accuracy: 0.6402\n",
            "Epoch 40/1000\n",
            "8/8 [==============================] - 0s 3ms/step - loss: 1.8470 - accuracy: 0.6402\n",
            "Epoch 41/1000\n",
            "8/8 [==============================] - 0s 3ms/step - loss: 1.8146 - accuracy: 0.6485\n",
            "Epoch 42/1000\n",
            "8/8 [==============================] - 0s 2ms/step - loss: 1.7844 - accuracy: 0.6444\n",
            "Epoch 43/1000\n",
            "8/8 [==============================] - 0s 2ms/step - loss: 1.7406 - accuracy: 0.6485\n",
            "Epoch 44/1000\n",
            "8/8 [==============================] - 0s 3ms/step - loss: 1.7060 - accuracy: 0.6611\n",
            "Epoch 45/1000\n",
            "8/8 [==============================] - 0s 3ms/step - loss: 1.6745 - accuracy: 0.6569\n",
            "Epoch 46/1000\n",
            "8/8 [==============================] - 0s 3ms/step - loss: 1.6444 - accuracy: 0.6653\n",
            "Epoch 47/1000\n",
            "8/8 [==============================] - 0s 2ms/step - loss: 1.6149 - accuracy: 0.6736\n",
            "Epoch 48/1000\n",
            "8/8 [==============================] - 0s 2ms/step - loss: 1.5891 - accuracy: 0.6820\n",
            "Epoch 49/1000\n",
            "8/8 [==============================] - 0s 2ms/step - loss: 1.5627 - accuracy: 0.6778\n",
            "Epoch 50/1000\n",
            "8/8 [==============================] - 0s 2ms/step - loss: 1.5261 - accuracy: 0.6904\n",
            "Epoch 51/1000\n",
            "8/8 [==============================] - 0s 3ms/step - loss: 1.5009 - accuracy: 0.6862\n",
            "Epoch 52/1000\n",
            "8/8 [==============================] - 0s 3ms/step - loss: 1.4872 - accuracy: 0.6862\n",
            "Epoch 53/1000\n",
            "8/8 [==============================] - 0s 2ms/step - loss: 1.4454 - accuracy: 0.6987\n",
            "Epoch 54/1000\n",
            "8/8 [==============================] - 0s 2ms/step - loss: 1.4246 - accuracy: 0.7029\n",
            "Epoch 55/1000\n",
            "8/8 [==============================] - 0s 3ms/step - loss: 1.3925 - accuracy: 0.7238\n",
            "Epoch 56/1000\n",
            "8/8 [==============================] - 0s 2ms/step - loss: 1.3722 - accuracy: 0.7113\n",
            "Epoch 57/1000\n",
            "8/8 [==============================] - 0s 3ms/step - loss: 1.3417 - accuracy: 0.7197\n",
            "Epoch 58/1000\n",
            "8/8 [==============================] - 0s 3ms/step - loss: 1.3225 - accuracy: 0.7113\n",
            "Epoch 59/1000\n",
            "8/8 [==============================] - 0s 3ms/step - loss: 1.3001 - accuracy: 0.7197\n",
            "Epoch 60/1000\n",
            "8/8 [==============================] - 0s 2ms/step - loss: 1.2804 - accuracy: 0.7155\n",
            "Epoch 61/1000\n",
            "8/8 [==============================] - 0s 2ms/step - loss: 1.2525 - accuracy: 0.7238\n",
            "Epoch 62/1000\n",
            "8/8 [==============================] - 0s 2ms/step - loss: 1.2320 - accuracy: 0.7364\n",
            "Epoch 63/1000\n",
            "8/8 [==============================] - 0s 3ms/step - loss: 1.2111 - accuracy: 0.7029\n",
            "Epoch 64/1000\n",
            "8/8 [==============================] - 0s 3ms/step - loss: 1.1929 - accuracy: 0.7197\n",
            "Epoch 65/1000\n",
            "8/8 [==============================] - 0s 2ms/step - loss: 1.1733 - accuracy: 0.7238\n",
            "Epoch 66/1000\n",
            "8/8 [==============================] - 0s 2ms/step - loss: 1.1518 - accuracy: 0.7238\n",
            "Epoch 67/1000\n",
            "8/8 [==============================] - 0s 2ms/step - loss: 1.1351 - accuracy: 0.7197\n",
            "Epoch 68/1000\n",
            "8/8 [==============================] - 0s 3ms/step - loss: 1.1196 - accuracy: 0.7238\n",
            "Epoch 69/1000\n",
            "8/8 [==============================] - 0s 2ms/step - loss: 1.1062 - accuracy: 0.7406\n",
            "Epoch 70/1000\n",
            "8/8 [==============================] - 0s 2ms/step - loss: 1.0785 - accuracy: 0.7364\n",
            "Epoch 71/1000\n",
            "8/8 [==============================] - 0s 2ms/step - loss: 1.1017 - accuracy: 0.7280\n",
            "Epoch 72/1000\n",
            "8/8 [==============================] - 0s 2ms/step - loss: 1.0519 - accuracy: 0.7448\n",
            "Epoch 73/1000\n",
            "8/8 [==============================] - 0s 2ms/step - loss: 1.0491 - accuracy: 0.7699\n",
            "Epoch 74/1000\n",
            "8/8 [==============================] - 0s 2ms/step - loss: 1.0099 - accuracy: 0.7406\n",
            "Epoch 75/1000\n",
            "8/8 [==============================] - 0s 3ms/step - loss: 1.0183 - accuracy: 0.7406\n",
            "Epoch 76/1000\n",
            "8/8 [==============================] - 0s 2ms/step - loss: 1.0098 - accuracy: 0.7531\n",
            "Epoch 77/1000\n",
            "8/8 [==============================] - 0s 3ms/step - loss: 0.9815 - accuracy: 0.7531\n",
            "Epoch 78/1000\n",
            "8/8 [==============================] - 0s 2ms/step - loss: 0.9815 - accuracy: 0.7490\n",
            "Epoch 79/1000\n",
            "8/8 [==============================] - 0s 2ms/step - loss: 0.9772 - accuracy: 0.7531\n",
            "Epoch 80/1000\n",
            "8/8 [==============================] - 0s 2ms/step - loss: 0.9507 - accuracy: 0.7573\n",
            "Epoch 81/1000\n",
            "8/8 [==============================] - 0s 2ms/step - loss: 0.9277 - accuracy: 0.7615\n",
            "Epoch 82/1000\n",
            "8/8 [==============================] - 0s 2ms/step - loss: 0.9085 - accuracy: 0.7573\n",
            "Epoch 83/1000\n",
            "8/8 [==============================] - 0s 2ms/step - loss: 0.9112 - accuracy: 0.7573\n",
            "Epoch 84/1000\n",
            "8/8 [==============================] - 0s 3ms/step - loss: 0.8925 - accuracy: 0.7615\n",
            "Epoch 85/1000\n",
            "8/8 [==============================] - 0s 3ms/step - loss: 0.8772 - accuracy: 0.7615\n",
            "Epoch 86/1000\n",
            "8/8 [==============================] - 0s 2ms/step - loss: 0.8651 - accuracy: 0.7573\n",
            "Epoch 87/1000\n",
            "8/8 [==============================] - 0s 2ms/step - loss: 0.8487 - accuracy: 0.7699\n",
            "Epoch 88/1000\n",
            "8/8 [==============================] - 0s 2ms/step - loss: 0.8407 - accuracy: 0.7741\n",
            "Epoch 89/1000\n",
            "8/8 [==============================] - 0s 2ms/step - loss: 0.8222 - accuracy: 0.7657\n",
            "Epoch 90/1000\n",
            "8/8 [==============================] - 0s 3ms/step - loss: 0.8254 - accuracy: 0.7657\n",
            "Epoch 91/1000\n",
            "8/8 [==============================] - 0s 3ms/step - loss: 0.8155 - accuracy: 0.7741\n",
            "Epoch 92/1000\n",
            "8/8 [==============================] - 0s 3ms/step - loss: 0.7932 - accuracy: 0.7657\n",
            "Epoch 93/1000\n",
            "8/8 [==============================] - 0s 2ms/step - loss: 0.7904 - accuracy: 0.7782\n",
            "Epoch 94/1000\n",
            "8/8 [==============================] - 0s 2ms/step - loss: 0.7736 - accuracy: 0.7615\n",
            "Epoch 95/1000\n",
            "8/8 [==============================] - 0s 2ms/step - loss: 0.7654 - accuracy: 0.7824\n",
            "Epoch 96/1000\n",
            "8/8 [==============================] - 0s 3ms/step - loss: 0.7625 - accuracy: 0.7741\n",
            "Epoch 97/1000\n",
            "8/8 [==============================] - 0s 3ms/step - loss: 0.7530 - accuracy: 0.7741\n",
            "Epoch 98/1000\n",
            "8/8 [==============================] - 0s 2ms/step - loss: 0.7326 - accuracy: 0.7699\n",
            "Epoch 99/1000\n",
            "8/8 [==============================] - 0s 2ms/step - loss: 0.7381 - accuracy: 0.7741\n",
            "Epoch 100/1000\n",
            "8/8 [==============================] - 0s 2ms/step - loss: 0.7202 - accuracy: 0.7950\n",
            "Epoch 101/1000\n",
            "8/8 [==============================] - 0s 2ms/step - loss: 0.7497 - accuracy: 0.7741\n",
            "Epoch 102/1000\n",
            "8/8 [==============================] - 0s 2ms/step - loss: 0.6913 - accuracy: 0.7824\n",
            "Epoch 103/1000\n",
            "8/8 [==============================] - 0s 2ms/step - loss: 0.7122 - accuracy: 0.7866\n",
            "Epoch 104/1000\n",
            "8/8 [==============================] - 0s 2ms/step - loss: 0.7259 - accuracy: 0.7950\n",
            "Epoch 105/1000\n",
            "8/8 [==============================] - 0s 2ms/step - loss: 0.7463 - accuracy: 0.7615\n",
            "Epoch 106/1000\n",
            "8/8 [==============================] - 0s 2ms/step - loss: 0.6644 - accuracy: 0.7782\n",
            "Epoch 107/1000\n",
            "8/8 [==============================] - 0s 2ms/step - loss: 0.6763 - accuracy: 0.7908\n",
            "Epoch 108/1000\n",
            "8/8 [==============================] - 0s 2ms/step - loss: 0.6566 - accuracy: 0.8117\n",
            "Epoch 109/1000\n",
            "8/8 [==============================] - 0s 3ms/step - loss: 0.6499 - accuracy: 0.7866\n",
            "Epoch 110/1000\n",
            "8/8 [==============================] - 0s 3ms/step - loss: 0.6501 - accuracy: 0.7908\n",
            "Epoch 111/1000\n",
            "8/8 [==============================] - 0s 2ms/step - loss: 0.6273 - accuracy: 0.7992\n",
            "Epoch 112/1000\n",
            "8/8 [==============================] - 0s 2ms/step - loss: 0.6191 - accuracy: 0.7950\n",
            "Epoch 113/1000\n",
            "8/8 [==============================] - 0s 2ms/step - loss: 0.6094 - accuracy: 0.8033\n",
            "Epoch 114/1000\n",
            "8/8 [==============================] - 0s 2ms/step - loss: 0.6099 - accuracy: 0.7950\n",
            "Epoch 115/1000\n",
            "8/8 [==============================] - 0s 2ms/step - loss: 0.5877 - accuracy: 0.8117\n",
            "Epoch 116/1000\n",
            "8/8 [==============================] - 0s 2ms/step - loss: 0.6143 - accuracy: 0.7992\n",
            "Epoch 117/1000\n",
            "8/8 [==============================] - 0s 4ms/step - loss: 0.5932 - accuracy: 0.8075\n",
            "Epoch 118/1000\n",
            "8/8 [==============================] - 0s 3ms/step - loss: 0.5833 - accuracy: 0.8033\n",
            "Epoch 119/1000\n",
            "8/8 [==============================] - 0s 3ms/step - loss: 0.5670 - accuracy: 0.8159\n",
            "Epoch 120/1000\n",
            "8/8 [==============================] - 0s 3ms/step - loss: 0.5645 - accuracy: 0.8159\n",
            "Epoch 121/1000\n",
            "8/8 [==============================] - 0s 2ms/step - loss: 0.5603 - accuracy: 0.8075\n",
            "Epoch 122/1000\n",
            "8/8 [==============================] - 0s 2ms/step - loss: 0.5469 - accuracy: 0.8159\n",
            "Epoch 123/1000\n",
            "8/8 [==============================] - 0s 4ms/step - loss: 0.5438 - accuracy: 0.8117\n",
            "Epoch 124/1000\n",
            "8/8 [==============================] - 0s 3ms/step - loss: 0.5364 - accuracy: 0.8285\n",
            "Epoch 125/1000\n",
            "8/8 [==============================] - 0s 3ms/step - loss: 0.5516 - accuracy: 0.7908\n",
            "Epoch 126/1000\n",
            "8/8 [==============================] - 0s 3ms/step - loss: 0.5295 - accuracy: 0.8201\n",
            "Epoch 127/1000\n",
            "8/8 [==============================] - 0s 2ms/step - loss: 0.5183 - accuracy: 0.8159\n",
            "Epoch 128/1000\n",
            "8/8 [==============================] - 0s 3ms/step - loss: 0.5106 - accuracy: 0.8285\n",
            "Epoch 129/1000\n",
            "8/8 [==============================] - 0s 3ms/step - loss: 0.5128 - accuracy: 0.8243\n",
            "Epoch 130/1000\n",
            "8/8 [==============================] - 0s 2ms/step - loss: 0.5059 - accuracy: 0.8159\n",
            "Epoch 131/1000\n",
            "8/8 [==============================] - 0s 2ms/step - loss: 0.4998 - accuracy: 0.8326\n",
            "Epoch 132/1000\n",
            "8/8 [==============================] - 0s 2ms/step - loss: 0.4956 - accuracy: 0.8368\n",
            "Epoch 133/1000\n",
            "8/8 [==============================] - 0s 3ms/step - loss: 0.4998 - accuracy: 0.8201\n",
            "Epoch 134/1000\n",
            "8/8 [==============================] - 0s 2ms/step - loss: 0.4788 - accuracy: 0.8285\n",
            "Epoch 135/1000\n",
            "8/8 [==============================] - 0s 2ms/step - loss: 0.4790 - accuracy: 0.8368\n",
            "Epoch 136/1000\n",
            "8/8 [==============================] - 0s 2ms/step - loss: 0.4725 - accuracy: 0.8326\n",
            "Epoch 137/1000\n",
            "8/8 [==============================] - 0s 2ms/step - loss: 0.4566 - accuracy: 0.8494\n",
            "Epoch 138/1000\n",
            "8/8 [==============================] - 0s 2ms/step - loss: 0.4639 - accuracy: 0.8201\n",
            "Epoch 139/1000\n",
            "8/8 [==============================] - 0s 2ms/step - loss: 0.4444 - accuracy: 0.8619\n",
            "Epoch 140/1000\n",
            "8/8 [==============================] - 0s 2ms/step - loss: 0.4520 - accuracy: 0.8368\n",
            "Epoch 141/1000\n",
            "8/8 [==============================] - 0s 2ms/step - loss: 0.4482 - accuracy: 0.8494\n",
            "Epoch 142/1000\n",
            "8/8 [==============================] - 0s 2ms/step - loss: 0.4412 - accuracy: 0.8368\n",
            "Epoch 143/1000\n",
            "8/8 [==============================] - 0s 2ms/step - loss: 0.4279 - accuracy: 0.8619\n",
            "Epoch 144/1000\n",
            "8/8 [==============================] - 0s 2ms/step - loss: 0.4436 - accuracy: 0.8452\n",
            "Epoch 145/1000\n",
            "8/8 [==============================] - 0s 2ms/step - loss: 0.4780 - accuracy: 0.8368\n",
            "Epoch 146/1000\n",
            "8/8 [==============================] - 0s 3ms/step - loss: 0.4617 - accuracy: 0.8201\n",
            "Epoch 147/1000\n",
            "8/8 [==============================] - 0s 3ms/step - loss: 0.4511 - accuracy: 0.8661\n",
            "Epoch 148/1000\n",
            "8/8 [==============================] - 0s 3ms/step - loss: 0.4237 - accuracy: 0.8326\n",
            "Epoch 149/1000\n",
            "8/8 [==============================] - 0s 2ms/step - loss: 0.4431 - accuracy: 0.8326\n",
            "Epoch 150/1000\n",
            "8/8 [==============================] - 0s 3ms/step - loss: 0.4092 - accuracy: 0.8368\n",
            "Epoch 151/1000\n",
            "8/8 [==============================] - 0s 3ms/step - loss: 0.3940 - accuracy: 0.8577\n",
            "Epoch 152/1000\n",
            "8/8 [==============================] - 0s 2ms/step - loss: 0.4033 - accuracy: 0.8577\n",
            "Epoch 153/1000\n",
            "8/8 [==============================] - 0s 3ms/step - loss: 0.3966 - accuracy: 0.8536\n",
            "Epoch 154/1000\n",
            "8/8 [==============================] - 0s 3ms/step - loss: 0.3839 - accuracy: 0.8703\n",
            "Epoch 155/1000\n",
            "8/8 [==============================] - 0s 2ms/step - loss: 0.3914 - accuracy: 0.8368\n",
            "Epoch 156/1000\n",
            "8/8 [==============================] - 0s 2ms/step - loss: 0.3785 - accuracy: 0.8619\n",
            "Epoch 157/1000\n",
            "8/8 [==============================] - 0s 3ms/step - loss: 0.3744 - accuracy: 0.8661\n",
            "Epoch 158/1000\n",
            "8/8 [==============================] - 0s 2ms/step - loss: 0.3815 - accuracy: 0.8619\n",
            "Epoch 159/1000\n",
            "8/8 [==============================] - 0s 2ms/step - loss: 0.3931 - accuracy: 0.8452\n",
            "Epoch 160/1000\n",
            "8/8 [==============================] - 0s 2ms/step - loss: 0.3657 - accuracy: 0.8661\n",
            "Epoch 161/1000\n",
            "8/8 [==============================] - 0s 2ms/step - loss: 0.3706 - accuracy: 0.8661\n",
            "Epoch 162/1000\n",
            "8/8 [==============================] - 0s 4ms/step - loss: 0.3769 - accuracy: 0.8536\n",
            "Epoch 163/1000\n",
            "8/8 [==============================] - 0s 4ms/step - loss: 0.3515 - accuracy: 0.8703\n",
            "Epoch 164/1000\n",
            "8/8 [==============================] - 0s 3ms/step - loss: 0.3624 - accuracy: 0.8577\n",
            "Epoch 165/1000\n",
            "8/8 [==============================] - 0s 2ms/step - loss: 0.3555 - accuracy: 0.8703\n",
            "Epoch 166/1000\n",
            "8/8 [==============================] - 0s 3ms/step - loss: 0.3518 - accuracy: 0.8619\n",
            "Epoch 167/1000\n",
            "8/8 [==============================] - 0s 2ms/step - loss: 0.3562 - accuracy: 0.8619\n",
            "Epoch 168/1000\n",
            "8/8 [==============================] - 0s 3ms/step - loss: 0.3488 - accuracy: 0.8494\n",
            "Epoch 169/1000\n",
            "8/8 [==============================] - 0s 2ms/step - loss: 0.3410 - accuracy: 0.8536\n",
            "Epoch 170/1000\n",
            "8/8 [==============================] - 0s 2ms/step - loss: 0.3407 - accuracy: 0.8619\n",
            "Epoch 171/1000\n",
            "8/8 [==============================] - 0s 2ms/step - loss: 0.3688 - accuracy: 0.8577\n",
            "Epoch 172/1000\n",
            "8/8 [==============================] - 0s 3ms/step - loss: 0.3835 - accuracy: 0.8326\n",
            "Epoch 173/1000\n",
            "8/8 [==============================] - 0s 2ms/step - loss: 0.3397 - accuracy: 0.8536\n",
            "Epoch 174/1000\n",
            "8/8 [==============================] - 0s 2ms/step - loss: 0.3446 - accuracy: 0.8577\n",
            "Epoch 175/1000\n",
            "8/8 [==============================] - 0s 2ms/step - loss: 0.3257 - accuracy: 0.8577\n",
            "Epoch 176/1000\n",
            "8/8 [==============================] - 0s 2ms/step - loss: 0.3267 - accuracy: 0.8536\n",
            "Epoch 177/1000\n",
            "8/8 [==============================] - 0s 2ms/step - loss: 0.3241 - accuracy: 0.8619\n",
            "Epoch 178/1000\n",
            "8/8 [==============================] - 0s 2ms/step - loss: 0.3184 - accuracy: 0.8745\n",
            "Epoch 179/1000\n",
            "8/8 [==============================] - 0s 2ms/step - loss: 0.3249 - accuracy: 0.8745\n",
            "Epoch 180/1000\n",
            "8/8 [==============================] - 0s 2ms/step - loss: 0.3179 - accuracy: 0.8661\n",
            "Epoch 181/1000\n",
            "8/8 [==============================] - 0s 3ms/step - loss: 0.3152 - accuracy: 0.8703\n",
            "Epoch 182/1000\n",
            "8/8 [==============================] - 0s 3ms/step - loss: 0.3220 - accuracy: 0.8703\n",
            "Epoch 183/1000\n",
            "8/8 [==============================] - 0s 3ms/step - loss: 0.3094 - accuracy: 0.8619\n",
            "Epoch 184/1000\n",
            "8/8 [==============================] - 0s 3ms/step - loss: 0.3094 - accuracy: 0.8619\n",
            "Epoch 185/1000\n",
            "8/8 [==============================] - 0s 3ms/step - loss: 0.3110 - accuracy: 0.8619\n",
            "Epoch 186/1000\n",
            "8/8 [==============================] - 0s 2ms/step - loss: 0.3157 - accuracy: 0.8703\n",
            "Epoch 187/1000\n",
            "8/8 [==============================] - 0s 3ms/step - loss: 0.3139 - accuracy: 0.8661\n",
            "Epoch 188/1000\n",
            "8/8 [==============================] - 0s 3ms/step - loss: 0.3037 - accuracy: 0.8745\n",
            "Epoch 189/1000\n",
            "8/8 [==============================] - 0s 3ms/step - loss: 0.3082 - accuracy: 0.8870\n",
            "Epoch 190/1000\n",
            "8/8 [==============================] - 0s 3ms/step - loss: 0.3030 - accuracy: 0.8661\n",
            "Epoch 191/1000\n",
            "8/8 [==============================] - 0s 3ms/step - loss: 0.3041 - accuracy: 0.8661\n",
            "Epoch 192/1000\n",
            "8/8 [==============================] - 0s 3ms/step - loss: 0.3097 - accuracy: 0.8745\n",
            "Epoch 193/1000\n",
            "8/8 [==============================] - 0s 3ms/step - loss: 0.3024 - accuracy: 0.8661\n",
            "Epoch 194/1000\n",
            "8/8 [==============================] - 0s 4ms/step - loss: 0.2920 - accuracy: 0.8703\n",
            "Epoch 195/1000\n",
            "8/8 [==============================] - 0s 3ms/step - loss: 0.2971 - accuracy: 0.8661\n",
            "Epoch 196/1000\n",
            "8/8 [==============================] - 0s 3ms/step - loss: 0.2922 - accuracy: 0.8703\n",
            "Epoch 197/1000\n",
            "8/8 [==============================] - 0s 2ms/step - loss: 0.2958 - accuracy: 0.8745\n",
            "Epoch 198/1000\n",
            "8/8 [==============================] - 0s 2ms/step - loss: 0.3081 - accuracy: 0.8619\n",
            "Epoch 199/1000\n",
            "8/8 [==============================] - 0s 2ms/step - loss: 0.3037 - accuracy: 0.8703\n",
            "Epoch 200/1000\n",
            "8/8 [==============================] - 0s 2ms/step - loss: 0.2990 - accuracy: 0.8661\n",
            "Epoch 201/1000\n",
            "8/8 [==============================] - 0s 2ms/step - loss: 0.3056 - accuracy: 0.8703\n",
            "Epoch 202/1000\n",
            "8/8 [==============================] - 0s 2ms/step - loss: 0.3022 - accuracy: 0.8619\n",
            "Epoch 203/1000\n",
            "8/8 [==============================] - 0s 2ms/step - loss: 0.2913 - accuracy: 0.8661\n",
            "Epoch 204/1000\n",
            "8/8 [==============================] - 0s 2ms/step - loss: 0.2815 - accuracy: 0.8661\n",
            "Epoch 205/1000\n",
            "8/8 [==============================] - 0s 2ms/step - loss: 0.2870 - accuracy: 0.8870\n",
            "Epoch 206/1000\n",
            "8/8 [==============================] - 0s 3ms/step - loss: 0.2897 - accuracy: 0.8619\n",
            "Epoch 207/1000\n",
            "8/8 [==============================] - 0s 3ms/step - loss: 0.2913 - accuracy: 0.8703\n",
            "Epoch 208/1000\n",
            "8/8 [==============================] - 0s 2ms/step - loss: 0.2826 - accuracy: 0.8787\n",
            "Epoch 209/1000\n",
            "8/8 [==============================] - 0s 3ms/step - loss: 0.2818 - accuracy: 0.8787\n",
            "Epoch 210/1000\n",
            "8/8 [==============================] - 0s 2ms/step - loss: 0.3053 - accuracy: 0.8745\n",
            "Epoch 211/1000\n",
            "8/8 [==============================] - 0s 4ms/step - loss: 0.2943 - accuracy: 0.8661\n",
            "Epoch 212/1000\n",
            "8/8 [==============================] - 0s 2ms/step - loss: 0.2831 - accuracy: 0.8870\n",
            "Epoch 213/1000\n",
            "8/8 [==============================] - 0s 2ms/step - loss: 0.2911 - accuracy: 0.8619\n",
            "Epoch 214/1000\n",
            "8/8 [==============================] - 0s 2ms/step - loss: 0.2791 - accuracy: 0.8787\n",
            "Epoch 215/1000\n",
            "8/8 [==============================] - 0s 2ms/step - loss: 0.2785 - accuracy: 0.8787\n",
            "Epoch 216/1000\n",
            "8/8 [==============================] - 0s 2ms/step - loss: 0.2772 - accuracy: 0.8787\n",
            "Epoch 217/1000\n",
            "8/8 [==============================] - 0s 2ms/step - loss: 0.2771 - accuracy: 0.8828\n",
            "Epoch 218/1000\n",
            "8/8 [==============================] - 0s 3ms/step - loss: 0.2851 - accuracy: 0.8828\n",
            "Epoch 219/1000\n",
            "8/8 [==============================] - 0s 3ms/step - loss: 0.2790 - accuracy: 0.8828\n",
            "Epoch 220/1000\n",
            "8/8 [==============================] - 0s 3ms/step - loss: 0.2763 - accuracy: 0.8870\n",
            "Epoch 221/1000\n",
            "8/8 [==============================] - 0s 3ms/step - loss: 0.2752 - accuracy: 0.8828\n",
            "Epoch 222/1000\n",
            "8/8 [==============================] - 0s 3ms/step - loss: 0.2757 - accuracy: 0.8828\n",
            "Epoch 223/1000\n",
            "8/8 [==============================] - 0s 3ms/step - loss: 0.2746 - accuracy: 0.8912\n",
            "Epoch 224/1000\n",
            "8/8 [==============================] - 0s 3ms/step - loss: 0.2750 - accuracy: 0.8870\n",
            "Epoch 225/1000\n",
            "8/8 [==============================] - 0s 3ms/step - loss: 0.2735 - accuracy: 0.8828\n",
            "Epoch 226/1000\n",
            "8/8 [==============================] - 0s 3ms/step - loss: 0.2777 - accuracy: 0.8912\n",
            "Epoch 227/1000\n",
            "8/8 [==============================] - 0s 3ms/step - loss: 0.2763 - accuracy: 0.8703\n",
            "Epoch 228/1000\n",
            "8/8 [==============================] - 0s 3ms/step - loss: 0.2744 - accuracy: 0.8828\n",
            "Epoch 229/1000\n",
            "8/8 [==============================] - 0s 3ms/step - loss: 0.2763 - accuracy: 0.8661\n",
            "Epoch 230/1000\n",
            "8/8 [==============================] - 0s 3ms/step - loss: 0.2732 - accuracy: 0.8870\n",
            "Epoch 231/1000\n",
            "8/8 [==============================] - 0s 3ms/step - loss: 0.2748 - accuracy: 0.8912\n",
            "Epoch 232/1000\n",
            "8/8 [==============================] - 0s 2ms/step - loss: 0.2714 - accuracy: 0.8996\n",
            "Epoch 233/1000\n",
            "8/8 [==============================] - 0s 3ms/step - loss: 0.2775 - accuracy: 0.8703\n",
            "Epoch 234/1000\n",
            "8/8 [==============================] - 0s 3ms/step - loss: 0.2712 - accuracy: 0.8954\n",
            "Epoch 235/1000\n",
            "8/8 [==============================] - 0s 3ms/step - loss: 0.2804 - accuracy: 0.8745\n",
            "Epoch 236/1000\n",
            "8/8 [==============================] - 0s 3ms/step - loss: 0.2743 - accuracy: 0.8954\n",
            "Epoch 237/1000\n",
            "8/8 [==============================] - 0s 3ms/step - loss: 0.2732 - accuracy: 0.8828\n",
            "Epoch 238/1000\n",
            "8/8 [==============================] - 0s 3ms/step - loss: 0.2734 - accuracy: 0.8703\n",
            "Epoch 239/1000\n",
            "8/8 [==============================] - 0s 3ms/step - loss: 0.2687 - accuracy: 0.8954\n",
            "Epoch 240/1000\n",
            "8/8 [==============================] - 0s 3ms/step - loss: 0.2804 - accuracy: 0.8745\n",
            "Epoch 241/1000\n",
            "8/8 [==============================] - 0s 3ms/step - loss: 0.2660 - accuracy: 0.8954\n",
            "Epoch 242/1000\n",
            "8/8 [==============================] - 0s 2ms/step - loss: 0.2710 - accuracy: 0.8954\n",
            "Epoch 243/1000\n",
            "8/8 [==============================] - 0s 2ms/step - loss: 0.2828 - accuracy: 0.8912\n",
            "Epoch 244/1000\n",
            "8/8 [==============================] - 0s 3ms/step - loss: 0.2658 - accuracy: 0.8745\n",
            "Epoch 245/1000\n",
            "8/8 [==============================] - 0s 2ms/step - loss: 0.2931 - accuracy: 0.8703\n",
            "Epoch 246/1000\n",
            "8/8 [==============================] - 0s 3ms/step - loss: 0.2796 - accuracy: 0.8577\n",
            "Epoch 247/1000\n",
            "8/8 [==============================] - 0s 3ms/step - loss: 0.2675 - accuracy: 0.8996\n",
            "Epoch 248/1000\n",
            "8/8 [==============================] - 0s 3ms/step - loss: 0.2706 - accuracy: 0.8745\n",
            "Epoch 249/1000\n",
            "8/8 [==============================] - 0s 3ms/step - loss: 0.2672 - accuracy: 0.8912\n",
            "Epoch 250/1000\n",
            "8/8 [==============================] - 0s 3ms/step - loss: 0.2691 - accuracy: 0.8870\n",
            "Epoch 251/1000\n",
            "8/8 [==============================] - 0s 3ms/step - loss: 0.2647 - accuracy: 0.8996\n",
            "Epoch 252/1000\n",
            "8/8 [==============================] - 0s 2ms/step - loss: 0.2709 - accuracy: 0.8912\n",
            "Epoch 253/1000\n",
            "8/8 [==============================] - 0s 3ms/step - loss: 0.2747 - accuracy: 0.8912\n",
            "Epoch 254/1000\n",
            "8/8 [==============================] - 0s 3ms/step - loss: 0.2697 - accuracy: 0.8954\n",
            "Epoch 255/1000\n",
            "8/8 [==============================] - 0s 3ms/step - loss: 0.2667 - accuracy: 0.8996\n",
            "Epoch 256/1000\n",
            "8/8 [==============================] - 0s 4ms/step - loss: 0.2659 - accuracy: 0.8954\n",
            "Epoch 257/1000\n",
            "8/8 [==============================] - 0s 2ms/step - loss: 0.2636 - accuracy: 0.8954\n",
            "Epoch 258/1000\n",
            "8/8 [==============================] - 0s 3ms/step - loss: 0.2657 - accuracy: 0.8912\n",
            "Epoch 259/1000\n",
            "8/8 [==============================] - 0s 2ms/step - loss: 0.2665 - accuracy: 0.8954\n",
            "Epoch 260/1000\n",
            "8/8 [==============================] - 0s 3ms/step - loss: 0.2653 - accuracy: 0.8912\n",
            "Epoch 261/1000\n",
            "8/8 [==============================] - 0s 3ms/step - loss: 0.2697 - accuracy: 0.8870\n",
            "Epoch 262/1000\n",
            "8/8 [==============================] - 0s 3ms/step - loss: 0.2795 - accuracy: 0.8828\n",
            "Epoch 263/1000\n",
            "8/8 [==============================] - 0s 2ms/step - loss: 0.2661 - accuracy: 0.8954\n",
            "Epoch 264/1000\n",
            "8/8 [==============================] - 0s 2ms/step - loss: 0.2817 - accuracy: 0.8703\n",
            "Epoch 265/1000\n",
            "8/8 [==============================] - 0s 2ms/step - loss: 0.2667 - accuracy: 0.8912\n",
            "Epoch 266/1000\n",
            "8/8 [==============================] - 0s 2ms/step - loss: 0.2615 - accuracy: 0.8954\n",
            "Epoch 267/1000\n",
            "8/8 [==============================] - 0s 3ms/step - loss: 0.2683 - accuracy: 0.8954\n",
            "Epoch 268/1000\n",
            "8/8 [==============================] - 0s 2ms/step - loss: 0.2674 - accuracy: 0.8828\n",
            "Epoch 269/1000\n",
            "8/8 [==============================] - 0s 2ms/step - loss: 0.2721 - accuracy: 0.8787\n",
            "Epoch 270/1000\n",
            "8/8 [==============================] - 0s 2ms/step - loss: 0.2649 - accuracy: 0.8954\n",
            "Epoch 271/1000\n",
            "8/8 [==============================] - 0s 2ms/step - loss: 0.2618 - accuracy: 0.8912\n",
            "Epoch 272/1000\n",
            "8/8 [==============================] - 0s 2ms/step - loss: 0.2649 - accuracy: 0.8870\n",
            "Epoch 273/1000\n",
            "8/8 [==============================] - 0s 2ms/step - loss: 0.2632 - accuracy: 0.8996\n",
            "Epoch 274/1000\n",
            "8/8 [==============================] - 0s 2ms/step - loss: 0.2631 - accuracy: 0.8912\n",
            "Epoch 275/1000\n",
            "8/8 [==============================] - 0s 2ms/step - loss: 0.2641 - accuracy: 0.8912\n",
            "Epoch 276/1000\n",
            "8/8 [==============================] - 0s 2ms/step - loss: 0.2690 - accuracy: 0.8912\n",
            "Epoch 277/1000\n",
            "8/8 [==============================] - 0s 4ms/step - loss: 0.2700 - accuracy: 0.8787\n",
            "Epoch 278/1000\n",
            "8/8 [==============================] - 0s 2ms/step - loss: 0.2625 - accuracy: 0.8870\n",
            "Epoch 279/1000\n",
            "8/8 [==============================] - 0s 3ms/step - loss: 0.2659 - accuracy: 0.8870\n",
            "Epoch 280/1000\n",
            "8/8 [==============================] - 0s 3ms/step - loss: 0.2710 - accuracy: 0.8912\n",
            "Epoch 281/1000\n",
            "8/8 [==============================] - 0s 3ms/step - loss: 0.2659 - accuracy: 0.8828\n",
            "Epoch 282/1000\n",
            "8/8 [==============================] - 0s 3ms/step - loss: 0.2655 - accuracy: 0.8912\n",
            "Epoch 283/1000\n",
            "8/8 [==============================] - 0s 3ms/step - loss: 0.2612 - accuracy: 0.8912\n",
            "Epoch 284/1000\n",
            "8/8 [==============================] - 0s 3ms/step - loss: 0.2675 - accuracy: 0.8954\n",
            "Epoch 285/1000\n",
            "8/8 [==============================] - 0s 3ms/step - loss: 0.2706 - accuracy: 0.8828\n",
            "Epoch 286/1000\n",
            "8/8 [==============================] - 0s 3ms/step - loss: 0.2637 - accuracy: 0.8912\n",
            "Epoch 287/1000\n",
            "8/8 [==============================] - 0s 3ms/step - loss: 0.2620 - accuracy: 0.8870\n",
            "Epoch 288/1000\n",
            "8/8 [==============================] - 0s 3ms/step - loss: 0.2621 - accuracy: 0.8870\n",
            "Epoch 289/1000\n",
            "8/8 [==============================] - 0s 2ms/step - loss: 0.2621 - accuracy: 0.8912\n",
            "Epoch 290/1000\n",
            "8/8 [==============================] - 0s 3ms/step - loss: 0.2652 - accuracy: 0.8828\n",
            "Epoch 291/1000\n",
            "8/8 [==============================] - 0s 2ms/step - loss: 0.2995 - accuracy: 0.8619\n",
            "Epoch 292/1000\n",
            "8/8 [==============================] - 0s 2ms/step - loss: 0.2699 - accuracy: 0.8828\n",
            "Epoch 293/1000\n",
            "8/8 [==============================] - 0s 2ms/step - loss: 0.2651 - accuracy: 0.8954\n",
            "Epoch 294/1000\n",
            "8/8 [==============================] - 0s 3ms/step - loss: 0.2802 - accuracy: 0.8912\n",
            "Epoch 295/1000\n",
            "8/8 [==============================] - 0s 3ms/step - loss: 0.2715 - accuracy: 0.8912\n",
            "Epoch 296/1000\n",
            "8/8 [==============================] - 0s 3ms/step - loss: 0.2654 - accuracy: 0.8787\n",
            "Epoch 297/1000\n",
            "8/8 [==============================] - 0s 2ms/step - loss: 0.3055 - accuracy: 0.8745\n",
            "Epoch 298/1000\n",
            "8/8 [==============================] - 0s 3ms/step - loss: 0.3080 - accuracy: 0.8619\n",
            "Epoch 299/1000\n",
            "8/8 [==============================] - 0s 4ms/step - loss: 0.2627 - accuracy: 0.8828\n",
            "Epoch 300/1000\n",
            "8/8 [==============================] - 0s 3ms/step - loss: 0.2743 - accuracy: 0.8870\n",
            "Epoch 301/1000\n",
            "8/8 [==============================] - 0s 3ms/step - loss: 0.2677 - accuracy: 0.8870\n",
            "Epoch 302/1000\n",
            "8/8 [==============================] - 0s 2ms/step - loss: 0.2586 - accuracy: 0.8954\n",
            "Epoch 303/1000\n",
            "8/8 [==============================] - 0s 3ms/step - loss: 0.2674 - accuracy: 0.8954\n",
            "Epoch 304/1000\n",
            "8/8 [==============================] - 0s 3ms/step - loss: 0.2632 - accuracy: 0.8912\n",
            "Epoch 305/1000\n",
            "8/8 [==============================] - 0s 3ms/step - loss: 0.2687 - accuracy: 0.8870\n",
            "Epoch 306/1000\n",
            "8/8 [==============================] - 0s 3ms/step - loss: 0.2665 - accuracy: 0.8828\n",
            "Epoch 307/1000\n",
            "8/8 [==============================] - 0s 3ms/step - loss: 0.2608 - accuracy: 0.8912\n",
            "Epoch 308/1000\n",
            "8/8 [==============================] - 0s 3ms/step - loss: 0.2670 - accuracy: 0.8787\n",
            "Epoch 309/1000\n",
            "8/8 [==============================] - 0s 3ms/step - loss: 0.2857 - accuracy: 0.8787\n",
            "Epoch 310/1000\n",
            "8/8 [==============================] - 0s 3ms/step - loss: 0.2629 - accuracy: 0.8870\n",
            "Epoch 311/1000\n",
            "8/8 [==============================] - 0s 3ms/step - loss: 0.2722 - accuracy: 0.8828\n",
            "Epoch 312/1000\n",
            "8/8 [==============================] - 0s 3ms/step - loss: 0.2612 - accuracy: 0.8912\n",
            "Epoch 313/1000\n",
            "8/8 [==============================] - 0s 3ms/step - loss: 0.2627 - accuracy: 0.8954\n",
            "Epoch 314/1000\n",
            "8/8 [==============================] - 0s 3ms/step - loss: 0.2570 - accuracy: 0.8912\n",
            "Epoch 315/1000\n",
            "8/8 [==============================] - 0s 3ms/step - loss: 0.2695 - accuracy: 0.8828\n",
            "Epoch 316/1000\n",
            "8/8 [==============================] - 0s 3ms/step - loss: 0.2852 - accuracy: 0.8787\n",
            "Epoch 317/1000\n",
            "8/8 [==============================] - 0s 3ms/step - loss: 0.2597 - accuracy: 0.8996\n",
            "Epoch 318/1000\n",
            "8/8 [==============================] - 0s 3ms/step - loss: 0.2628 - accuracy: 0.8954\n",
            "Epoch 319/1000\n",
            "8/8 [==============================] - 0s 3ms/step - loss: 0.2579 - accuracy: 0.8954\n",
            "Epoch 320/1000\n",
            "8/8 [==============================] - 0s 3ms/step - loss: 0.2640 - accuracy: 0.8870\n",
            "Epoch 321/1000\n",
            "8/8 [==============================] - 0s 3ms/step - loss: 0.2580 - accuracy: 0.8912\n",
            "Epoch 322/1000\n",
            "8/8 [==============================] - 0s 3ms/step - loss: 0.2629 - accuracy: 0.8912\n",
            "Epoch 323/1000\n",
            "8/8 [==============================] - 0s 3ms/step - loss: 0.2603 - accuracy: 0.8912\n",
            "Epoch 324/1000\n",
            "8/8 [==============================] - 0s 3ms/step - loss: 0.2722 - accuracy: 0.8996\n",
            "Epoch 325/1000\n",
            "8/8 [==============================] - 0s 3ms/step - loss: 0.2653 - accuracy: 0.8870\n",
            "Epoch 326/1000\n",
            "8/8 [==============================] - 0s 2ms/step - loss: 0.2574 - accuracy: 0.8954\n",
            "Epoch 327/1000\n",
            "8/8 [==============================] - 0s 2ms/step - loss: 0.2652 - accuracy: 0.8870\n",
            "Epoch 328/1000\n",
            "8/8 [==============================] - 0s 2ms/step - loss: 0.2674 - accuracy: 0.8912\n",
            "Epoch 329/1000\n",
            "8/8 [==============================] - 0s 2ms/step - loss: 0.2588 - accuracy: 0.8954\n",
            "Epoch 330/1000\n",
            "8/8 [==============================] - 0s 3ms/step - loss: 0.2648 - accuracy: 0.9079\n",
            "Epoch 331/1000\n",
            "8/8 [==============================] - 0s 3ms/step - loss: 0.2788 - accuracy: 0.8619\n",
            "Epoch 332/1000\n",
            "8/8 [==============================] - 0s 2ms/step - loss: 0.3050 - accuracy: 0.8912\n",
            "Epoch 333/1000\n",
            "8/8 [==============================] - 0s 2ms/step - loss: 0.2824 - accuracy: 0.8828\n",
            "Epoch 334/1000\n",
            "8/8 [==============================] - 0s 3ms/step - loss: 0.2712 - accuracy: 0.8912\n",
            "Epoch 335/1000\n",
            "8/8 [==============================] - 0s 3ms/step - loss: 0.2611 - accuracy: 0.8996\n",
            "Epoch 336/1000\n",
            "8/8 [==============================] - 0s 3ms/step - loss: 0.2635 - accuracy: 0.8828\n",
            "Epoch 337/1000\n",
            "8/8 [==============================] - 0s 2ms/step - loss: 0.2636 - accuracy: 0.8870\n",
            "Epoch 338/1000\n",
            "8/8 [==============================] - 0s 2ms/step - loss: 0.2563 - accuracy: 0.8870\n",
            "Epoch 339/1000\n",
            "8/8 [==============================] - 0s 3ms/step - loss: 0.2645 - accuracy: 0.8828\n",
            "Epoch 340/1000\n",
            "8/8 [==============================] - 0s 3ms/step - loss: 0.2643 - accuracy: 0.8912\n",
            "Epoch 341/1000\n",
            "8/8 [==============================] - 0s 3ms/step - loss: 0.2984 - accuracy: 0.8577\n",
            "Epoch 342/1000\n",
            "8/8 [==============================] - 0s 2ms/step - loss: 0.3367 - accuracy: 0.8494\n",
            "Epoch 343/1000\n",
            "8/8 [==============================] - 0s 3ms/step - loss: 0.3083 - accuracy: 0.8661\n",
            "Epoch 344/1000\n",
            "8/8 [==============================] - 0s 2ms/step - loss: 0.2768 - accuracy: 0.8870\n",
            "Epoch 345/1000\n",
            "8/8 [==============================] - 0s 2ms/step - loss: 0.2637 - accuracy: 0.8745\n",
            "Epoch 346/1000\n",
            "8/8 [==============================] - 0s 2ms/step - loss: 0.2681 - accuracy: 0.8828\n",
            "Epoch 347/1000\n",
            "8/8 [==============================] - 0s 3ms/step - loss: 0.2686 - accuracy: 0.8828\n",
            "Epoch 348/1000\n",
            "8/8 [==============================] - 0s 2ms/step - loss: 0.2633 - accuracy: 0.9079\n",
            "Epoch 349/1000\n",
            "8/8 [==============================] - 0s 2ms/step - loss: 0.2625 - accuracy: 0.8828\n",
            "Epoch 350/1000\n",
            "8/8 [==============================] - 0s 2ms/step - loss: 0.2641 - accuracy: 0.8787\n",
            "Epoch 351/1000\n",
            "8/8 [==============================] - 0s 2ms/step - loss: 0.2874 - accuracy: 0.8828\n",
            "Epoch 352/1000\n",
            "8/8 [==============================] - 0s 2ms/step - loss: 0.2557 - accuracy: 0.8870\n",
            "Epoch 353/1000\n",
            "8/8 [==============================] - 0s 2ms/step - loss: 0.2582 - accuracy: 0.8954\n",
            "Epoch 354/1000\n",
            "8/8 [==============================] - 0s 2ms/step - loss: 0.2685 - accuracy: 0.8787\n",
            "Epoch 355/1000\n",
            "8/8 [==============================] - 0s 2ms/step - loss: 0.2678 - accuracy: 0.8828\n",
            "Epoch 356/1000\n",
            "8/8 [==============================] - 0s 2ms/step - loss: 0.2585 - accuracy: 0.8912\n",
            "Epoch 357/1000\n",
            "8/8 [==============================] - 0s 2ms/step - loss: 0.2718 - accuracy: 0.8870\n",
            "Epoch 358/1000\n",
            "8/8 [==============================] - 0s 3ms/step - loss: 0.2668 - accuracy: 0.8745\n",
            "Epoch 359/1000\n",
            "8/8 [==============================] - 0s 3ms/step - loss: 0.2677 - accuracy: 0.8996\n",
            "Epoch 360/1000\n",
            "8/8 [==============================] - 0s 3ms/step - loss: 0.2679 - accuracy: 0.8828\n",
            "Epoch 361/1000\n",
            "8/8 [==============================] - 0s 2ms/step - loss: 0.2624 - accuracy: 0.8870\n",
            "Epoch 362/1000\n",
            "8/8 [==============================] - 0s 3ms/step - loss: 0.2764 - accuracy: 0.8912\n",
            "Epoch 363/1000\n",
            "8/8 [==============================] - 0s 2ms/step - loss: 0.2622 - accuracy: 0.8870\n",
            "Epoch 364/1000\n",
            "8/8 [==============================] - 0s 3ms/step - loss: 0.2657 - accuracy: 0.8912\n",
            "Epoch 365/1000\n",
            "8/8 [==============================] - 0s 3ms/step - loss: 0.2667 - accuracy: 0.8828\n",
            "Epoch 366/1000\n",
            "8/8 [==============================] - 0s 3ms/step - loss: 0.2574 - accuracy: 0.8870\n",
            "Epoch 367/1000\n",
            "8/8 [==============================] - 0s 3ms/step - loss: 0.2876 - accuracy: 0.8745\n",
            "Epoch 368/1000\n",
            "8/8 [==============================] - 0s 3ms/step - loss: 0.2726 - accuracy: 0.8996\n",
            "Epoch 369/1000\n",
            "8/8 [==============================] - 0s 3ms/step - loss: 0.2695 - accuracy: 0.8870\n",
            "Epoch 370/1000\n",
            "8/8 [==============================] - 0s 3ms/step - loss: 0.2657 - accuracy: 0.8745\n",
            "Epoch 371/1000\n",
            "8/8 [==============================] - 0s 3ms/step - loss: 0.2563 - accuracy: 0.8870\n",
            "Epoch 372/1000\n",
            "8/8 [==============================] - 0s 3ms/step - loss: 0.2727 - accuracy: 0.8828\n",
            "Epoch 373/1000\n",
            "8/8 [==============================] - 0s 3ms/step - loss: 0.2647 - accuracy: 0.8870\n",
            "Epoch 374/1000\n",
            "8/8 [==============================] - 0s 3ms/step - loss: 0.2572 - accuracy: 0.8870\n",
            "Epoch 375/1000\n",
            "8/8 [==============================] - 0s 3ms/step - loss: 0.2583 - accuracy: 0.8954\n",
            "Epoch 376/1000\n",
            "8/8 [==============================] - 0s 3ms/step - loss: 0.2601 - accuracy: 0.8828\n",
            "Epoch 377/1000\n",
            "8/8 [==============================] - 0s 3ms/step - loss: 0.2524 - accuracy: 0.9038\n",
            "Epoch 378/1000\n",
            "8/8 [==============================] - 0s 3ms/step - loss: 0.2598 - accuracy: 0.8954\n",
            "Epoch 379/1000\n",
            "8/8 [==============================] - 0s 3ms/step - loss: 0.2589 - accuracy: 0.8787\n",
            "Epoch 380/1000\n",
            "8/8 [==============================] - 0s 3ms/step - loss: 0.2542 - accuracy: 0.8954\n",
            "Epoch 381/1000\n",
            "8/8 [==============================] - 0s 3ms/step - loss: 0.2607 - accuracy: 0.8954\n",
            "Epoch 382/1000\n",
            "8/8 [==============================] - 0s 3ms/step - loss: 0.2611 - accuracy: 0.8912\n",
            "Epoch 383/1000\n",
            "8/8 [==============================] - 0s 3ms/step - loss: 0.2596 - accuracy: 0.8828\n",
            "Epoch 384/1000\n",
            "8/8 [==============================] - 0s 3ms/step - loss: 0.2644 - accuracy: 0.8787\n",
            "Epoch 385/1000\n",
            "8/8 [==============================] - 0s 3ms/step - loss: 0.2761 - accuracy: 0.8703\n",
            "Epoch 386/1000\n",
            "8/8 [==============================] - 0s 3ms/step - loss: 0.2811 - accuracy: 0.8661\n",
            "Epoch 387/1000\n",
            "8/8 [==============================] - 0s 3ms/step - loss: 0.2726 - accuracy: 0.8912\n",
            "Epoch 388/1000\n",
            "8/8 [==============================] - 0s 3ms/step - loss: 0.2761 - accuracy: 0.8828\n",
            "Epoch 389/1000\n",
            "8/8 [==============================] - 0s 2ms/step - loss: 0.2700 - accuracy: 0.8996\n",
            "Epoch 390/1000\n",
            "8/8 [==============================] - 0s 2ms/step - loss: 0.2582 - accuracy: 0.8954\n",
            "Epoch 391/1000\n",
            "8/8 [==============================] - 0s 3ms/step - loss: 0.2581 - accuracy: 0.8912\n",
            "Epoch 392/1000\n",
            "8/8 [==============================] - 0s 3ms/step - loss: 0.2703 - accuracy: 0.9038\n",
            "Epoch 393/1000\n",
            "8/8 [==============================] - 0s 2ms/step - loss: 0.2843 - accuracy: 0.8787\n",
            "Epoch 394/1000\n",
            "8/8 [==============================] - 0s 3ms/step - loss: 0.2682 - accuracy: 0.8996\n",
            "Epoch 395/1000\n",
            "8/8 [==============================] - 0s 2ms/step - loss: 0.2682 - accuracy: 0.8870\n",
            "Epoch 396/1000\n",
            "8/8 [==============================] - 0s 3ms/step - loss: 0.2648 - accuracy: 0.8828\n",
            "Epoch 397/1000\n",
            "8/8 [==============================] - 0s 3ms/step - loss: 0.2557 - accuracy: 0.8870\n",
            "Epoch 398/1000\n",
            "8/8 [==============================] - 0s 4ms/step - loss: 0.2529 - accuracy: 0.8870\n",
            "Epoch 399/1000\n",
            "8/8 [==============================] - 0s 3ms/step - loss: 0.2571 - accuracy: 0.8828\n",
            "Epoch 400/1000\n",
            "8/8 [==============================] - 0s 2ms/step - loss: 0.2541 - accuracy: 0.8912\n",
            "Epoch 401/1000\n",
            "8/8 [==============================] - 0s 3ms/step - loss: 0.2557 - accuracy: 0.8828\n",
            "Epoch 402/1000\n",
            "8/8 [==============================] - 0s 3ms/step - loss: 0.2554 - accuracy: 0.8870\n",
            "Epoch 403/1000\n",
            "8/8 [==============================] - 0s 3ms/step - loss: 0.2692 - accuracy: 0.8787\n",
            "Epoch 404/1000\n",
            "8/8 [==============================] - 0s 3ms/step - loss: 0.2822 - accuracy: 0.8745\n",
            "Epoch 405/1000\n",
            "8/8 [==============================] - 0s 2ms/step - loss: 0.2537 - accuracy: 0.8912\n",
            "Epoch 406/1000\n",
            "8/8 [==============================] - 0s 3ms/step - loss: 0.2594 - accuracy: 0.8996\n",
            "Epoch 407/1000\n",
            "8/8 [==============================] - 0s 3ms/step - loss: 0.2540 - accuracy: 0.8954\n",
            "Epoch 408/1000\n",
            "8/8 [==============================] - 0s 3ms/step - loss: 0.2571 - accuracy: 0.8870\n",
            "Epoch 409/1000\n",
            "8/8 [==============================] - 0s 2ms/step - loss: 0.2569 - accuracy: 0.8870\n",
            "Epoch 410/1000\n",
            "8/8 [==============================] - 0s 3ms/step - loss: 0.2584 - accuracy: 0.8912\n",
            "Epoch 411/1000\n",
            "8/8 [==============================] - 0s 3ms/step - loss: 0.2612 - accuracy: 0.8912\n",
            "Epoch 412/1000\n",
            "8/8 [==============================] - 0s 3ms/step - loss: 0.2585 - accuracy: 0.8870\n",
            "Epoch 413/1000\n",
            "8/8 [==============================] - 0s 4ms/step - loss: 0.2763 - accuracy: 0.8787\n",
            "Epoch 414/1000\n",
            "8/8 [==============================] - 0s 4ms/step - loss: 0.2649 - accuracy: 0.8954\n",
            "Epoch 415/1000\n",
            "8/8 [==============================] - 0s 3ms/step - loss: 0.2711 - accuracy: 0.9163\n",
            "Epoch 416/1000\n",
            "8/8 [==============================] - 0s 3ms/step - loss: 0.2873 - accuracy: 0.8745\n",
            "Epoch 417/1000\n",
            "8/8 [==============================] - 0s 3ms/step - loss: 0.2588 - accuracy: 0.9079\n",
            "Epoch 418/1000\n",
            "8/8 [==============================] - 0s 3ms/step - loss: 0.2571 - accuracy: 0.8954\n",
            "Epoch 419/1000\n",
            "8/8 [==============================] - 0s 3ms/step - loss: 0.2543 - accuracy: 0.8870\n",
            "Epoch 420/1000\n",
            "8/8 [==============================] - 0s 4ms/step - loss: 0.2518 - accuracy: 0.8912\n",
            "Epoch 421/1000\n",
            "8/8 [==============================] - 0s 3ms/step - loss: 0.2541 - accuracy: 0.8828\n",
            "Epoch 422/1000\n",
            "8/8 [==============================] - 0s 3ms/step - loss: 0.2546 - accuracy: 0.8912\n",
            "Epoch 423/1000\n",
            "8/8 [==============================] - 0s 3ms/step - loss: 0.2516 - accuracy: 0.8828\n",
            "Epoch 424/1000\n",
            "8/8 [==============================] - 0s 3ms/step - loss: 0.2547 - accuracy: 0.8912\n",
            "Epoch 425/1000\n",
            "8/8 [==============================] - 0s 3ms/step - loss: 0.2661 - accuracy: 0.8870\n",
            "Epoch 426/1000\n",
            "8/8 [==============================] - 0s 3ms/step - loss: 0.2669 - accuracy: 0.8996\n",
            "Epoch 427/1000\n",
            "8/8 [==============================] - 0s 2ms/step - loss: 0.2887 - accuracy: 0.8787\n",
            "Epoch 428/1000\n",
            "8/8 [==============================] - 0s 3ms/step - loss: 0.2648 - accuracy: 0.8870\n",
            "Epoch 429/1000\n",
            "8/8 [==============================] - 0s 3ms/step - loss: 0.2656 - accuracy: 0.8996\n",
            "Epoch 430/1000\n",
            "8/8 [==============================] - 0s 3ms/step - loss: 0.2668 - accuracy: 0.8828\n",
            "Epoch 431/1000\n",
            "8/8 [==============================] - 0s 3ms/step - loss: 0.2561 - accuracy: 0.8787\n",
            "Epoch 432/1000\n",
            "8/8 [==============================] - 0s 3ms/step - loss: 0.2590 - accuracy: 0.8828\n",
            "Epoch 433/1000\n",
            "8/8 [==============================] - 0s 3ms/step - loss: 0.2772 - accuracy: 0.8787\n",
            "Epoch 434/1000\n",
            "8/8 [==============================] - 0s 4ms/step - loss: 0.2608 - accuracy: 0.8912\n",
            "Epoch 435/1000\n",
            "8/8 [==============================] - 0s 3ms/step - loss: 0.2778 - accuracy: 0.8787\n",
            "Epoch 436/1000\n",
            "8/8 [==============================] - 0s 3ms/step - loss: 0.2749 - accuracy: 0.8787\n",
            "Epoch 437/1000\n",
            "8/8 [==============================] - 0s 3ms/step - loss: 0.2676 - accuracy: 0.8870\n",
            "Epoch 438/1000\n",
            "8/8 [==============================] - 0s 3ms/step - loss: 0.2764 - accuracy: 0.8912\n",
            "Epoch 439/1000\n",
            "8/8 [==============================] - 0s 3ms/step - loss: 0.2731 - accuracy: 0.8912\n",
            "Epoch 440/1000\n",
            "8/8 [==============================] - 0s 3ms/step - loss: 0.2569 - accuracy: 0.8870\n",
            "Epoch 441/1000\n",
            "8/8 [==============================] - 0s 3ms/step - loss: 0.2623 - accuracy: 0.8954\n",
            "Epoch 442/1000\n",
            "8/8 [==============================] - 0s 3ms/step - loss: 0.2550 - accuracy: 0.8870\n",
            "Epoch 443/1000\n",
            "8/8 [==============================] - 0s 2ms/step - loss: 0.2565 - accuracy: 0.9038\n",
            "Epoch 444/1000\n",
            "8/8 [==============================] - 0s 3ms/step - loss: 0.2676 - accuracy: 0.8870\n",
            "Epoch 445/1000\n",
            "8/8 [==============================] - 0s 3ms/step - loss: 0.2608 - accuracy: 0.8870\n",
            "Epoch 446/1000\n",
            "8/8 [==============================] - 0s 2ms/step - loss: 0.2582 - accuracy: 0.8996\n",
            "Epoch 447/1000\n",
            "8/8 [==============================] - 0s 3ms/step - loss: 0.2565 - accuracy: 0.8912\n",
            "Epoch 448/1000\n",
            "8/8 [==============================] - 0s 3ms/step - loss: 0.2621 - accuracy: 0.9038\n",
            "Epoch 449/1000\n",
            "8/8 [==============================] - 0s 3ms/step - loss: 0.2573 - accuracy: 0.8954\n",
            "Epoch 450/1000\n",
            "8/8 [==============================] - 0s 3ms/step - loss: 0.2598 - accuracy: 0.8787\n",
            "Epoch 451/1000\n",
            "8/8 [==============================] - 0s 3ms/step - loss: 0.2647 - accuracy: 0.8996\n",
            "Epoch 452/1000\n",
            "8/8 [==============================] - 0s 2ms/step - loss: 0.2777 - accuracy: 0.8703\n",
            "Epoch 453/1000\n",
            "8/8 [==============================] - 0s 3ms/step - loss: 0.2699 - accuracy: 0.9121\n",
            "Epoch 454/1000\n",
            "8/8 [==============================] - 0s 3ms/step - loss: 0.2574 - accuracy: 0.8870\n",
            "Epoch 455/1000\n",
            "8/8 [==============================] - 0s 3ms/step - loss: 0.2668 - accuracy: 0.8912\n",
            "Epoch 456/1000\n",
            "8/8 [==============================] - 0s 3ms/step - loss: 0.2759 - accuracy: 0.8745\n",
            "Epoch 457/1000\n",
            "8/8 [==============================] - 0s 3ms/step - loss: 0.3128 - accuracy: 0.8703\n",
            "Epoch 458/1000\n",
            "8/8 [==============================] - 0s 3ms/step - loss: 0.2750 - accuracy: 0.8787\n",
            "Epoch 459/1000\n",
            "8/8 [==============================] - 0s 3ms/step - loss: 0.2606 - accuracy: 0.8787\n",
            "Epoch 460/1000\n",
            "8/8 [==============================] - 0s 3ms/step - loss: 0.2599 - accuracy: 0.8996\n",
            "Epoch 461/1000\n",
            "8/8 [==============================] - 0s 3ms/step - loss: 0.2544 - accuracy: 0.8870\n",
            "Epoch 462/1000\n",
            "8/8 [==============================] - 0s 3ms/step - loss: 0.2661 - accuracy: 0.8996\n",
            "Epoch 463/1000\n",
            "8/8 [==============================] - 0s 3ms/step - loss: 0.2621 - accuracy: 0.8828\n",
            "Epoch 464/1000\n",
            "8/8 [==============================] - 0s 3ms/step - loss: 0.2572 - accuracy: 0.8787\n",
            "Epoch 465/1000\n",
            "8/8 [==============================] - 0s 3ms/step - loss: 0.2633 - accuracy: 0.8870\n",
            "Epoch 466/1000\n",
            "8/8 [==============================] - 0s 3ms/step - loss: 0.2546 - accuracy: 0.8870\n",
            "Epoch 467/1000\n",
            "8/8 [==============================] - 0s 3ms/step - loss: 0.2559 - accuracy: 0.8870\n",
            "Epoch 468/1000\n",
            "8/8 [==============================] - 0s 3ms/step - loss: 0.2554 - accuracy: 0.9079\n",
            "Epoch 469/1000\n",
            "8/8 [==============================] - 0s 3ms/step - loss: 0.2659 - accuracy: 0.8912\n",
            "Epoch 470/1000\n",
            "8/8 [==============================] - 0s 3ms/step - loss: 0.2748 - accuracy: 0.8745\n",
            "Epoch 471/1000\n",
            "8/8 [==============================] - 0s 3ms/step - loss: 0.2477 - accuracy: 0.8996\n",
            "Epoch 472/1000\n",
            "8/8 [==============================] - 0s 3ms/step - loss: 0.2670 - accuracy: 0.9079\n",
            "Epoch 473/1000\n",
            "8/8 [==============================] - 0s 3ms/step - loss: 0.2557 - accuracy: 0.8787\n",
            "Epoch 474/1000\n",
            "8/8 [==============================] - 0s 3ms/step - loss: 0.2647 - accuracy: 0.8912\n",
            "Epoch 475/1000\n",
            "8/8 [==============================] - 0s 3ms/step - loss: 0.3097 - accuracy: 0.8745\n",
            "Epoch 476/1000\n",
            "8/8 [==============================] - 0s 3ms/step - loss: 0.3154 - accuracy: 0.8619\n",
            "Epoch 477/1000\n",
            "8/8 [==============================] - 0s 3ms/step - loss: 0.3573 - accuracy: 0.8326\n",
            "Epoch 478/1000\n",
            "8/8 [==============================] - 0s 3ms/step - loss: 0.2650 - accuracy: 0.8828\n",
            "Epoch 479/1000\n",
            "8/8 [==============================] - 0s 3ms/step - loss: 0.2683 - accuracy: 0.8787\n",
            "Epoch 480/1000\n",
            "8/8 [==============================] - 0s 3ms/step - loss: 0.2744 - accuracy: 0.8996\n",
            "Epoch 481/1000\n",
            "8/8 [==============================] - 0s 3ms/step - loss: 0.2687 - accuracy: 0.8828\n",
            "Epoch 482/1000\n",
            "8/8 [==============================] - 0s 3ms/step - loss: 0.2831 - accuracy: 0.8661\n",
            "Epoch 483/1000\n",
            "8/8 [==============================] - 0s 3ms/step - loss: 0.2559 - accuracy: 0.8912\n",
            "Epoch 484/1000\n",
            "8/8 [==============================] - 0s 3ms/step - loss: 0.2512 - accuracy: 0.8912\n",
            "Epoch 485/1000\n",
            "8/8 [==============================] - 0s 3ms/step - loss: 0.2672 - accuracy: 0.8954\n",
            "Epoch 486/1000\n",
            "8/8 [==============================] - 0s 3ms/step - loss: 0.2628 - accuracy: 0.8912\n",
            "Epoch 487/1000\n",
            "8/8 [==============================] - 0s 3ms/step - loss: 0.2510 - accuracy: 0.8870\n",
            "Epoch 488/1000\n",
            "8/8 [==============================] - 0s 3ms/step - loss: 0.2578 - accuracy: 0.8870\n",
            "Epoch 489/1000\n",
            "8/8 [==============================] - 0s 3ms/step - loss: 0.2538 - accuracy: 0.8954\n",
            "Epoch 490/1000\n",
            "8/8 [==============================] - 0s 3ms/step - loss: 0.2498 - accuracy: 0.8828\n",
            "Epoch 491/1000\n",
            "8/8 [==============================] - 0s 3ms/step - loss: 0.2524 - accuracy: 0.8787\n",
            "Epoch 492/1000\n",
            "8/8 [==============================] - 0s 3ms/step - loss: 0.2552 - accuracy: 0.8870\n",
            "Epoch 493/1000\n",
            "8/8 [==============================] - 0s 3ms/step - loss: 0.2490 - accuracy: 0.8828\n",
            "Epoch 494/1000\n",
            "8/8 [==============================] - 0s 3ms/step - loss: 0.2529 - accuracy: 0.8870\n",
            "Epoch 495/1000\n",
            "8/8 [==============================] - 0s 3ms/step - loss: 0.2555 - accuracy: 0.8954\n",
            "Epoch 496/1000\n",
            "8/8 [==============================] - 0s 3ms/step - loss: 0.2680 - accuracy: 0.8828\n",
            "Epoch 497/1000\n",
            "8/8 [==============================] - 0s 3ms/step - loss: 0.2778 - accuracy: 0.8912\n",
            "Epoch 498/1000\n",
            "8/8 [==============================] - 0s 3ms/step - loss: 0.2660 - accuracy: 0.8996\n",
            "Epoch 499/1000\n",
            "8/8 [==============================] - 0s 3ms/step - loss: 0.2643 - accuracy: 0.8745\n",
            "Epoch 500/1000\n",
            "8/8 [==============================] - 0s 3ms/step - loss: 0.2526 - accuracy: 0.8954\n",
            "Epoch 501/1000\n",
            "8/8 [==============================] - 0s 3ms/step - loss: 0.2556 - accuracy: 0.8870\n",
            "Epoch 502/1000\n",
            "8/8 [==============================] - 0s 4ms/step - loss: 0.2498 - accuracy: 0.8870\n",
            "Epoch 503/1000\n",
            "8/8 [==============================] - 0s 4ms/step - loss: 0.2543 - accuracy: 0.8912\n",
            "Epoch 504/1000\n",
            "8/8 [==============================] - 0s 3ms/step - loss: 0.2472 - accuracy: 0.8912\n",
            "Epoch 505/1000\n",
            "8/8 [==============================] - 0s 3ms/step - loss: 0.2634 - accuracy: 0.8870\n",
            "Epoch 506/1000\n",
            "8/8 [==============================] - 0s 2ms/step - loss: 0.2602 - accuracy: 0.8703\n",
            "Epoch 507/1000\n",
            "8/8 [==============================] - 0s 3ms/step - loss: 0.2529 - accuracy: 0.8870\n",
            "Epoch 508/1000\n",
            "8/8 [==============================] - 0s 3ms/step - loss: 0.2544 - accuracy: 0.8996\n",
            "Epoch 509/1000\n",
            "8/8 [==============================] - 0s 3ms/step - loss: 0.2555 - accuracy: 0.8912\n",
            "Epoch 510/1000\n",
            "8/8 [==============================] - 0s 3ms/step - loss: 0.2674 - accuracy: 0.8828\n",
            "Epoch 511/1000\n",
            "8/8 [==============================] - 0s 5ms/step - loss: 0.2499 - accuracy: 0.8828\n",
            "Epoch 512/1000\n",
            "8/8 [==============================] - 0s 4ms/step - loss: 0.2558 - accuracy: 0.8870\n",
            "Epoch 513/1000\n",
            "8/8 [==============================] - 0s 3ms/step - loss: 0.2650 - accuracy: 0.8828\n",
            "Epoch 514/1000\n",
            "8/8 [==============================] - 0s 3ms/step - loss: 0.2590 - accuracy: 0.8828\n",
            "Epoch 515/1000\n",
            "8/8 [==============================] - 0s 3ms/step - loss: 0.2521 - accuracy: 0.8954\n",
            "Epoch 516/1000\n",
            "8/8 [==============================] - 0s 4ms/step - loss: 0.2540 - accuracy: 0.8870\n",
            "Epoch 517/1000\n",
            "8/8 [==============================] - 0s 4ms/step - loss: 0.2579 - accuracy: 0.8787\n",
            "Epoch 518/1000\n",
            "8/8 [==============================] - 0s 3ms/step - loss: 0.2530 - accuracy: 0.8870\n",
            "Epoch 519/1000\n",
            "8/8 [==============================] - 0s 4ms/step - loss: 0.2490 - accuracy: 0.8870\n",
            "Epoch 520/1000\n",
            "8/8 [==============================] - 0s 4ms/step - loss: 0.2589 - accuracy: 0.8870\n",
            "Epoch 521/1000\n",
            "8/8 [==============================] - 0s 3ms/step - loss: 0.2494 - accuracy: 0.8787\n",
            "Epoch 522/1000\n",
            "8/8 [==============================] - 0s 3ms/step - loss: 0.2556 - accuracy: 0.8787\n",
            "Epoch 523/1000\n",
            "8/8 [==============================] - 0s 2ms/step - loss: 0.2505 - accuracy: 0.8828\n",
            "Epoch 524/1000\n",
            "8/8 [==============================] - 0s 2ms/step - loss: 0.2666 - accuracy: 0.8870\n",
            "Epoch 525/1000\n",
            "8/8 [==============================] - 0s 2ms/step - loss: 0.2539 - accuracy: 0.8912\n",
            "Epoch 526/1000\n",
            "8/8 [==============================] - 0s 3ms/step - loss: 0.2565 - accuracy: 0.8954\n",
            "Epoch 527/1000\n",
            "8/8 [==============================] - 0s 3ms/step - loss: 0.2550 - accuracy: 0.8912\n",
            "Epoch 528/1000\n",
            "8/8 [==============================] - 0s 3ms/step - loss: 0.2548 - accuracy: 0.8912\n",
            "Epoch 529/1000\n",
            "8/8 [==============================] - 0s 2ms/step - loss: 0.2531 - accuracy: 0.8954\n",
            "Epoch 530/1000\n",
            "8/8 [==============================] - 0s 2ms/step - loss: 0.2509 - accuracy: 0.8870\n",
            "Epoch 531/1000\n",
            "8/8 [==============================] - 0s 2ms/step - loss: 0.2517 - accuracy: 0.8912\n",
            "Epoch 532/1000\n",
            "8/8 [==============================] - 0s 2ms/step - loss: 0.2501 - accuracy: 0.8870\n",
            "Epoch 533/1000\n",
            "8/8 [==============================] - 0s 2ms/step - loss: 0.2495 - accuracy: 0.8870\n",
            "Epoch 534/1000\n",
            "8/8 [==============================] - 0s 2ms/step - loss: 0.2551 - accuracy: 0.8870\n",
            "Epoch 535/1000\n",
            "8/8 [==============================] - 0s 2ms/step - loss: 0.2564 - accuracy: 0.8912\n",
            "Epoch 536/1000\n",
            "8/8 [==============================] - 0s 2ms/step - loss: 0.2581 - accuracy: 0.8828\n",
            "Epoch 537/1000\n",
            "8/8 [==============================] - 0s 3ms/step - loss: 0.2547 - accuracy: 0.9038\n",
            "Epoch 538/1000\n",
            "8/8 [==============================] - 0s 2ms/step - loss: 0.2542 - accuracy: 0.8870\n",
            "Epoch 539/1000\n",
            "8/8 [==============================] - 0s 3ms/step - loss: 0.2503 - accuracy: 0.8954\n",
            "Epoch 540/1000\n",
            "8/8 [==============================] - 0s 3ms/step - loss: 0.2520 - accuracy: 0.8870\n",
            "Epoch 541/1000\n",
            "8/8 [==============================] - 0s 4ms/step - loss: 0.2564 - accuracy: 0.8996\n",
            "Epoch 542/1000\n",
            "8/8 [==============================] - 0s 3ms/step - loss: 0.2649 - accuracy: 0.8828\n",
            "Epoch 543/1000\n",
            "8/8 [==============================] - 0s 3ms/step - loss: 0.2863 - accuracy: 0.8870\n",
            "Epoch 544/1000\n",
            "8/8 [==============================] - 0s 3ms/step - loss: 0.2785 - accuracy: 0.8703\n",
            "Epoch 545/1000\n",
            "8/8 [==============================] - 0s 3ms/step - loss: 0.2989 - accuracy: 0.8870\n",
            "Epoch 546/1000\n",
            "8/8 [==============================] - 0s 3ms/step - loss: 0.2941 - accuracy: 0.8787\n",
            "Epoch 547/1000\n",
            "8/8 [==============================] - 0s 3ms/step - loss: 0.2948 - accuracy: 0.8703\n",
            "Epoch 548/1000\n",
            "8/8 [==============================] - 0s 3ms/step - loss: 0.2571 - accuracy: 0.9079\n",
            "Epoch 549/1000\n",
            "8/8 [==============================] - 0s 4ms/step - loss: 0.2493 - accuracy: 0.8870\n",
            "Epoch 550/1000\n",
            "8/8 [==============================] - 0s 3ms/step - loss: 0.2482 - accuracy: 0.8870\n",
            "Epoch 551/1000\n",
            "8/8 [==============================] - 0s 2ms/step - loss: 0.2514 - accuracy: 0.8912\n",
            "Epoch 552/1000\n",
            "8/8 [==============================] - 0s 3ms/step - loss: 0.2521 - accuracy: 0.8870\n",
            "Epoch 553/1000\n",
            "8/8 [==============================] - 0s 3ms/step - loss: 0.2538 - accuracy: 0.8870\n",
            "Epoch 554/1000\n",
            "8/8 [==============================] - 0s 3ms/step - loss: 0.2574 - accuracy: 0.8996\n",
            "Epoch 555/1000\n",
            "8/8 [==============================] - 0s 3ms/step - loss: 0.2679 - accuracy: 0.8912\n",
            "Epoch 556/1000\n",
            "8/8 [==============================] - 0s 3ms/step - loss: 0.2632 - accuracy: 0.8870\n",
            "Epoch 557/1000\n",
            "8/8 [==============================] - 0s 3ms/step - loss: 0.2731 - accuracy: 0.8870\n",
            "Epoch 558/1000\n",
            "8/8 [==============================] - 0s 3ms/step - loss: 0.2540 - accuracy: 0.8912\n",
            "Epoch 559/1000\n",
            "8/8 [==============================] - 0s 3ms/step - loss: 0.2510 - accuracy: 0.8912\n",
            "Epoch 560/1000\n",
            "8/8 [==============================] - 0s 3ms/step - loss: 0.2500 - accuracy: 0.8828\n",
            "Epoch 561/1000\n",
            "8/8 [==============================] - 0s 3ms/step - loss: 0.2533 - accuracy: 0.9038\n",
            "Epoch 562/1000\n",
            "8/8 [==============================] - 0s 3ms/step - loss: 0.2601 - accuracy: 0.8787\n",
            "Epoch 563/1000\n",
            "8/8 [==============================] - 0s 3ms/step - loss: 0.2699 - accuracy: 0.8954\n",
            "Epoch 564/1000\n",
            "8/8 [==============================] - 0s 3ms/step - loss: 0.3256 - accuracy: 0.8661\n",
            "Epoch 565/1000\n",
            "8/8 [==============================] - 0s 3ms/step - loss: 0.3503 - accuracy: 0.8452\n",
            "Epoch 566/1000\n",
            "8/8 [==============================] - 0s 3ms/step - loss: 0.3124 - accuracy: 0.8619\n",
            "Epoch 567/1000\n",
            "8/8 [==============================] - 0s 3ms/step - loss: 0.2843 - accuracy: 0.8494\n",
            "Epoch 568/1000\n",
            "8/8 [==============================] - 0s 3ms/step - loss: 0.2641 - accuracy: 0.8954\n",
            "Epoch 569/1000\n",
            "8/8 [==============================] - 0s 3ms/step - loss: 0.2681 - accuracy: 0.8787\n",
            "Epoch 570/1000\n",
            "8/8 [==============================] - 0s 3ms/step - loss: 0.2796 - accuracy: 0.8954\n",
            "Epoch 571/1000\n",
            "8/8 [==============================] - 0s 3ms/step - loss: 0.2502 - accuracy: 0.8912\n",
            "Epoch 572/1000\n",
            "8/8 [==============================] - 0s 3ms/step - loss: 0.2534 - accuracy: 0.8954\n",
            "Epoch 573/1000\n",
            "8/8 [==============================] - 0s 3ms/step - loss: 0.2523 - accuracy: 0.8870\n",
            "Epoch 574/1000\n",
            "8/8 [==============================] - 0s 3ms/step - loss: 0.2553 - accuracy: 0.8870\n",
            "Epoch 575/1000\n",
            "8/8 [==============================] - 0s 4ms/step - loss: 0.2568 - accuracy: 0.9163\n",
            "Epoch 576/1000\n",
            "8/8 [==============================] - 0s 3ms/step - loss: 0.2814 - accuracy: 0.8787\n",
            "Epoch 577/1000\n",
            "8/8 [==============================] - 0s 4ms/step - loss: 0.2604 - accuracy: 0.8828\n",
            "Epoch 578/1000\n",
            "8/8 [==============================] - 0s 3ms/step - loss: 0.2521 - accuracy: 0.9038\n",
            "Epoch 579/1000\n",
            "8/8 [==============================] - 0s 3ms/step - loss: 0.2520 - accuracy: 0.8745\n",
            "Epoch 580/1000\n",
            "8/8 [==============================] - 0s 3ms/step - loss: 0.2502 - accuracy: 0.8828\n",
            "Epoch 581/1000\n",
            "8/8 [==============================] - 0s 3ms/step - loss: 0.2530 - accuracy: 0.8787\n",
            "Epoch 582/1000\n",
            "8/8 [==============================] - 0s 3ms/step - loss: 0.2527 - accuracy: 0.8870\n",
            "Epoch 583/1000\n",
            "8/8 [==============================] - 0s 3ms/step - loss: 0.2549 - accuracy: 0.8870\n",
            "Epoch 584/1000\n",
            "8/8 [==============================] - 0s 4ms/step - loss: 0.2660 - accuracy: 0.8870\n",
            "Epoch 585/1000\n",
            "8/8 [==============================] - 0s 4ms/step - loss: 0.2517 - accuracy: 0.8996\n",
            "Epoch 586/1000\n",
            "8/8 [==============================] - 0s 3ms/step - loss: 0.2525 - accuracy: 0.8870\n",
            "Epoch 587/1000\n",
            "8/8 [==============================] - 0s 3ms/step - loss: 0.2495 - accuracy: 0.8954\n",
            "Epoch 588/1000\n",
            "8/8 [==============================] - 0s 3ms/step - loss: 0.2502 - accuracy: 0.8828\n",
            "Epoch 589/1000\n",
            "8/8 [==============================] - 0s 2ms/step - loss: 0.2504 - accuracy: 0.8912\n",
            "Epoch 590/1000\n",
            "8/8 [==============================] - 0s 3ms/step - loss: 0.2514 - accuracy: 0.8828\n",
            "Epoch 591/1000\n",
            "8/8 [==============================] - 0s 3ms/step - loss: 0.2543 - accuracy: 0.8954\n",
            "Epoch 592/1000\n",
            "8/8 [==============================] - 0s 3ms/step - loss: 0.2524 - accuracy: 0.8870\n",
            "Epoch 593/1000\n",
            "8/8 [==============================] - 0s 3ms/step - loss: 0.2481 - accuracy: 0.8828\n",
            "Epoch 594/1000\n",
            "8/8 [==============================] - 0s 3ms/step - loss: 0.2508 - accuracy: 0.8870\n",
            "Epoch 595/1000\n",
            "8/8 [==============================] - 0s 3ms/step - loss: 0.2488 - accuracy: 0.8828\n",
            "Epoch 596/1000\n",
            "8/8 [==============================] - 0s 3ms/step - loss: 0.2479 - accuracy: 0.8828\n",
            "Epoch 597/1000\n",
            "8/8 [==============================] - 0s 3ms/step - loss: 0.2490 - accuracy: 0.8828\n",
            "Epoch 598/1000\n",
            "8/8 [==============================] - 0s 3ms/step - loss: 0.2545 - accuracy: 0.8912\n",
            "Epoch 599/1000\n",
            "8/8 [==============================] - 0s 3ms/step - loss: 0.2545 - accuracy: 0.9038\n",
            "Epoch 600/1000\n",
            "8/8 [==============================] - 0s 3ms/step - loss: 0.2540 - accuracy: 0.8828\n",
            "Epoch 601/1000\n",
            "8/8 [==============================] - 0s 3ms/step - loss: 0.2493 - accuracy: 0.8996\n",
            "Epoch 602/1000\n",
            "8/8 [==============================] - 0s 3ms/step - loss: 0.2676 - accuracy: 0.8870\n",
            "Epoch 603/1000\n",
            "8/8 [==============================] - 0s 3ms/step - loss: 0.2676 - accuracy: 0.9038\n",
            "Epoch 604/1000\n",
            "8/8 [==============================] - 0s 3ms/step - loss: 0.3159 - accuracy: 0.8577\n",
            "Epoch 605/1000\n",
            "8/8 [==============================] - 0s 3ms/step - loss: 0.2615 - accuracy: 0.9038\n",
            "Epoch 606/1000\n",
            "8/8 [==============================] - 0s 3ms/step - loss: 0.2589 - accuracy: 0.8787\n",
            "Epoch 607/1000\n",
            "8/8 [==============================] - 0s 3ms/step - loss: 0.2506 - accuracy: 0.8870\n",
            "Epoch 608/1000\n",
            "8/8 [==============================] - 0s 3ms/step - loss: 0.2513 - accuracy: 0.8828\n",
            "Epoch 609/1000\n",
            "8/8 [==============================] - 0s 3ms/step - loss: 0.2493 - accuracy: 0.8870\n",
            "Epoch 610/1000\n",
            "8/8 [==============================] - 0s 3ms/step - loss: 0.2508 - accuracy: 0.8912\n",
            "Epoch 611/1000\n",
            "8/8 [==============================] - 0s 4ms/step - loss: 0.2532 - accuracy: 0.8954\n",
            "Epoch 612/1000\n",
            "8/8 [==============================] - 0s 3ms/step - loss: 0.2586 - accuracy: 0.8912\n",
            "Epoch 613/1000\n",
            "8/8 [==============================] - 0s 3ms/step - loss: 0.2478 - accuracy: 0.8996\n",
            "Epoch 614/1000\n",
            "8/8 [==============================] - 0s 4ms/step - loss: 0.2472 - accuracy: 0.8828\n",
            "Epoch 615/1000\n",
            "8/8 [==============================] - 0s 3ms/step - loss: 0.2587 - accuracy: 0.8996\n",
            "Epoch 616/1000\n",
            "8/8 [==============================] - 0s 3ms/step - loss: 0.2485 - accuracy: 0.8870\n",
            "Epoch 617/1000\n",
            "8/8 [==============================] - 0s 4ms/step - loss: 0.2503 - accuracy: 0.8828\n",
            "Epoch 618/1000\n",
            "8/8 [==============================] - 0s 3ms/step - loss: 0.2508 - accuracy: 0.8828\n",
            "Epoch 619/1000\n",
            "8/8 [==============================] - 0s 4ms/step - loss: 0.2523 - accuracy: 0.8912\n",
            "Epoch 620/1000\n",
            "8/8 [==============================] - 0s 4ms/step - loss: 0.2677 - accuracy: 0.8828\n",
            "Epoch 621/1000\n",
            "8/8 [==============================] - 0s 4ms/step - loss: 0.2489 - accuracy: 0.8828\n",
            "Epoch 622/1000\n",
            "8/8 [==============================] - 0s 4ms/step - loss: 0.2712 - accuracy: 0.9079\n",
            "Epoch 623/1000\n",
            "8/8 [==============================] - 0s 4ms/step - loss: 0.2652 - accuracy: 0.8745\n",
            "Epoch 624/1000\n",
            "8/8 [==============================] - 0s 4ms/step - loss: 0.2614 - accuracy: 0.8954\n",
            "Epoch 625/1000\n",
            "8/8 [==============================] - 0s 3ms/step - loss: 0.2657 - accuracy: 0.8828\n",
            "Epoch 626/1000\n",
            "8/8 [==============================] - 0s 3ms/step - loss: 0.2707 - accuracy: 0.8828\n",
            "Epoch 627/1000\n",
            "8/8 [==============================] - 0s 3ms/step - loss: 0.2520 - accuracy: 0.8870\n",
            "Epoch 628/1000\n",
            "8/8 [==============================] - 0s 3ms/step - loss: 0.2499 - accuracy: 0.8828\n",
            "Epoch 629/1000\n",
            "8/8 [==============================] - 0s 3ms/step - loss: 0.2505 - accuracy: 0.8912\n",
            "Epoch 630/1000\n",
            "8/8 [==============================] - 0s 3ms/step - loss: 0.2481 - accuracy: 0.8870\n",
            "Epoch 631/1000\n",
            "8/8 [==============================] - 0s 3ms/step - loss: 0.2652 - accuracy: 0.8912\n",
            "Epoch 632/1000\n",
            "8/8 [==============================] - 0s 3ms/step - loss: 0.2637 - accuracy: 0.8870\n",
            "Epoch 633/1000\n",
            "8/8 [==============================] - 0s 3ms/step - loss: 0.2420 - accuracy: 0.8828\n",
            "Epoch 634/1000\n",
            "8/8 [==============================] - 0s 3ms/step - loss: 0.2568 - accuracy: 0.8996\n",
            "Epoch 635/1000\n",
            "8/8 [==============================] - 0s 3ms/step - loss: 0.2503 - accuracy: 0.8870\n",
            "Epoch 636/1000\n",
            "8/8 [==============================] - 0s 3ms/step - loss: 0.2560 - accuracy: 0.8828\n",
            "Epoch 637/1000\n",
            "8/8 [==============================] - 0s 3ms/step - loss: 0.2563 - accuracy: 0.8870\n",
            "Epoch 638/1000\n",
            "8/8 [==============================] - 0s 3ms/step - loss: 0.2627 - accuracy: 0.8870\n",
            "Epoch 639/1000\n",
            "8/8 [==============================] - 0s 3ms/step - loss: 0.2578 - accuracy: 0.8787\n",
            "Epoch 640/1000\n",
            "8/8 [==============================] - 0s 3ms/step - loss: 0.2540 - accuracy: 0.8912\n",
            "Epoch 641/1000\n",
            "8/8 [==============================] - 0s 3ms/step - loss: 0.2492 - accuracy: 0.9038\n",
            "Epoch 642/1000\n",
            "8/8 [==============================] - 0s 3ms/step - loss: 0.2534 - accuracy: 0.8954\n",
            "Epoch 643/1000\n",
            "8/8 [==============================] - 0s 3ms/step - loss: 0.2500 - accuracy: 0.8870\n",
            "Epoch 644/1000\n",
            "8/8 [==============================] - 0s 3ms/step - loss: 0.2494 - accuracy: 0.8912\n",
            "Epoch 645/1000\n",
            "8/8 [==============================] - 0s 3ms/step - loss: 0.2497 - accuracy: 0.8828\n",
            "Epoch 646/1000\n",
            "8/8 [==============================] - 0s 3ms/step - loss: 0.2588 - accuracy: 0.8954\n",
            "Epoch 647/1000\n",
            "8/8 [==============================] - 0s 4ms/step - loss: 0.2502 - accuracy: 0.8787\n",
            "Epoch 648/1000\n",
            "8/8 [==============================] - 0s 4ms/step - loss: 0.2445 - accuracy: 0.8996\n",
            "Epoch 649/1000\n",
            "8/8 [==============================] - 0s 4ms/step - loss: 0.2566 - accuracy: 0.8787\n",
            "Epoch 650/1000\n",
            "8/8 [==============================] - 0s 3ms/step - loss: 0.2576 - accuracy: 0.8912\n",
            "Epoch 651/1000\n",
            "8/8 [==============================] - 0s 4ms/step - loss: 0.2595 - accuracy: 0.8996\n",
            "Epoch 652/1000\n",
            "8/8 [==============================] - 0s 3ms/step - loss: 0.2562 - accuracy: 0.8828\n",
            "Epoch 653/1000\n",
            "8/8 [==============================] - 0s 3ms/step - loss: 0.2495 - accuracy: 0.8828\n",
            "Epoch 654/1000\n",
            "8/8 [==============================] - 0s 3ms/step - loss: 0.2457 - accuracy: 0.8870\n",
            "Epoch 655/1000\n",
            "8/8 [==============================] - 0s 3ms/step - loss: 0.2459 - accuracy: 0.8870\n",
            "Epoch 656/1000\n",
            "8/8 [==============================] - 0s 4ms/step - loss: 0.2519 - accuracy: 0.8954\n",
            "Epoch 657/1000\n",
            "8/8 [==============================] - 0s 4ms/step - loss: 0.2585 - accuracy: 0.8870\n",
            "Epoch 658/1000\n",
            "8/8 [==============================] - 0s 3ms/step - loss: 0.2819 - accuracy: 0.9079\n",
            "Epoch 659/1000\n",
            "8/8 [==============================] - 0s 3ms/step - loss: 0.2851 - accuracy: 0.8619\n",
            "Epoch 660/1000\n",
            "8/8 [==============================] - 0s 3ms/step - loss: 0.2854 - accuracy: 0.8703\n",
            "Epoch 661/1000\n",
            "8/8 [==============================] - 0s 3ms/step - loss: 0.2577 - accuracy: 0.8828\n",
            "Epoch 662/1000\n",
            "8/8 [==============================] - 0s 3ms/step - loss: 0.2509 - accuracy: 0.8870\n",
            "Epoch 663/1000\n",
            "8/8 [==============================] - 0s 4ms/step - loss: 0.2469 - accuracy: 0.8828\n",
            "Epoch 664/1000\n",
            "8/8 [==============================] - 0s 3ms/step - loss: 0.2547 - accuracy: 0.8954\n",
            "Epoch 665/1000\n",
            "8/8 [==============================] - 0s 3ms/step - loss: 0.2579 - accuracy: 0.8954\n",
            "Epoch 666/1000\n",
            "8/8 [==============================] - 0s 2ms/step - loss: 0.2529 - accuracy: 0.9038\n",
            "Epoch 667/1000\n",
            "8/8 [==============================] - 0s 3ms/step - loss: 0.2648 - accuracy: 0.8828\n",
            "Epoch 668/1000\n",
            "8/8 [==============================] - 0s 3ms/step - loss: 0.2665 - accuracy: 0.9079\n",
            "Epoch 669/1000\n",
            "8/8 [==============================] - 0s 3ms/step - loss: 0.2650 - accuracy: 0.8703\n",
            "Epoch 670/1000\n",
            "8/8 [==============================] - 0s 3ms/step - loss: 0.2581 - accuracy: 0.8870\n",
            "Epoch 671/1000\n",
            "8/8 [==============================] - 0s 3ms/step - loss: 0.2596 - accuracy: 0.9038\n",
            "Epoch 672/1000\n",
            "8/8 [==============================] - 0s 2ms/step - loss: 0.2549 - accuracy: 0.8870\n",
            "Epoch 673/1000\n",
            "8/8 [==============================] - 0s 3ms/step - loss: 0.2468 - accuracy: 0.8954\n",
            "Epoch 674/1000\n",
            "8/8 [==============================] - 0s 3ms/step - loss: 0.2461 - accuracy: 0.8828\n",
            "Epoch 675/1000\n",
            "8/8 [==============================] - 0s 2ms/step - loss: 0.2483 - accuracy: 0.8828\n",
            "Epoch 676/1000\n",
            "8/8 [==============================] - 0s 2ms/step - loss: 0.2468 - accuracy: 0.8828\n",
            "Epoch 677/1000\n",
            "8/8 [==============================] - 0s 3ms/step - loss: 0.2556 - accuracy: 0.8912\n",
            "Epoch 678/1000\n",
            "8/8 [==============================] - 0s 2ms/step - loss: 0.2623 - accuracy: 0.8787\n",
            "Epoch 679/1000\n",
            "8/8 [==============================] - 0s 3ms/step - loss: 0.2604 - accuracy: 0.8996\n",
            "Epoch 680/1000\n",
            "8/8 [==============================] - 0s 3ms/step - loss: 0.2437 - accuracy: 0.8787\n",
            "Epoch 681/1000\n",
            "8/8 [==============================] - 0s 2ms/step - loss: 0.2531 - accuracy: 0.8954\n",
            "Epoch 682/1000\n",
            "8/8 [==============================] - 0s 4ms/step - loss: 0.2878 - accuracy: 0.8703\n",
            "Epoch 683/1000\n",
            "8/8 [==============================] - 0s 2ms/step - loss: 0.2782 - accuracy: 0.8996\n",
            "Epoch 684/1000\n",
            "8/8 [==============================] - 0s 2ms/step - loss: 0.2875 - accuracy: 0.8787\n",
            "Epoch 685/1000\n",
            "8/8 [==============================] - 0s 3ms/step - loss: 0.2924 - accuracy: 0.8787\n",
            "Epoch 686/1000\n",
            "8/8 [==============================] - 0s 3ms/step - loss: 0.2557 - accuracy: 0.8870\n",
            "Epoch 687/1000\n",
            "8/8 [==============================] - 0s 3ms/step - loss: 0.2601 - accuracy: 0.8787\n",
            "Epoch 688/1000\n",
            "8/8 [==============================] - 0s 2ms/step - loss: 0.2480 - accuracy: 0.8870\n",
            "Epoch 689/1000\n",
            "8/8 [==============================] - 0s 2ms/step - loss: 0.2505 - accuracy: 0.9079\n",
            "Epoch 690/1000\n",
            "8/8 [==============================] - 0s 2ms/step - loss: 0.2652 - accuracy: 0.8912\n",
            "Epoch 691/1000\n",
            "8/8 [==============================] - 0s 3ms/step - loss: 0.2571 - accuracy: 0.8787\n",
            "Epoch 692/1000\n",
            "8/8 [==============================] - 0s 2ms/step - loss: 0.2553 - accuracy: 0.8703\n",
            "Epoch 693/1000\n",
            "8/8 [==============================] - 0s 2ms/step - loss: 0.2464 - accuracy: 0.8787\n",
            "Epoch 694/1000\n",
            "8/8 [==============================] - 0s 2ms/step - loss: 0.2462 - accuracy: 0.8828\n",
            "Epoch 695/1000\n",
            "8/8 [==============================] - 0s 2ms/step - loss: 0.2492 - accuracy: 0.8787\n",
            "Epoch 696/1000\n",
            "8/8 [==============================] - 0s 2ms/step - loss: 0.2579 - accuracy: 0.8996\n",
            "Epoch 697/1000\n",
            "8/8 [==============================] - 0s 2ms/step - loss: 0.2504 - accuracy: 0.8745\n",
            "Epoch 698/1000\n",
            "8/8 [==============================] - 0s 2ms/step - loss: 0.2583 - accuracy: 0.8954\n",
            "Epoch 699/1000\n",
            "8/8 [==============================] - 0s 2ms/step - loss: 0.2576 - accuracy: 0.8787\n",
            "Epoch 700/1000\n",
            "8/8 [==============================] - 0s 2ms/step - loss: 0.2541 - accuracy: 0.8828\n",
            "Epoch 701/1000\n",
            "8/8 [==============================] - 0s 2ms/step - loss: 0.2486 - accuracy: 0.8954\n",
            "Epoch 702/1000\n",
            "8/8 [==============================] - 0s 2ms/step - loss: 0.2487 - accuracy: 0.8912\n",
            "Epoch 703/1000\n",
            "8/8 [==============================] - 0s 2ms/step - loss: 0.2677 - accuracy: 0.8870\n",
            "Epoch 704/1000\n",
            "8/8 [==============================] - 0s 2ms/step - loss: 0.2745 - accuracy: 0.8745\n",
            "Epoch 705/1000\n",
            "8/8 [==============================] - 0s 3ms/step - loss: 0.2630 - accuracy: 0.9038\n",
            "Epoch 706/1000\n",
            "8/8 [==============================] - 0s 3ms/step - loss: 0.2486 - accuracy: 0.8828\n",
            "Epoch 707/1000\n",
            "8/8 [==============================] - 0s 3ms/step - loss: 0.2505 - accuracy: 0.8870\n",
            "Epoch 708/1000\n",
            "8/8 [==============================] - 0s 3ms/step - loss: 0.2564 - accuracy: 0.8954\n",
            "Epoch 709/1000\n",
            "8/8 [==============================] - 0s 3ms/step - loss: 0.2498 - accuracy: 0.8912\n",
            "Epoch 710/1000\n",
            "8/8 [==============================] - 0s 3ms/step - loss: 0.2496 - accuracy: 0.8870\n",
            "Epoch 711/1000\n",
            "8/8 [==============================] - 0s 3ms/step - loss: 0.2539 - accuracy: 0.8912\n",
            "Epoch 712/1000\n",
            "8/8 [==============================] - 0s 3ms/step - loss: 0.2581 - accuracy: 0.8912\n",
            "Epoch 713/1000\n",
            "8/8 [==============================] - 0s 3ms/step - loss: 0.2523 - accuracy: 0.9038\n",
            "Epoch 714/1000\n",
            "8/8 [==============================] - 0s 3ms/step - loss: 0.2477 - accuracy: 0.8745\n",
            "Epoch 715/1000\n",
            "8/8 [==============================] - 0s 3ms/step - loss: 0.2601 - accuracy: 0.8870\n",
            "Epoch 716/1000\n",
            "8/8 [==============================] - 0s 3ms/step - loss: 0.2518 - accuracy: 0.8787\n",
            "Epoch 717/1000\n",
            "8/8 [==============================] - 0s 3ms/step - loss: 0.2686 - accuracy: 0.8828\n",
            "Epoch 718/1000\n",
            "8/8 [==============================] - 0s 4ms/step - loss: 0.2549 - accuracy: 0.8828\n",
            "Epoch 719/1000\n",
            "8/8 [==============================] - 0s 3ms/step - loss: 0.2567 - accuracy: 0.8828\n",
            "Epoch 720/1000\n",
            "8/8 [==============================] - 0s 3ms/step - loss: 0.2635 - accuracy: 0.8954\n",
            "Epoch 721/1000\n",
            "8/8 [==============================] - 0s 4ms/step - loss: 0.2567 - accuracy: 0.8787\n",
            "Epoch 722/1000\n",
            "8/8 [==============================] - 0s 3ms/step - loss: 0.2611 - accuracy: 0.9038\n",
            "Epoch 723/1000\n",
            "8/8 [==============================] - 0s 3ms/step - loss: 0.2604 - accuracy: 0.8870\n",
            "Epoch 724/1000\n",
            "8/8 [==============================] - 0s 2ms/step - loss: 0.2797 - accuracy: 0.8954\n",
            "Epoch 725/1000\n",
            "8/8 [==============================] - 0s 3ms/step - loss: 0.2827 - accuracy: 0.8745\n",
            "Epoch 726/1000\n",
            "8/8 [==============================] - 0s 2ms/step - loss: 0.2708 - accuracy: 0.8745\n",
            "Epoch 727/1000\n",
            "8/8 [==============================] - 0s 3ms/step - loss: 0.2500 - accuracy: 0.8996\n",
            "Epoch 728/1000\n",
            "8/8 [==============================] - 0s 4ms/step - loss: 0.2477 - accuracy: 0.8912\n",
            "Epoch 729/1000\n",
            "8/8 [==============================] - 0s 3ms/step - loss: 0.2724 - accuracy: 0.8828\n",
            "Epoch 730/1000\n",
            "8/8 [==============================] - 0s 3ms/step - loss: 0.2539 - accuracy: 0.8996\n",
            "Epoch 731/1000\n",
            "8/8 [==============================] - 0s 3ms/step - loss: 0.2717 - accuracy: 0.8912\n",
            "Epoch 732/1000\n",
            "8/8 [==============================] - 0s 3ms/step - loss: 0.2616 - accuracy: 0.8954\n",
            "Epoch 733/1000\n",
            "8/8 [==============================] - 0s 2ms/step - loss: 0.2490 - accuracy: 0.8996\n",
            "Epoch 734/1000\n",
            "8/8 [==============================] - 0s 2ms/step - loss: 0.2505 - accuracy: 0.8870\n",
            "Epoch 735/1000\n",
            "8/8 [==============================] - 0s 4ms/step - loss: 0.2476 - accuracy: 0.8828\n",
            "Epoch 736/1000\n",
            "8/8 [==============================] - 0s 2ms/step - loss: 0.2529 - accuracy: 0.8996\n",
            "Epoch 737/1000\n",
            "8/8 [==============================] - 0s 2ms/step - loss: 0.2565 - accuracy: 0.8954\n",
            "Epoch 738/1000\n",
            "8/8 [==============================] - 0s 2ms/step - loss: 0.2586 - accuracy: 0.8996\n",
            "Epoch 739/1000\n",
            "8/8 [==============================] - 0s 4ms/step - loss: 0.2533 - accuracy: 0.8912\n",
            "Epoch 740/1000\n",
            "8/8 [==============================] - 0s 4ms/step - loss: 0.2544 - accuracy: 0.8954\n",
            "Epoch 741/1000\n",
            "8/8 [==============================] - 0s 3ms/step - loss: 0.2642 - accuracy: 0.8787\n",
            "Epoch 742/1000\n",
            "8/8 [==============================] - 0s 3ms/step - loss: 0.2708 - accuracy: 0.8954\n",
            "Epoch 743/1000\n",
            "8/8 [==============================] - 0s 4ms/step - loss: 0.2685 - accuracy: 0.8912\n",
            "Epoch 744/1000\n",
            "8/8 [==============================] - 0s 3ms/step - loss: 0.2406 - accuracy: 0.8996\n",
            "Epoch 745/1000\n",
            "8/8 [==============================] - 0s 4ms/step - loss: 0.2503 - accuracy: 0.8828\n",
            "Epoch 746/1000\n",
            "8/8 [==============================] - 0s 4ms/step - loss: 0.2530 - accuracy: 0.8787\n",
            "Epoch 747/1000\n",
            "8/8 [==============================] - 0s 3ms/step - loss: 0.2452 - accuracy: 0.8912\n",
            "Epoch 748/1000\n",
            "8/8 [==============================] - 0s 3ms/step - loss: 0.2496 - accuracy: 0.8870\n",
            "Epoch 749/1000\n",
            "8/8 [==============================] - 0s 3ms/step - loss: 0.2519 - accuracy: 0.8828\n",
            "Epoch 750/1000\n",
            "8/8 [==============================] - 0s 4ms/step - loss: 0.2460 - accuracy: 0.8912\n",
            "Epoch 751/1000\n",
            "8/8 [==============================] - 0s 5ms/step - loss: 0.2462 - accuracy: 0.8870\n",
            "Epoch 752/1000\n",
            "8/8 [==============================] - 0s 4ms/step - loss: 0.2481 - accuracy: 0.8954\n",
            "Epoch 753/1000\n",
            "8/8 [==============================] - 0s 3ms/step - loss: 0.2466 - accuracy: 0.8870\n",
            "Epoch 754/1000\n",
            "8/8 [==============================] - 0s 4ms/step - loss: 0.2529 - accuracy: 0.8912\n",
            "Epoch 755/1000\n",
            "8/8 [==============================] - 0s 3ms/step - loss: 0.2451 - accuracy: 0.8996\n",
            "Epoch 756/1000\n",
            "8/8 [==============================] - 0s 3ms/step - loss: 0.2488 - accuracy: 0.8954\n",
            "Epoch 757/1000\n",
            "8/8 [==============================] - 0s 3ms/step - loss: 0.2464 - accuracy: 0.8870\n",
            "Epoch 758/1000\n",
            "8/8 [==============================] - 0s 2ms/step - loss: 0.2462 - accuracy: 0.8828\n",
            "Epoch 759/1000\n",
            "8/8 [==============================] - 0s 2ms/step - loss: 0.2475 - accuracy: 0.8828\n",
            "Epoch 760/1000\n",
            "8/8 [==============================] - 0s 2ms/step - loss: 0.2495 - accuracy: 0.8912\n",
            "Epoch 761/1000\n",
            "8/8 [==============================] - 0s 2ms/step - loss: 0.2514 - accuracy: 0.8870\n",
            "Epoch 762/1000\n",
            "8/8 [==============================] - 0s 3ms/step - loss: 0.2802 - accuracy: 0.8703\n",
            "Epoch 763/1000\n",
            "8/8 [==============================] - 0s 2ms/step - loss: 0.3062 - accuracy: 0.8536\n",
            "Epoch 764/1000\n",
            "8/8 [==============================] - 0s 2ms/step - loss: 0.2687 - accuracy: 0.8703\n",
            "Epoch 765/1000\n",
            "8/8 [==============================] - 0s 2ms/step - loss: 0.2520 - accuracy: 0.8954\n",
            "Epoch 766/1000\n",
            "8/8 [==============================] - 0s 3ms/step - loss: 0.2582 - accuracy: 0.8954\n",
            "Epoch 767/1000\n",
            "8/8 [==============================] - 0s 2ms/step - loss: 0.2534 - accuracy: 0.8954\n",
            "Epoch 768/1000\n",
            "8/8 [==============================] - 0s 2ms/step - loss: 0.2501 - accuracy: 0.8703\n",
            "Epoch 769/1000\n",
            "8/8 [==============================] - 0s 2ms/step - loss: 0.2674 - accuracy: 0.8912\n",
            "Epoch 770/1000\n",
            "8/8 [==============================] - 0s 2ms/step - loss: 0.2547 - accuracy: 0.8745\n",
            "Epoch 771/1000\n",
            "8/8 [==============================] - 0s 2ms/step - loss: 0.2496 - accuracy: 0.9038\n",
            "Epoch 772/1000\n",
            "8/8 [==============================] - 0s 2ms/step - loss: 0.2523 - accuracy: 0.8870\n",
            "Epoch 773/1000\n",
            "8/8 [==============================] - 0s 2ms/step - loss: 0.2596 - accuracy: 0.8828\n",
            "Epoch 774/1000\n",
            "8/8 [==============================] - 0s 2ms/step - loss: 0.2448 - accuracy: 0.8954\n",
            "Epoch 775/1000\n",
            "8/8 [==============================] - 0s 2ms/step - loss: 0.2489 - accuracy: 0.8912\n",
            "Epoch 776/1000\n",
            "8/8 [==============================] - 0s 3ms/step - loss: 0.2498 - accuracy: 0.8828\n",
            "Epoch 777/1000\n",
            "8/8 [==============================] - 0s 4ms/step - loss: 0.2448 - accuracy: 0.8828\n",
            "Epoch 778/1000\n",
            "8/8 [==============================] - 0s 3ms/step - loss: 0.2496 - accuracy: 0.8954\n",
            "Epoch 779/1000\n",
            "8/8 [==============================] - 0s 3ms/step - loss: 0.2776 - accuracy: 0.8787\n",
            "Epoch 780/1000\n",
            "8/8 [==============================] - 0s 3ms/step - loss: 0.2435 - accuracy: 0.8912\n",
            "Epoch 781/1000\n",
            "8/8 [==============================] - 0s 3ms/step - loss: 0.2755 - accuracy: 0.8870\n",
            "Epoch 782/1000\n",
            "8/8 [==============================] - 0s 3ms/step - loss: 0.2496 - accuracy: 0.8996\n",
            "Epoch 783/1000\n",
            "8/8 [==============================] - 0s 3ms/step - loss: 0.2547 - accuracy: 0.8787\n",
            "Epoch 784/1000\n",
            "8/8 [==============================] - 0s 3ms/step - loss: 0.2550 - accuracy: 0.8996\n",
            "Epoch 785/1000\n",
            "8/8 [==============================] - 0s 3ms/step - loss: 0.2801 - accuracy: 0.8787\n",
            "Epoch 786/1000\n",
            "8/8 [==============================] - 0s 3ms/step - loss: 0.2490 - accuracy: 0.9079\n",
            "Epoch 787/1000\n",
            "8/8 [==============================] - 0s 3ms/step - loss: 0.2714 - accuracy: 0.8954\n",
            "Epoch 788/1000\n",
            "8/8 [==============================] - 0s 3ms/step - loss: 0.2671 - accuracy: 0.8828\n",
            "Epoch 789/1000\n",
            "8/8 [==============================] - 0s 4ms/step - loss: 0.2592 - accuracy: 0.8954\n",
            "Epoch 790/1000\n",
            "8/8 [==============================] - 0s 3ms/step - loss: 0.2537 - accuracy: 0.8828\n",
            "Epoch 791/1000\n",
            "8/8 [==============================] - 0s 3ms/step - loss: 0.2497 - accuracy: 0.9079\n",
            "Epoch 792/1000\n",
            "8/8 [==============================] - 0s 3ms/step - loss: 0.2653 - accuracy: 0.8870\n",
            "Epoch 793/1000\n",
            "8/8 [==============================] - 0s 3ms/step - loss: 0.2474 - accuracy: 0.8996\n",
            "Epoch 794/1000\n",
            "8/8 [==============================] - 0s 3ms/step - loss: 0.2479 - accuracy: 0.8954\n",
            "Epoch 795/1000\n",
            "8/8 [==============================] - 0s 3ms/step - loss: 0.2645 - accuracy: 0.9038\n",
            "Epoch 796/1000\n",
            "8/8 [==============================] - 0s 3ms/step - loss: 0.2707 - accuracy: 0.8828\n",
            "Epoch 797/1000\n",
            "8/8 [==============================] - 0s 3ms/step - loss: 0.2579 - accuracy: 0.8828\n",
            "Epoch 798/1000\n",
            "8/8 [==============================] - 0s 3ms/step - loss: 0.2461 - accuracy: 0.8870\n",
            "Epoch 799/1000\n",
            "8/8 [==============================] - 0s 2ms/step - loss: 0.2543 - accuracy: 0.8954\n",
            "Epoch 800/1000\n",
            "8/8 [==============================] - 0s 3ms/step - loss: 0.2497 - accuracy: 0.8996\n",
            "Epoch 801/1000\n",
            "8/8 [==============================] - 0s 3ms/step - loss: 0.2466 - accuracy: 0.8787\n",
            "Epoch 802/1000\n",
            "8/8 [==============================] - 0s 3ms/step - loss: 0.2452 - accuracy: 0.8870\n",
            "Epoch 803/1000\n",
            "8/8 [==============================] - 0s 3ms/step - loss: 0.2499 - accuracy: 0.8870\n",
            "Epoch 804/1000\n",
            "8/8 [==============================] - 0s 3ms/step - loss: 0.2634 - accuracy: 0.8787\n",
            "Epoch 805/1000\n",
            "8/8 [==============================] - 0s 3ms/step - loss: 0.2613 - accuracy: 0.8870\n",
            "Epoch 806/1000\n",
            "8/8 [==============================] - 0s 3ms/step - loss: 0.2525 - accuracy: 0.8787\n",
            "Epoch 807/1000\n",
            "8/8 [==============================] - 0s 2ms/step - loss: 0.2478 - accuracy: 0.8954\n",
            "Epoch 808/1000\n",
            "8/8 [==============================] - 0s 3ms/step - loss: 0.2502 - accuracy: 0.8828\n",
            "Epoch 809/1000\n",
            "8/8 [==============================] - 0s 3ms/step - loss: 0.2631 - accuracy: 0.8912\n",
            "Epoch 810/1000\n",
            "8/8 [==============================] - 0s 3ms/step - loss: 0.2687 - accuracy: 0.8745\n",
            "Epoch 811/1000\n",
            "8/8 [==============================] - 0s 3ms/step - loss: 0.2635 - accuracy: 0.8954\n",
            "Epoch 812/1000\n",
            "8/8 [==============================] - 0s 3ms/step - loss: 0.2522 - accuracy: 0.8870\n",
            "Epoch 813/1000\n",
            "8/8 [==============================] - 0s 3ms/step - loss: 0.2573 - accuracy: 0.8870\n",
            "Epoch 814/1000\n",
            "8/8 [==============================] - 0s 3ms/step - loss: 0.2524 - accuracy: 0.8787\n",
            "Epoch 815/1000\n",
            "8/8 [==============================] - 0s 3ms/step - loss: 0.2502 - accuracy: 0.8870\n",
            "Epoch 816/1000\n",
            "8/8 [==============================] - 0s 3ms/step - loss: 0.2462 - accuracy: 0.8745\n",
            "Epoch 817/1000\n",
            "8/8 [==============================] - 0s 3ms/step - loss: 0.2572 - accuracy: 0.8828\n",
            "Epoch 818/1000\n",
            "8/8 [==============================] - 0s 2ms/step - loss: 0.2549 - accuracy: 0.8912\n",
            "Epoch 819/1000\n",
            "8/8 [==============================] - 0s 3ms/step - loss: 0.2499 - accuracy: 0.8912\n",
            "Epoch 820/1000\n",
            "8/8 [==============================] - 0s 3ms/step - loss: 0.2483 - accuracy: 0.8828\n",
            "Epoch 821/1000\n",
            "8/8 [==============================] - 0s 4ms/step - loss: 0.2473 - accuracy: 0.8996\n",
            "Epoch 822/1000\n",
            "8/8 [==============================] - 0s 3ms/step - loss: 0.2432 - accuracy: 0.8870\n",
            "Epoch 823/1000\n",
            "8/8 [==============================] - 0s 2ms/step - loss: 0.2495 - accuracy: 0.8870\n",
            "Epoch 824/1000\n",
            "8/8 [==============================] - 0s 3ms/step - loss: 0.2450 - accuracy: 0.8828\n",
            "Epoch 825/1000\n",
            "8/8 [==============================] - 0s 3ms/step - loss: 0.2514 - accuracy: 0.8787\n",
            "Epoch 826/1000\n",
            "8/8 [==============================] - 0s 3ms/step - loss: 0.2476 - accuracy: 0.8787\n",
            "Epoch 827/1000\n",
            "8/8 [==============================] - 0s 3ms/step - loss: 0.2539 - accuracy: 0.8996\n",
            "Epoch 828/1000\n",
            "8/8 [==============================] - 0s 3ms/step - loss: 0.2673 - accuracy: 0.8870\n",
            "Epoch 829/1000\n",
            "8/8 [==============================] - 0s 3ms/step - loss: 0.2456 - accuracy: 0.8996\n",
            "Epoch 830/1000\n",
            "8/8 [==============================] - 0s 3ms/step - loss: 0.2489 - accuracy: 0.8787\n",
            "Epoch 831/1000\n",
            "8/8 [==============================] - 0s 3ms/step - loss: 0.2550 - accuracy: 0.8954\n",
            "Epoch 832/1000\n",
            "8/8 [==============================] - 0s 3ms/step - loss: 0.2544 - accuracy: 0.8912\n",
            "Epoch 833/1000\n",
            "8/8 [==============================] - 0s 4ms/step - loss: 0.2531 - accuracy: 0.8787\n",
            "Epoch 834/1000\n",
            "8/8 [==============================] - 0s 3ms/step - loss: 0.2511 - accuracy: 0.8912\n",
            "Epoch 835/1000\n",
            "8/8 [==============================] - 0s 3ms/step - loss: 0.2457 - accuracy: 0.8787\n",
            "Epoch 836/1000\n",
            "8/8 [==============================] - 0s 3ms/step - loss: 0.2656 - accuracy: 0.8912\n",
            "Epoch 837/1000\n",
            "8/8 [==============================] - 0s 3ms/step - loss: 0.2500 - accuracy: 0.8870\n",
            "Epoch 838/1000\n",
            "8/8 [==============================] - 0s 3ms/step - loss: 0.2520 - accuracy: 0.8745\n",
            "Epoch 839/1000\n",
            "8/8 [==============================] - 0s 3ms/step - loss: 0.2596 - accuracy: 0.8828\n",
            "Epoch 840/1000\n",
            "8/8 [==============================] - 0s 3ms/step - loss: 0.2446 - accuracy: 0.8954\n",
            "Epoch 841/1000\n",
            "8/8 [==============================] - 0s 3ms/step - loss: 0.2841 - accuracy: 0.8870\n",
            "Epoch 842/1000\n",
            "8/8 [==============================] - 0s 3ms/step - loss: 0.2703 - accuracy: 0.8828\n",
            "Epoch 843/1000\n",
            "8/8 [==============================] - 0s 3ms/step - loss: 0.2507 - accuracy: 0.8787\n",
            "Epoch 844/1000\n",
            "8/8 [==============================] - 0s 3ms/step - loss: 0.2484 - accuracy: 0.8828\n",
            "Epoch 845/1000\n",
            "8/8 [==============================] - 0s 3ms/step - loss: 0.2496 - accuracy: 0.8787\n",
            "Epoch 846/1000\n",
            "8/8 [==============================] - 0s 3ms/step - loss: 0.2458 - accuracy: 0.8870\n",
            "Epoch 847/1000\n",
            "8/8 [==============================] - 0s 3ms/step - loss: 0.2503 - accuracy: 0.8954\n",
            "Epoch 848/1000\n",
            "8/8 [==============================] - 0s 3ms/step - loss: 0.2433 - accuracy: 0.9121\n",
            "Epoch 849/1000\n",
            "8/8 [==============================] - 0s 3ms/step - loss: 0.2742 - accuracy: 0.8745\n",
            "Epoch 850/1000\n",
            "8/8 [==============================] - 0s 3ms/step - loss: 0.2540 - accuracy: 0.8828\n",
            "Epoch 851/1000\n",
            "8/8 [==============================] - 0s 3ms/step - loss: 0.2545 - accuracy: 0.8912\n",
            "Epoch 852/1000\n",
            "8/8 [==============================] - 0s 3ms/step - loss: 0.2452 - accuracy: 0.8828\n",
            "Epoch 853/1000\n",
            "8/8 [==============================] - 0s 3ms/step - loss: 0.2510 - accuracy: 0.8954\n",
            "Epoch 854/1000\n",
            "8/8 [==============================] - 0s 3ms/step - loss: 0.2446 - accuracy: 0.8870\n",
            "Epoch 855/1000\n",
            "8/8 [==============================] - 0s 3ms/step - loss: 0.2460 - accuracy: 0.8912\n",
            "Epoch 856/1000\n",
            "8/8 [==============================] - 0s 3ms/step - loss: 0.2616 - accuracy: 0.8996\n",
            "Epoch 857/1000\n",
            "8/8 [==============================] - 0s 3ms/step - loss: 0.2541 - accuracy: 0.8870\n",
            "Epoch 858/1000\n",
            "8/8 [==============================] - 0s 3ms/step - loss: 0.2641 - accuracy: 0.8787\n",
            "Epoch 859/1000\n",
            "8/8 [==============================] - 0s 3ms/step - loss: 0.2520 - accuracy: 0.8954\n",
            "Epoch 860/1000\n",
            "8/8 [==============================] - 0s 3ms/step - loss: 0.2533 - accuracy: 0.8954\n",
            "Epoch 861/1000\n",
            "8/8 [==============================] - 0s 4ms/step - loss: 0.2609 - accuracy: 0.8912\n",
            "Epoch 862/1000\n",
            "8/8 [==============================] - 0s 3ms/step - loss: 0.2607 - accuracy: 0.8912\n",
            "Epoch 863/1000\n",
            "8/8 [==============================] - 0s 3ms/step - loss: 0.2547 - accuracy: 0.8828\n",
            "Epoch 864/1000\n",
            "8/8 [==============================] - 0s 3ms/step - loss: 0.2493 - accuracy: 0.8996\n",
            "Epoch 865/1000\n",
            "8/8 [==============================] - 0s 3ms/step - loss: 0.2635 - accuracy: 0.8703\n",
            "Epoch 866/1000\n",
            "8/8 [==============================] - 0s 3ms/step - loss: 0.2533 - accuracy: 0.8912\n",
            "Epoch 867/1000\n",
            "8/8 [==============================] - 0s 3ms/step - loss: 0.2471 - accuracy: 0.8870\n",
            "Epoch 868/1000\n",
            "8/8 [==============================] - 0s 3ms/step - loss: 0.2498 - accuracy: 0.8870\n",
            "Epoch 869/1000\n",
            "8/8 [==============================] - 0s 3ms/step - loss: 0.2525 - accuracy: 0.8996\n",
            "Epoch 870/1000\n",
            "8/8 [==============================] - 0s 3ms/step - loss: 0.2482 - accuracy: 0.8745\n",
            "Epoch 871/1000\n",
            "8/8 [==============================] - 0s 3ms/step - loss: 0.2440 - accuracy: 0.8828\n",
            "Epoch 872/1000\n",
            "8/8 [==============================] - 0s 3ms/step - loss: 0.2572 - accuracy: 0.9079\n",
            "Epoch 873/1000\n",
            "8/8 [==============================] - 0s 3ms/step - loss: 0.2774 - accuracy: 0.8703\n",
            "Epoch 874/1000\n",
            "8/8 [==============================] - 0s 3ms/step - loss: 0.2671 - accuracy: 0.8870\n",
            "Epoch 875/1000\n",
            "8/8 [==============================] - 0s 3ms/step - loss: 0.2456 - accuracy: 0.8912\n",
            "Epoch 876/1000\n",
            "8/8 [==============================] - 0s 4ms/step - loss: 0.2451 - accuracy: 0.8870\n",
            "Epoch 877/1000\n",
            "8/8 [==============================] - 0s 3ms/step - loss: 0.2445 - accuracy: 0.8954\n",
            "Epoch 878/1000\n",
            "8/8 [==============================] - 0s 3ms/step - loss: 0.2452 - accuracy: 0.8912\n",
            "Epoch 879/1000\n",
            "8/8 [==============================] - 0s 3ms/step - loss: 0.2481 - accuracy: 0.8870\n",
            "Epoch 880/1000\n",
            "8/8 [==============================] - 0s 3ms/step - loss: 0.2498 - accuracy: 0.8828\n",
            "Epoch 881/1000\n",
            "8/8 [==============================] - 0s 3ms/step - loss: 0.2518 - accuracy: 0.8828\n",
            "Epoch 882/1000\n",
            "8/8 [==============================] - 0s 3ms/step - loss: 0.2509 - accuracy: 0.8828\n",
            "Epoch 883/1000\n",
            "8/8 [==============================] - 0s 3ms/step - loss: 0.2525 - accuracy: 0.8954\n",
            "Epoch 884/1000\n",
            "8/8 [==============================] - 0s 3ms/step - loss: 0.2495 - accuracy: 0.8787\n",
            "Epoch 885/1000\n",
            "8/8 [==============================] - 0s 3ms/step - loss: 0.2590 - accuracy: 0.8996\n",
            "Epoch 886/1000\n",
            "8/8 [==============================] - 0s 3ms/step - loss: 0.2485 - accuracy: 0.8745\n",
            "Epoch 887/1000\n",
            "8/8 [==============================] - 0s 3ms/step - loss: 0.2459 - accuracy: 0.8954\n",
            "Epoch 888/1000\n",
            "8/8 [==============================] - 0s 3ms/step - loss: 0.2499 - accuracy: 0.8912\n",
            "Epoch 889/1000\n",
            "8/8 [==============================] - 0s 3ms/step - loss: 0.2514 - accuracy: 0.8870\n",
            "Epoch 890/1000\n",
            "8/8 [==============================] - 0s 3ms/step - loss: 0.2670 - accuracy: 0.8787\n",
            "Epoch 891/1000\n",
            "8/8 [==============================] - 0s 3ms/step - loss: 0.2489 - accuracy: 0.8787\n",
            "Epoch 892/1000\n",
            "8/8 [==============================] - 0s 3ms/step - loss: 0.2502 - accuracy: 0.8870\n",
            "Epoch 893/1000\n",
            "8/8 [==============================] - 0s 3ms/step - loss: 0.2428 - accuracy: 0.8912\n",
            "Epoch 894/1000\n",
            "8/8 [==============================] - 0s 3ms/step - loss: 0.2476 - accuracy: 0.8954\n",
            "Epoch 895/1000\n",
            "8/8 [==============================] - 0s 3ms/step - loss: 0.2474 - accuracy: 0.8996\n",
            "Epoch 896/1000\n",
            "8/8 [==============================] - 0s 3ms/step - loss: 0.2505 - accuracy: 0.8745\n",
            "Epoch 897/1000\n",
            "8/8 [==============================] - 0s 4ms/step - loss: 0.2649 - accuracy: 0.8870\n",
            "Epoch 898/1000\n",
            "8/8 [==============================] - 0s 3ms/step - loss: 0.2663 - accuracy: 0.8703\n",
            "Epoch 899/1000\n",
            "8/8 [==============================] - 0s 3ms/step - loss: 0.2557 - accuracy: 0.8787\n",
            "Epoch 900/1000\n",
            "8/8 [==============================] - 0s 4ms/step - loss: 0.2537 - accuracy: 0.8703\n",
            "Epoch 901/1000\n",
            "8/8 [==============================] - 0s 3ms/step - loss: 0.2564 - accuracy: 0.8996\n",
            "Epoch 902/1000\n",
            "8/8 [==============================] - 0s 3ms/step - loss: 0.2516 - accuracy: 0.8828\n",
            "Epoch 903/1000\n",
            "8/8 [==============================] - 0s 3ms/step - loss: 0.2445 - accuracy: 0.8912\n",
            "Epoch 904/1000\n",
            "8/8 [==============================] - 0s 3ms/step - loss: 0.2492 - accuracy: 0.9079\n",
            "Epoch 905/1000\n",
            "8/8 [==============================] - 0s 3ms/step - loss: 0.2551 - accuracy: 0.8787\n",
            "Epoch 906/1000\n",
            "8/8 [==============================] - 0s 2ms/step - loss: 0.2447 - accuracy: 0.8954\n",
            "Epoch 907/1000\n",
            "8/8 [==============================] - 0s 3ms/step - loss: 0.2448 - accuracy: 0.8912\n",
            "Epoch 908/1000\n",
            "8/8 [==============================] - 0s 3ms/step - loss: 0.2541 - accuracy: 0.8787\n",
            "Epoch 909/1000\n",
            "8/8 [==============================] - 0s 3ms/step - loss: 0.2564 - accuracy: 0.8912\n",
            "Epoch 910/1000\n",
            "8/8 [==============================] - 0s 3ms/step - loss: 0.2544 - accuracy: 0.8828\n",
            "Epoch 911/1000\n",
            "8/8 [==============================] - 0s 3ms/step - loss: 0.2432 - accuracy: 0.8954\n",
            "Epoch 912/1000\n",
            "8/8 [==============================] - 0s 3ms/step - loss: 0.2503 - accuracy: 0.8912\n",
            "Epoch 913/1000\n",
            "8/8 [==============================] - 0s 3ms/step - loss: 0.2472 - accuracy: 0.8828\n",
            "Epoch 914/1000\n",
            "8/8 [==============================] - 0s 3ms/step - loss: 0.2469 - accuracy: 0.8912\n",
            "Epoch 915/1000\n",
            "8/8 [==============================] - 0s 3ms/step - loss: 0.2474 - accuracy: 0.8787\n",
            "Epoch 916/1000\n",
            "8/8 [==============================] - 0s 3ms/step - loss: 0.2509 - accuracy: 0.8954\n",
            "Epoch 917/1000\n",
            "8/8 [==============================] - 0s 3ms/step - loss: 0.2586 - accuracy: 0.8745\n",
            "Epoch 918/1000\n",
            "8/8 [==============================] - 0s 3ms/step - loss: 0.2565 - accuracy: 0.8870\n",
            "Epoch 919/1000\n",
            "8/8 [==============================] - 0s 3ms/step - loss: 0.2596 - accuracy: 0.8996\n",
            "Epoch 920/1000\n",
            "8/8 [==============================] - 0s 3ms/step - loss: 0.2975 - accuracy: 0.8577\n",
            "Epoch 921/1000\n",
            "8/8 [==============================] - 0s 3ms/step - loss: 0.2967 - accuracy: 0.8954\n",
            "Epoch 922/1000\n",
            "8/8 [==============================] - 0s 3ms/step - loss: 0.2452 - accuracy: 0.8787\n",
            "Epoch 923/1000\n",
            "8/8 [==============================] - 0s 3ms/step - loss: 0.2438 - accuracy: 0.8954\n",
            "Epoch 924/1000\n",
            "8/8 [==============================] - 0s 4ms/step - loss: 0.2481 - accuracy: 0.8787\n",
            "Epoch 925/1000\n",
            "8/8 [==============================] - 0s 3ms/step - loss: 0.2523 - accuracy: 0.8996\n",
            "Epoch 926/1000\n",
            "8/8 [==============================] - 0s 3ms/step - loss: 0.2551 - accuracy: 0.8954\n",
            "Epoch 927/1000\n",
            "8/8 [==============================] - 0s 3ms/step - loss: 0.2533 - accuracy: 0.8870\n",
            "Epoch 928/1000\n",
            "8/8 [==============================] - 0s 3ms/step - loss: 0.2436 - accuracy: 0.8954\n",
            "Epoch 929/1000\n",
            "8/8 [==============================] - 0s 3ms/step - loss: 0.2459 - accuracy: 0.8828\n",
            "Epoch 930/1000\n",
            "8/8 [==============================] - 0s 3ms/step - loss: 0.2449 - accuracy: 0.8954\n",
            "Epoch 931/1000\n",
            "8/8 [==============================] - 0s 3ms/step - loss: 0.2471 - accuracy: 0.8996\n",
            "Epoch 932/1000\n",
            "8/8 [==============================] - 0s 3ms/step - loss: 0.2435 - accuracy: 0.8912\n",
            "Epoch 933/1000\n",
            "8/8 [==============================] - 0s 4ms/step - loss: 0.2494 - accuracy: 0.8828\n",
            "Epoch 934/1000\n",
            "8/8 [==============================] - 0s 2ms/step - loss: 0.2612 - accuracy: 0.8954\n",
            "Epoch 935/1000\n",
            "8/8 [==============================] - 0s 3ms/step - loss: 0.2605 - accuracy: 0.8870\n",
            "Epoch 936/1000\n",
            "8/8 [==============================] - 0s 3ms/step - loss: 0.2735 - accuracy: 0.8787\n",
            "Epoch 937/1000\n",
            "8/8 [==============================] - 0s 3ms/step - loss: 0.2873 - accuracy: 0.8619\n",
            "Epoch 938/1000\n",
            "8/8 [==============================] - 0s 3ms/step - loss: 0.2539 - accuracy: 0.8954\n",
            "Epoch 939/1000\n",
            "8/8 [==============================] - 0s 3ms/step - loss: 0.2790 - accuracy: 0.8828\n",
            "Epoch 940/1000\n",
            "8/8 [==============================] - 0s 3ms/step - loss: 0.2530 - accuracy: 0.8996\n",
            "Epoch 941/1000\n",
            "8/8 [==============================] - 0s 3ms/step - loss: 0.2780 - accuracy: 0.8661\n",
            "Epoch 942/1000\n",
            "8/8 [==============================] - 0s 3ms/step - loss: 0.2500 - accuracy: 0.9038\n",
            "Epoch 943/1000\n",
            "8/8 [==============================] - 0s 3ms/step - loss: 0.2756 - accuracy: 0.8787\n",
            "Epoch 944/1000\n",
            "8/8 [==============================] - 0s 3ms/step - loss: 0.2794 - accuracy: 0.8828\n",
            "Epoch 945/1000\n",
            "8/8 [==============================] - 0s 4ms/step - loss: 0.2599 - accuracy: 0.8954\n",
            "Epoch 946/1000\n",
            "8/8 [==============================] - 0s 3ms/step - loss: 0.2523 - accuracy: 0.8787\n",
            "Epoch 947/1000\n",
            "8/8 [==============================] - 0s 3ms/step - loss: 0.2580 - accuracy: 0.8745\n",
            "Epoch 948/1000\n",
            "8/8 [==============================] - 0s 3ms/step - loss: 0.2528 - accuracy: 0.8996\n",
            "Epoch 949/1000\n",
            "8/8 [==============================] - 0s 3ms/step - loss: 0.2465 - accuracy: 0.8912\n",
            "Epoch 950/1000\n",
            "8/8 [==============================] - 0s 3ms/step - loss: 0.2440 - accuracy: 0.9038\n",
            "Epoch 951/1000\n",
            "8/8 [==============================] - 0s 3ms/step - loss: 0.2592 - accuracy: 0.8870\n",
            "Epoch 952/1000\n",
            "8/8 [==============================] - 0s 3ms/step - loss: 0.2650 - accuracy: 0.8954\n",
            "Epoch 953/1000\n",
            "8/8 [==============================] - 0s 3ms/step - loss: 0.2493 - accuracy: 0.8787\n",
            "Epoch 954/1000\n",
            "8/8 [==============================] - 0s 3ms/step - loss: 0.2510 - accuracy: 0.8870\n",
            "Epoch 955/1000\n",
            "8/8 [==============================] - 0s 3ms/step - loss: 0.2625 - accuracy: 0.8912\n",
            "Epoch 956/1000\n",
            "8/8 [==============================] - 0s 3ms/step - loss: 0.2863 - accuracy: 0.8828\n",
            "Epoch 957/1000\n",
            "8/8 [==============================] - 0s 3ms/step - loss: 0.2493 - accuracy: 0.8828\n",
            "Epoch 958/1000\n",
            "8/8 [==============================] - 0s 3ms/step - loss: 0.2559 - accuracy: 0.8954\n",
            "Epoch 959/1000\n",
            "8/8 [==============================] - 0s 3ms/step - loss: 0.2693 - accuracy: 0.8787\n",
            "Epoch 960/1000\n",
            "8/8 [==============================] - 0s 3ms/step - loss: 0.2569 - accuracy: 0.8996\n",
            "Epoch 961/1000\n",
            "8/8 [==============================] - 0s 3ms/step - loss: 0.2520 - accuracy: 0.8912\n",
            "Epoch 962/1000\n",
            "8/8 [==============================] - 0s 3ms/step - loss: 0.2574 - accuracy: 0.9038\n",
            "Epoch 963/1000\n",
            "8/8 [==============================] - 0s 3ms/step - loss: 0.2770 - accuracy: 0.8954\n",
            "Epoch 964/1000\n",
            "8/8 [==============================] - 0s 3ms/step - loss: 0.2737 - accuracy: 0.8703\n",
            "Epoch 965/1000\n",
            "8/8 [==============================] - 0s 3ms/step - loss: 0.2466 - accuracy: 0.8912\n",
            "Epoch 966/1000\n",
            "8/8 [==============================] - 0s 4ms/step - loss: 0.2463 - accuracy: 0.8912\n",
            "Epoch 967/1000\n",
            "8/8 [==============================] - 0s 3ms/step - loss: 0.2456 - accuracy: 0.8787\n",
            "Epoch 968/1000\n",
            "8/8 [==============================] - 0s 3ms/step - loss: 0.2436 - accuracy: 0.8996\n",
            "Epoch 969/1000\n",
            "8/8 [==============================] - 0s 3ms/step - loss: 0.2529 - accuracy: 0.8996\n",
            "Epoch 970/1000\n",
            "8/8 [==============================] - 0s 3ms/step - loss: 0.2817 - accuracy: 0.8745\n",
            "Epoch 971/1000\n",
            "8/8 [==============================] - 0s 3ms/step - loss: 0.2632 - accuracy: 0.8912\n",
            "Epoch 972/1000\n",
            "8/8 [==============================] - 0s 3ms/step - loss: 0.2624 - accuracy: 0.8870\n",
            "Epoch 973/1000\n",
            "8/8 [==============================] - 0s 3ms/step - loss: 0.2842 - accuracy: 0.8745\n",
            "Epoch 974/1000\n",
            "8/8 [==============================] - 0s 3ms/step - loss: 0.2982 - accuracy: 0.8661\n",
            "Epoch 975/1000\n",
            "8/8 [==============================] - 0s 3ms/step - loss: 0.2700 - accuracy: 0.8870\n",
            "Epoch 976/1000\n",
            "8/8 [==============================] - 0s 3ms/step - loss: 0.2471 - accuracy: 0.8954\n",
            "Epoch 977/1000\n",
            "8/8 [==============================] - 0s 3ms/step - loss: 0.2498 - accuracy: 0.8828\n",
            "Epoch 978/1000\n",
            "8/8 [==============================] - 0s 3ms/step - loss: 0.2712 - accuracy: 0.8828\n",
            "Epoch 979/1000\n",
            "8/8 [==============================] - 0s 3ms/step - loss: 0.2464 - accuracy: 0.8870\n",
            "Epoch 980/1000\n",
            "8/8 [==============================] - 0s 3ms/step - loss: 0.2437 - accuracy: 0.9038\n",
            "Epoch 981/1000\n",
            "8/8 [==============================] - 0s 2ms/step - loss: 0.2499 - accuracy: 0.8787\n",
            "Epoch 982/1000\n",
            "8/8 [==============================] - 0s 4ms/step - loss: 0.2439 - accuracy: 0.8996\n",
            "Epoch 983/1000\n",
            "8/8 [==============================] - 0s 3ms/step - loss: 0.2431 - accuracy: 0.8787\n",
            "Epoch 984/1000\n",
            "8/8 [==============================] - 0s 3ms/step - loss: 0.2548 - accuracy: 0.8912\n",
            "Epoch 985/1000\n",
            "8/8 [==============================] - 0s 3ms/step - loss: 0.2481 - accuracy: 0.8745\n",
            "Epoch 986/1000\n",
            "8/8 [==============================] - 0s 3ms/step - loss: 0.2576 - accuracy: 0.9038\n",
            "Epoch 987/1000\n",
            "8/8 [==============================] - 0s 3ms/step - loss: 0.2722 - accuracy: 0.8787\n",
            "Epoch 988/1000\n",
            "8/8 [==============================] - 0s 2ms/step - loss: 0.2615 - accuracy: 0.8745\n",
            "Epoch 989/1000\n",
            "8/8 [==============================] - 0s 3ms/step - loss: 0.2524 - accuracy: 0.8912\n",
            "Epoch 990/1000\n",
            "8/8 [==============================] - 0s 3ms/step - loss: 0.2663 - accuracy: 0.8828\n",
            "Epoch 991/1000\n",
            "8/8 [==============================] - 0s 3ms/step - loss: 0.2472 - accuracy: 0.9121\n",
            "Epoch 992/1000\n",
            "8/8 [==============================] - 0s 2ms/step - loss: 0.2501 - accuracy: 0.8912\n",
            "Epoch 993/1000\n",
            "8/8 [==============================] - 0s 2ms/step - loss: 0.2479 - accuracy: 0.8828\n",
            "Epoch 994/1000\n",
            "8/8 [==============================] - 0s 2ms/step - loss: 0.2479 - accuracy: 0.8996\n",
            "Epoch 995/1000\n",
            "8/8 [==============================] - 0s 2ms/step - loss: 0.2561 - accuracy: 0.8828\n",
            "Epoch 996/1000\n",
            "8/8 [==============================] - 0s 2ms/step - loss: 0.2405 - accuracy: 0.8870\n",
            "Epoch 997/1000\n",
            "8/8 [==============================] - 0s 2ms/step - loss: 0.2723 - accuracy: 0.8828\n",
            "Epoch 998/1000\n",
            "8/8 [==============================] - 0s 2ms/step - loss: 0.2768 - accuracy: 0.8828\n",
            "Epoch 999/1000\n",
            "8/8 [==============================] - 0s 2ms/step - loss: 0.2854 - accuracy: 0.8912\n",
            "Epoch 1000/1000\n",
            "8/8 [==============================] - 0s 2ms/step - loss: 0.2546 - accuracy: 0.8912\n"
          ]
        },
        {
          "output_type": "execute_result",
          "data": {
            "text/plain": [
              "<keras.callbacks.History at 0x7f52277a0790>"
            ]
          },
          "metadata": {},
          "execution_count": 65
        }
      ]
    },
    {
      "cell_type": "code",
      "source": [
        "Y_pred_nn = model.predict(X_test)"
      ],
      "metadata": {
        "colab": {
          "base_uri": "https://localhost:8080/"
        },
        "id": "WzSeHqOqCQrt",
        "outputId": "3ed8387f-4f65-4034-b178-89303af07717"
      },
      "execution_count": 66,
      "outputs": [
        {
          "output_type": "stream",
          "name": "stdout",
          "text": [
            "2/2 [==============================] - 0s 4ms/step\n"
          ]
        }
      ]
    },
    {
      "cell_type": "code",
      "source": [
        "Y_pred_nn.shape"
      ],
      "metadata": {
        "colab": {
          "base_uri": "https://localhost:8080/"
        },
        "id": "pVYKPK3mCQuk",
        "outputId": "99918da4-0b58-48f5-b799-b58187d1aad2"
      },
      "execution_count": 67,
      "outputs": [
        {
          "output_type": "execute_result",
          "data": {
            "text/plain": [
              "(60, 1)"
            ]
          },
          "metadata": {},
          "execution_count": 67
        }
      ]
    },
    {
      "cell_type": "code",
      "source": [
        "rounded = [round(x[0]) for x in Y_pred_nn]\n",
        "\n",
        "Y_pred_nn = rounded"
      ],
      "metadata": {
        "id": "sqCzAzzUCQxR"
      },
      "execution_count": 68,
      "outputs": []
    },
    {
      "cell_type": "code",
      "source": [
        "score_nn = round(accuracy_score(Y_pred_nn,Y_test)*100,2)\n",
        "\n",
        "print(\"The accuracy score achieved using Neural Network is: \"+str(score_nn)+\" %\")\n",
        "\n",
        "#Note: Accuracy of 85% can be achieved on the test set, by setting epochs=2000, and number of nodes = 11. \n"
      ],
      "metadata": {
        "colab": {
          "base_uri": "https://localhost:8080/"
        },
        "id": "Gko392kECQ0N",
        "outputId": "632b39f9-4bd3-43c2-eb24-364f02dbf2a8"
      },
      "execution_count": 69,
      "outputs": [
        {
          "output_type": "stream",
          "name": "stdout",
          "text": [
            "The accuracy score achieved using Neural Network is: 85.0 %\n"
          ]
        }
      ]
    },
    {
      "cell_type": "code",
      "source": [
        "scores = [score_lr,score_nb,score_svm,score_knn,score_dt,score_rf,score_xgb,score_nn]\n",
        "algorithms = [\"Logistic Regression\",\"Naive Bayes\",\"Support Vector Machine\",\"K-Nearest Neighbors\",\"Decision Tree\",\"Random Forest\",\"XGBoost\",\"Neural Network\"]    \n",
        "\n",
        "for i in range(len(algorithms)):\n",
        "    print(\"The accuracy score achieved using \"+algorithms[i]+\" is: \"+str(scores[i])+\" %\")\n"
      ],
      "metadata": {
        "colab": {
          "base_uri": "https://localhost:8080/"
        },
        "id": "dlV672vqCQ3a",
        "outputId": "badd2f47-5e8e-40a3-dfa7-5cdd27b14262"
      },
      "execution_count": 70,
      "outputs": [
        {
          "output_type": "stream",
          "name": "stdout",
          "text": [
            "The accuracy score achieved using Logistic Regression is: 83.33 %\n",
            "The accuracy score achieved using Naive Bayes is: 80.0 %\n",
            "The accuracy score achieved using Support Vector Machine is: 83.33 %\n",
            "The accuracy score achieved using K-Nearest Neighbors is: 70.0 %\n",
            "The accuracy score achieved using Decision Tree is: 86.67 %\n",
            "The accuracy score achieved using Random Forest is: 93.33 %\n",
            "The accuracy score achieved using XGBoost is: 91.67 %\n",
            "The accuracy score achieved using Neural Network is: 85.0 %\n"
          ]
        }
      ]
    },
    {
      "cell_type": "code",
      "source": [
        "scores = [score_lr,score_nb,score_svm,score_knn,score_dt,score_rf,score_xgb,score_nn]\n",
        "models = pd.DataFrame({'Algorithms':[\"Logistic Regression\",\"Naive Bayes\",\"Support Vector Machine\",\"K-Nearest Neighbors\",\"Decision Tree\",\"Random Forest\",\"XGBoost\",\"Neural Network\"],'Accuracy':scores})    \n",
        "\n",
        "models.sort_values(by='Accuracy', ascending = False)"
      ],
      "metadata": {
        "colab": {
          "base_uri": "https://localhost:8080/",
          "height": 300
        },
        "id": "0znX_DS1359c",
        "outputId": "d8441518-d893-4fab-85af-4be80c93c223"
      },
      "execution_count": 73,
      "outputs": [
        {
          "output_type": "execute_result",
          "data": {
            "text/plain": [
              "               Algorithms  Accuracy\n",
              "5           Random Forest     93.33\n",
              "6                 XGBoost     91.67\n",
              "4           Decision Tree     86.67\n",
              "7          Neural Network     85.00\n",
              "0     Logistic Regression     83.33\n",
              "2  Support Vector Machine     83.33\n",
              "1             Naive Bayes     80.00\n",
              "3     K-Nearest Neighbors     70.00"
            ],
            "text/html": [
              "\n",
              "  <div id=\"df-d50abf47-dc84-4f18-a89e-d4b9dd4c9dd2\">\n",
              "    <div class=\"colab-df-container\">\n",
              "      <div>\n",
              "<style scoped>\n",
              "    .dataframe tbody tr th:only-of-type {\n",
              "        vertical-align: middle;\n",
              "    }\n",
              "\n",
              "    .dataframe tbody tr th {\n",
              "        vertical-align: top;\n",
              "    }\n",
              "\n",
              "    .dataframe thead th {\n",
              "        text-align: right;\n",
              "    }\n",
              "</style>\n",
              "<table border=\"1\" class=\"dataframe\">\n",
              "  <thead>\n",
              "    <tr style=\"text-align: right;\">\n",
              "      <th></th>\n",
              "      <th>Algorithms</th>\n",
              "      <th>Accuracy</th>\n",
              "    </tr>\n",
              "  </thead>\n",
              "  <tbody>\n",
              "    <tr>\n",
              "      <th>5</th>\n",
              "      <td>Random Forest</td>\n",
              "      <td>93.33</td>\n",
              "    </tr>\n",
              "    <tr>\n",
              "      <th>6</th>\n",
              "      <td>XGBoost</td>\n",
              "      <td>91.67</td>\n",
              "    </tr>\n",
              "    <tr>\n",
              "      <th>4</th>\n",
              "      <td>Decision Tree</td>\n",
              "      <td>86.67</td>\n",
              "    </tr>\n",
              "    <tr>\n",
              "      <th>7</th>\n",
              "      <td>Neural Network</td>\n",
              "      <td>85.00</td>\n",
              "    </tr>\n",
              "    <tr>\n",
              "      <th>0</th>\n",
              "      <td>Logistic Regression</td>\n",
              "      <td>83.33</td>\n",
              "    </tr>\n",
              "    <tr>\n",
              "      <th>2</th>\n",
              "      <td>Support Vector Machine</td>\n",
              "      <td>83.33</td>\n",
              "    </tr>\n",
              "    <tr>\n",
              "      <th>1</th>\n",
              "      <td>Naive Bayes</td>\n",
              "      <td>80.00</td>\n",
              "    </tr>\n",
              "    <tr>\n",
              "      <th>3</th>\n",
              "      <td>K-Nearest Neighbors</td>\n",
              "      <td>70.00</td>\n",
              "    </tr>\n",
              "  </tbody>\n",
              "</table>\n",
              "</div>\n",
              "      <button class=\"colab-df-convert\" onclick=\"convertToInteractive('df-d50abf47-dc84-4f18-a89e-d4b9dd4c9dd2')\"\n",
              "              title=\"Convert this dataframe to an interactive table.\"\n",
              "              style=\"display:none;\">\n",
              "        \n",
              "  <svg xmlns=\"http://www.w3.org/2000/svg\" height=\"24px\"viewBox=\"0 0 24 24\"\n",
              "       width=\"24px\">\n",
              "    <path d=\"M0 0h24v24H0V0z\" fill=\"none\"/>\n",
              "    <path d=\"M18.56 5.44l.94 2.06.94-2.06 2.06-.94-2.06-.94-.94-2.06-.94 2.06-2.06.94zm-11 1L8.5 8.5l.94-2.06 2.06-.94-2.06-.94L8.5 2.5l-.94 2.06-2.06.94zm10 10l.94 2.06.94-2.06 2.06-.94-2.06-.94-.94-2.06-.94 2.06-2.06.94z\"/><path d=\"M17.41 7.96l-1.37-1.37c-.4-.4-.92-.59-1.43-.59-.52 0-1.04.2-1.43.59L10.3 9.45l-7.72 7.72c-.78.78-.78 2.05 0 2.83L4 21.41c.39.39.9.59 1.41.59.51 0 1.02-.2 1.41-.59l7.78-7.78 2.81-2.81c.8-.78.8-2.07 0-2.86zM5.41 20L4 18.59l7.72-7.72 1.47 1.35L5.41 20z\"/>\n",
              "  </svg>\n",
              "      </button>\n",
              "      \n",
              "  <style>\n",
              "    .colab-df-container {\n",
              "      display:flex;\n",
              "      flex-wrap:wrap;\n",
              "      gap: 12px;\n",
              "    }\n",
              "\n",
              "    .colab-df-convert {\n",
              "      background-color: #E8F0FE;\n",
              "      border: none;\n",
              "      border-radius: 50%;\n",
              "      cursor: pointer;\n",
              "      display: none;\n",
              "      fill: #1967D2;\n",
              "      height: 32px;\n",
              "      padding: 0 0 0 0;\n",
              "      width: 32px;\n",
              "    }\n",
              "\n",
              "    .colab-df-convert:hover {\n",
              "      background-color: #E2EBFA;\n",
              "      box-shadow: 0px 1px 2px rgba(60, 64, 67, 0.3), 0px 1px 3px 1px rgba(60, 64, 67, 0.15);\n",
              "      fill: #174EA6;\n",
              "    }\n",
              "\n",
              "    [theme=dark] .colab-df-convert {\n",
              "      background-color: #3B4455;\n",
              "      fill: #D2E3FC;\n",
              "    }\n",
              "\n",
              "    [theme=dark] .colab-df-convert:hover {\n",
              "      background-color: #434B5C;\n",
              "      box-shadow: 0px 1px 3px 1px rgba(0, 0, 0, 0.15);\n",
              "      filter: drop-shadow(0px 1px 2px rgba(0, 0, 0, 0.3));\n",
              "      fill: #FFFFFF;\n",
              "    }\n",
              "  </style>\n",
              "\n",
              "      <script>\n",
              "        const buttonEl =\n",
              "          document.querySelector('#df-d50abf47-dc84-4f18-a89e-d4b9dd4c9dd2 button.colab-df-convert');\n",
              "        buttonEl.style.display =\n",
              "          google.colab.kernel.accessAllowed ? 'block' : 'none';\n",
              "\n",
              "        async function convertToInteractive(key) {\n",
              "          const element = document.querySelector('#df-d50abf47-dc84-4f18-a89e-d4b9dd4c9dd2');\n",
              "          const dataTable =\n",
              "            await google.colab.kernel.invokeFunction('convertToInteractive',\n",
              "                                                     [key], {});\n",
              "          if (!dataTable) return;\n",
              "\n",
              "          const docLinkHtml = 'Like what you see? Visit the ' +\n",
              "            '<a target=\"_blank\" href=https://colab.research.google.com/notebooks/data_table.ipynb>data table notebook</a>'\n",
              "            + ' to learn more about interactive tables.';\n",
              "          element.innerHTML = '';\n",
              "          dataTable['output_type'] = 'display_data';\n",
              "          await google.colab.output.renderOutput(dataTable, element);\n",
              "          const docLink = document.createElement('div');\n",
              "          docLink.innerHTML = docLinkHtml;\n",
              "          element.appendChild(docLink);\n",
              "        }\n",
              "      </script>\n",
              "    </div>\n",
              "  </div>\n",
              "  "
            ]
          },
          "metadata": {},
          "execution_count": 73
        }
      ]
    },
    {
      "cell_type": "code",
      "source": [
        "sns.set(rc={'figure.figsize':(15,8)})\n",
        "plt.xlabel(\"Algorithms\")\n",
        "plt.ylabel(\"Accuracy score\")\n",
        "\n",
        "sns.barplot(algorithms,scores)"
      ],
      "metadata": {
        "colab": {
          "base_uri": "https://localhost:8080/",
          "height": 502
        },
        "id": "BUxf1LYACusb",
        "outputId": "1a94b736-0e76-4367-d811-a84ddc92299d"
      },
      "execution_count": 71,
      "outputs": [
        {
          "output_type": "execute_result",
          "data": {
            "text/plain": [
              "<matplotlib.axes._subplots.AxesSubplot at 0x7f5227715160>"
            ]
          },
          "metadata": {},
          "execution_count": 71
        },
        {
          "output_type": "display_data",
          "data": {
            "text/plain": [
              "<Figure size 1080x576 with 1 Axes>"
            ],
            "image/png": "[encoded data removed]"
          },
          "metadata": {}
        }
      ]
    },
    {
      "cell_type": "code",
      "source": [
        "input_data = (58,1,2,\t105,\t240,\t0,\t0,\t154,\t1,\t0.6\t,1,\t0,\t3)\n",
        "\n",
        "\n",
        "# change the input data to a numpy array\n",
        "input_data_as_numpy_array= np.asarray(input_data)\n",
        "\n",
        "# reshape the numpy array as we are predicting for only on instance\n",
        "input_data_reshaped = input_data_as_numpy_array.reshape(1,-1)\n",
        "\n",
        "prediction = rf.predict(input_data_reshaped)\n",
        "print(prediction)\n",
        "\n",
        "if (prediction[0]== 0):\n",
        "  print('The Person does not have a Heart Disease')\n",
        "else:\n",
        "  print('The Person has Heart Disease')"
      ],
      "metadata": {
        "colab": {
          "base_uri": "https://localhost:8080/"
        },
        "id": "rgEhWRCIFTKO",
        "outputId": "34a4eff8-bcb2-41bd-da66-9fd2bc0df3b8"
      },
      "execution_count": 72,
      "outputs": [
        {
          "output_type": "stream",
          "name": "stdout",
          "text": [
            "[1]\n",
            "The Person has Heart Disease\n"
          ]
        }
      ]
    }
  ]
}